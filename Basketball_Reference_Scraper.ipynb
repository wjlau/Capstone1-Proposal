{
 "cells": [
  {
   "cell_type": "code",
   "execution_count": 3,
   "id": "occasional-diversity",
   "metadata": {},
   "outputs": [],
   "source": [
    "from pymongo import MongoClient\n",
    "import pprint\n",
    "\n",
    "import pandas as pd\n",
    "import matplotlib.pyplot as plt\n",
    "\n",
    "import requests\n",
    "\n",
    "from bs4 import BeautifulSoup\n",
    "\n",
    "import json\n",
    "import datetime\n",
    "import calendar\n",
    "import time"
   ]
  },
  {
   "cell_type": "markdown",
   "id": "latin-distributor",
   "metadata": {},
   "source": [
    "## Request the webpage's raw HTML"
   ]
  },
  {
   "cell_type": "code",
   "execution_count": 4,
   "id": "plastic-registration",
   "metadata": {},
   "outputs": [],
   "source": [
    "url = 'https://www.basketball-reference.com/leagues/NBA_2019_games-october.html'\n",
    "r = requests.get(url)"
   ]
  },
  {
   "cell_type": "code",
   "execution_count": 5,
   "id": "silent-parks",
   "metadata": {},
   "outputs": [
    {
     "data": {
      "text/plain": [
       "200"
      ]
     },
     "execution_count": 5,
     "metadata": {},
     "output_type": "execute_result"
    }
   ],
   "source": [
    "r.status_code"
   ]
  },
  {
   "cell_type": "code",
   "execution_count": 4,
   "id": "blank-purple",
   "metadata": {},
   "outputs": [],
   "source": [
    "#pprint.pprint(r.text)"
   ]
  },
  {
   "cell_type": "markdown",
   "id": "athletic-fireplace",
   "metadata": {},
   "source": [
    "## Save the Raw HTML into a MongoDB"
   ]
  },
  {
   "cell_type": "code",
   "execution_count": 6,
   "id": "driving-updating",
   "metadata": {},
   "outputs": [],
   "source": [
    "client = MongoClient()\n",
    "db = client.capstone1_bball_reference"
   ]
  },
  {
   "cell_type": "code",
   "execution_count": 7,
   "id": "stuck-accuracy",
   "metadata": {},
   "outputs": [],
   "source": [
    "one_season = db.testing"
   ]
  },
  {
   "cell_type": "code",
   "execution_count": 7,
   "id": "certain-massage",
   "metadata": {},
   "outputs": [
    {
     "data": {
      "text/plain": [
       "<pymongo.results.InsertOneResult at 0x7f9664150c80>"
      ]
     },
     "execution_count": 7,
     "metadata": {},
     "output_type": "execute_result"
    }
   ],
   "source": [
    "# commenting out - do not want multiples if I rerun this notebook\n",
    "# one_season.insert_one({'link':url,'html':r.text})"
   ]
  },
  {
   "cell_type": "markdown",
   "id": "parental-boards",
   "metadata": {},
   "source": [
    "## Parse the hypertext to get data with Beautiful Soup"
   ]
  },
  {
   "cell_type": "code",
   "execution_count": 8,
   "id": "hybrid-fluid",
   "metadata": {},
   "outputs": [],
   "source": [
    "soup = BeautifulSoup(r.text,'html.parser')"
   ]
  },
  {
   "cell_type": "code",
   "execution_count": 9,
   "id": "excessive-future",
   "metadata": {},
   "outputs": [],
   "source": [
    "#print(soup.prettify())"
   ]
  },
  {
   "cell_type": "code",
   "execution_count": 10,
   "id": "rural-strap",
   "metadata": {},
   "outputs": [
    {
     "data": {
      "text/plain": [
       "<tr><th class=\"left\" csk=\"201810160BOS\" data-stat=\"date_game\" scope=\"row\"><a href=\"/boxscores/index.fcgi?month=10&amp;day=16&amp;year=2018\">Tue, Oct 16, 2018</a></th><td class=\"right\" data-stat=\"game_start_time\">8:00p</td><td class=\"left\" csk=\"PHI.201810160BOS\" data-stat=\"visitor_team_name\"><a href=\"/teams/PHI/2019.html\">Philadelphia 76ers</a></td><td class=\"right\" data-stat=\"visitor_pts\">87</td><td class=\"left\" csk=\"BOS.201810160BOS\" data-stat=\"home_team_name\"><a href=\"/teams/BOS/2019.html\">Boston Celtics</a></td><td class=\"right\" data-stat=\"home_pts\">105</td><td class=\"center\" data-stat=\"box_score_text\"><a href=\"/boxscores/201810160BOS.html\">Box Score</a></td><td class=\"center iz\" data-stat=\"overtimes\"></td><td class=\"right\" data-stat=\"attendance\">18,624</td><td class=\"left iz\" data-stat=\"game_remarks\"></td></tr>"
      ]
     },
     "execution_count": 10,
     "metadata": {},
     "output_type": "execute_result"
    }
   ],
   "source": [
    "soup.find_all('tr')[1] #get info for each game"
   ]
  },
  {
   "cell_type": "code",
   "execution_count": 11,
   "id": "consolidated-distinction",
   "metadata": {},
   "outputs": [
    {
     "data": {
      "text/plain": [
       "'Oct 16, 2018'"
      ]
     },
     "execution_count": 11,
     "metadata": {},
     "output_type": "execute_result"
    }
   ],
   "source": [
    "soup.find_all('tr')[1].find('a').text[5:] \n",
    "#get date for each game - removed day (all dates have a three letter abbrev. with a space and ','\n",
    "#five chars i.e. 'Tue, '"
   ]
  },
  {
   "cell_type": "code",
   "execution_count": 12,
   "id": "amino-waterproof",
   "metadata": {},
   "outputs": [
    {
     "data": {
      "text/plain": [
       "'Philadelphia 76ers'"
      ]
     },
     "execution_count": 12,
     "metadata": {},
     "output_type": "execute_result"
    }
   ],
   "source": [
    "soup.find_all('tr')[1].find_all('td','left')[0].text #get name of visiting team"
   ]
  },
  {
   "cell_type": "code",
   "execution_count": 13,
   "id": "cultural-aspect",
   "metadata": {},
   "outputs": [
    {
     "data": {
      "text/plain": [
       "'87'"
      ]
     },
     "execution_count": 13,
     "metadata": {},
     "output_type": "execute_result"
    }
   ],
   "source": [
    "soup.find_all('tr')[1].find_all('td','right')[1].text #get score of visiting team"
   ]
  },
  {
   "cell_type": "code",
   "execution_count": 14,
   "id": "eligible-discussion",
   "metadata": {},
   "outputs": [
    {
     "data": {
      "text/plain": [
       "'Boston Celtics'"
      ]
     },
     "execution_count": 14,
     "metadata": {},
     "output_type": "execute_result"
    }
   ],
   "source": [
    "soup.find_all('tr')[1].find_all('td','left')[1].text #get name of home team"
   ]
  },
  {
   "cell_type": "code",
   "execution_count": 15,
   "id": "juvenile-conversation",
   "metadata": {},
   "outputs": [
    {
     "data": {
      "text/plain": [
       "'105'"
      ]
     },
     "execution_count": 15,
     "metadata": {},
     "output_type": "execute_result"
    }
   ],
   "source": [
    "soup.find_all('tr')[1].find_all('td','right')[2].text #get score of home team"
   ]
  },
  {
   "cell_type": "markdown",
   "id": "theoretical-philadelphia",
   "metadata": {},
   "source": [
    "## Testing other pages. Charts are not consistent - older seasons are missing 'Start (ET)' columns\n",
    "Spot checked - there isn't some specific season that the column was adopted. Some are sporadic. Original spot check looked like 'Start(ET)' column starts 1985-86 and after, however, after clicking around some more, 1994-1995 did not have such column."
   ]
  },
  {
   "cell_type": "code",
   "execution_count": 9,
   "id": "exposed-invitation",
   "metadata": {},
   "outputs": [
    {
     "data": {
      "text/plain": [
       "200"
      ]
     },
     "execution_count": 9,
     "metadata": {},
     "output_type": "execute_result"
    }
   ],
   "source": [
    "url = 'https://www.basketball-reference.com/leagues/NBA_1959_games-november.html'\n",
    "x = requests.get(url)\n",
    "x.status_code"
   ]
  },
  {
   "cell_type": "code",
   "execution_count": 17,
   "id": "peripheral-greece",
   "metadata": {},
   "outputs": [],
   "source": [
    "#pprint.pprint(x.text)"
   ]
  },
  {
   "cell_type": "code",
   "execution_count": 18,
   "id": "fixed-thought",
   "metadata": {},
   "outputs": [
    {
     "data": {
      "text/plain": [
       "<pymongo.results.InsertOneResult at 0x7f96632a5870>"
      ]
     },
     "execution_count": 18,
     "metadata": {},
     "output_type": "execute_result"
    }
   ],
   "source": [
    "# commenting out - do not want multiples if I rerun this notebook\n",
    "# one_season.insert_one({'link':url,'html':x.text})"
   ]
  },
  {
   "cell_type": "code",
   "execution_count": 10,
   "id": "sudden-central",
   "metadata": {},
   "outputs": [],
   "source": [
    "soup2 = BeautifulSoup(x.text,'html.parser')"
   ]
  },
  {
   "cell_type": "code",
   "execution_count": 20,
   "id": "streaming-stake",
   "metadata": {},
   "outputs": [],
   "source": [
    "#print(soup2.prettify())"
   ]
  },
  {
   "cell_type": "code",
   "execution_count": 21,
   "id": "physical-recommendation",
   "metadata": {},
   "outputs": [
    {
     "data": {
      "text/plain": [
       "<tr><th class=\"left\" csk=\"195811010NYK\" data-stat=\"date_game\" scope=\"row\"><a href=\"/boxscores/index.fcgi?month=11&amp;day=1&amp;year=1958\">Sat, Nov 1, 1958</a></th><td class=\"left\" csk=\"PHW.195811010NYK\" data-stat=\"visitor_team_name\"><a href=\"/teams/PHW/1959.html\">Philadelphia Warriors</a></td><td class=\"right\" data-stat=\"visitor_pts\">111</td><td class=\"left\" csk=\"NYK.195811010NYK\" data-stat=\"home_team_name\"><a href=\"/teams/NYK/1959.html\">New York Knicks</a></td><td class=\"right\" data-stat=\"home_pts\">92</td><td class=\"center\" data-stat=\"box_score_text\"><a href=\"/boxscores/195811010NYK.html\">Box Score</a></td><td class=\"center iz\" data-stat=\"overtimes\"></td><td class=\"right iz\" data-stat=\"attendance\"></td><td class=\"left iz\" data-stat=\"game_remarks\"></td></tr>"
      ]
     },
     "execution_count": 21,
     "metadata": {},
     "output_type": "execute_result"
    }
   ],
   "source": [
    "soup2.find_all('tr')[1] #get info for each game"
   ]
  },
  {
   "cell_type": "code",
   "execution_count": 22,
   "id": "hollow-order",
   "metadata": {},
   "outputs": [
    {
     "data": {
      "text/plain": [
       "'Nov 1, 1958'"
      ]
     },
     "execution_count": 22,
     "metadata": {},
     "output_type": "execute_result"
    }
   ],
   "source": [
    "soup2.find_all('tr')[1].find('a').text[5:] \n",
    "#get date for each game - removed day (all dates have a three letter abbrev. with a space and ','\n",
    "#five chars i.e. 'Tue, "
   ]
  },
  {
   "cell_type": "code",
   "execution_count": 23,
   "id": "contemporary-recommendation",
   "metadata": {},
   "outputs": [
    {
     "data": {
      "text/plain": [
       "'Philadelphia Warriors'"
      ]
     },
     "execution_count": 23,
     "metadata": {},
     "output_type": "execute_result"
    }
   ],
   "source": [
    "soup2.find_all('tr')[1].find_all('td','left')[0].text #get name of visiting team"
   ]
  },
  {
   "cell_type": "code",
   "execution_count": 24,
   "id": "prescription-juice",
   "metadata": {},
   "outputs": [
    {
     "data": {
      "text/plain": [
       "'111'"
      ]
     },
     "execution_count": 24,
     "metadata": {},
     "output_type": "execute_result"
    }
   ],
   "source": [
    "soup2.find_all('tr')[1].find_all('td','right')[0].text #get score of visiting team - index at 0 instead of 1 because it does not have a Start (ET) column"
   ]
  },
  {
   "cell_type": "code",
   "execution_count": 25,
   "id": "pointed-yorkshire",
   "metadata": {},
   "outputs": [
    {
     "data": {
      "text/plain": [
       "'New York Knicks'"
      ]
     },
     "execution_count": 25,
     "metadata": {},
     "output_type": "execute_result"
    }
   ],
   "source": [
    "soup2.find_all('tr')[1].find_all('td','left')[1].text #get name of home team"
   ]
  },
  {
   "cell_type": "code",
   "execution_count": 26,
   "id": "destroyed-destruction",
   "metadata": {},
   "outputs": [
    {
     "data": {
      "text/plain": [
       "'92'"
      ]
     },
     "execution_count": 26,
     "metadata": {},
     "output_type": "execute_result"
    }
   ],
   "source": [
    "soup2.find_all('tr')[1].find_all('td','right')[1].text #get score of home team"
   ]
  },
  {
   "cell_type": "markdown",
   "id": "miniature-player",
   "metadata": {},
   "source": [
    "Spot checked - looks like there is either a Start (ET) column or there is not, there are no other changes to column names or number of columns. If this is the case, column counts will be either 9 or 10 depending on if it has the Start (ET) column. We can use this to dictate what index to pull from. This only affects pulling scores - team names are unaffected. (If there is a Start (ET) column the index will be 1 higher compared to when there is no Start (ET) column when pulling both visiting and home team scores)"
   ]
  },
  {
   "cell_type": "code",
   "execution_count": 27,
   "id": "funded-coral",
   "metadata": {},
   "outputs": [
    {
     "name": "stdout",
     "output_type": "stream",
     "text": [
      "87\n",
      "111\n"
     ]
    }
   ],
   "source": [
    "#check\n",
    "if len(soup.find_all('col')) == 9:\n",
    "    print(soup.find_all('tr')[1].find_all('td','right')[0].text)\n",
    "else:\n",
    "    print(soup.find_all('tr')[1].find_all('td','right')[1].text)\n",
    "\n",
    "if len(soup2.find_all('col')) == 9:\n",
    "    print(soup2.find_all('tr')[1].find_all('td','right')[0].text)\n",
    "else:\n",
    "    print(soup2.find_all('tr')[1].find_all('td','right')[1].text)"
   ]
  },
  {
   "cell_type": "markdown",
   "id": "wanted-madrid",
   "metadata": {},
   "source": [
    "## Ran into another issue. \"Notes\" column for some games denotes that the game was played elsewhere - not either teams' arenas"
   ]
  },
  {
   "cell_type": "raw",
   "id": "accomplished-prophet",
   "metadata": {},
   "source": [
    "Pull in notes column. Since some arena's were neither of the playing team's arena, we will drop those rows from our data. (i.e. 1958-1959 visitor - New York Knicks vs home - Boston Celtics at Philadelpha, PA)"
   ]
  },
  {
   "cell_type": "code",
   "execution_count": 28,
   "id": "massive-canada",
   "metadata": {},
   "outputs": [
    {
     "data": {
      "text/plain": [
       "''"
      ]
     },
     "execution_count": 28,
     "metadata": {},
     "output_type": "execute_result"
    }
   ],
   "source": [
    "soup2.find_all('tr')[1].find_all('td','left')[-1].text #difference in columns does not affect the the notes column - it is always the last column"
   ]
  },
  {
   "cell_type": "markdown",
   "id": "enhanced-chapel",
   "metadata": {},
   "source": [
    "## Gather information from other rows/games - games for the month"
   ]
  },
  {
   "cell_type": "code",
   "execution_count": 11,
   "id": "appointed-norfolk",
   "metadata": {},
   "outputs": [],
   "source": [
    "date = []\n",
    "visiting = []\n",
    "visiting_score = []\n",
    "home = []\n",
    "home_score = []\n",
    "season = []\n",
    "notes = []\n",
    "\n",
    "#2018-2019 season october example \n",
    "for i,game in enumerate(soup.find_all('tr')):\n",
    "    if game.a != None: #skips the chart label rows\n",
    "        datestring = game.find('a').text[5:]\n",
    "        dt = datetime.datetime.strptime(datestring,'%b %d, %Y') #change datestring to datetime object\n",
    "        date.append(dt)\n",
    "        visiting.append(game.find_all('td','left')[0].text)\n",
    "        home.append(game.find_all('td','left')[1].text)\n",
    "        season.append(soup.find_all('div','inactive')[0].find('li','index').text)\n",
    "        notes.append(game.find_all('td','left')[-1].text)\n",
    "        if len(soup.find_all('col'))==10: #takes care of the different column counts \n",
    "            visiting_score.append(int(game.find_all('td','right')[1].text))\n",
    "            home_score.append(int(game.find_all('td','right')[2].text))\n",
    "        else: \n",
    "            visiting_score.append(int(game.find_all('td','right')[0].text))\n",
    "            home_score.append(int(game.find_all('td','right')[1].text))\n",
    "        \n",
    "\n",
    "#1958-1959 season november example \n",
    "for i,game in enumerate(soup2.find_all('tr')):\n",
    "    if game.a != None: #skips the chart label rows\n",
    "        datestring = game.find('a').text[5:]\n",
    "        dt = datetime.datetime.strptime(datestring,'%b %d, %Y') #change datestring to datetime object\n",
    "        date.append(dt)\n",
    "        visiting.append(game.find_all('td','left')[0].text)\n",
    "        home.append(game.find_all('td','left')[1].text)\n",
    "        season.append(soup2.find_all('div','inactive')[0].find('li','index').text)\n",
    "        notes.append(game.find_all('td','left')[-1].text)\n",
    "        if len(soup2.find_all('col'))==10: #takes care of the different column counts \n",
    "            visiting_score.append(int(game.find_all('td','right')[1].text))\n",
    "            home_score.append(int(game.find_all('td','right')[2].text))\n",
    "        else: \n",
    "            visiting_score.append(int(game.find_all('td','right')[0].text))\n",
    "            home_score.append(int(game.find_all('td','right')[1].text))\n",
    "\n"
   ]
  },
  {
   "cell_type": "markdown",
   "id": "located-majority",
   "metadata": {},
   "source": [
    "## Need to account for games where schedules are out but have not been played yet so scores will be an empty string"
   ]
  },
  {
   "cell_type": "markdown",
   "id": "finnish-mechanism",
   "metadata": {},
   "source": [
    "Cannot cast empty string as an int - will get error. Change any empty strings to zeroes."
   ]
  },
  {
   "cell_type": "code",
   "execution_count": 43,
   "id": "informative-scientist",
   "metadata": {},
   "outputs": [
    {
     "data": {
      "text/plain": [
       "200"
      ]
     },
     "execution_count": 43,
     "metadata": {},
     "output_type": "execute_result"
    }
   ],
   "source": [
    "#2020-2021 season february example\n",
    "url = 'https://www.basketball-reference.com/leagues/NBA_2021_games-february.html'\n",
    "c = requests.get(url)\n",
    "c.status_code"
   ]
  },
  {
   "cell_type": "code",
   "execution_count": 44,
   "id": "mature-athletics",
   "metadata": {},
   "outputs": [],
   "source": [
    "soup3 = BeautifulSoup(c.text,'html.parser')"
   ]
  },
  {
   "cell_type": "code",
   "execution_count": 50,
   "id": "amazing-holocaust",
   "metadata": {},
   "outputs": [],
   "source": [
    "for i,game in enumerate(soup3.find_all('tr')):\n",
    "    if game.a != None: #skips the chart label rows\n",
    "        datestring = game.find('a').text[5:]\n",
    "        dt = datetime.datetime.strptime(datestring,'%b %d, %Y') #change datestring to datetime object\n",
    "        date.append(dt)\n",
    "        visiting.append(game.find_all('td','left')[0].text)\n",
    "        home.append(game.find_all('td','left')[1].text)\n",
    "        season.append(soup3.find_all('div','inactive')[0].find('li','index').text)\n",
    "        notes.append(game.find_all('td','left')[-1].text)\n",
    "        if len(soup3.find_all('col'))==10: #takes care of the different column counts \n",
    "            if (game.find_all('td','right')[1].text) != '':\n",
    "                visiting_score.append(int(game.find_all('td','right')[1].text))\n",
    "                home_score.append(int(game.find_all('td','right')[2].text))\n",
    "            else:\n",
    "                visiting_score.append(0)\n",
    "                home_score.append(0)\n",
    "        else: \n",
    "            if (game.find_all('td','right')[0].text) != '':\n",
    "                visiting_score.append(int(game.find_all('td','right')[0].text))\n",
    "                home_score.append(int(game.find_all('td','right')[1].text))\n",
    "            else:\n",
    "                visiting_score.append(0)\n",
    "                home_score.append(0)\n"
   ]
  },
  {
   "cell_type": "markdown",
   "id": "freelance-valve",
   "metadata": {},
   "source": [
    "## Change columns of data to a DF to spot check"
   ]
  },
  {
   "cell_type": "code",
   "execution_count": 51,
   "id": "assured-hearts",
   "metadata": {},
   "outputs": [
    {
     "ename": "ValueError",
     "evalue": "arrays must all be same length",
     "output_type": "error",
     "traceback": [
      "\u001b[0;31m---------------------------------------------------------------------------\u001b[0m",
      "\u001b[0;31mValueError\u001b[0m                                Traceback (most recent call last)",
      "\u001b[0;32m<ipython-input-51-aec1ce008f6b>\u001b[0m in \u001b[0;36m<module>\u001b[0;34m\u001b[0m\n\u001b[1;32m      1\u001b[0m examples = pd.DataFrame({'date':date,'season':season,'visiting_team':visiting,'visiting_score':visiting_score,\n\u001b[0;32m----> 2\u001b[0;31m                   'home_team':home, 'home_score':home_score, 'notes':notes})\n\u001b[0m\u001b[1;32m      3\u001b[0m \u001b[0;31m# examples[examples.notes != '']\u001b[0m\u001b[0;34m\u001b[0m\u001b[0;34m\u001b[0m\u001b[0;34m\u001b[0m\u001b[0m\n",
      "\u001b[0;32m/opt/anaconda3/lib/python3.7/site-packages/pandas/core/frame.py\u001b[0m in \u001b[0;36m__init__\u001b[0;34m(self, data, index, columns, dtype, copy)\u001b[0m\n\u001b[1;32m    527\u001b[0m \u001b[0;34m\u001b[0m\u001b[0m\n\u001b[1;32m    528\u001b[0m         \u001b[0;32melif\u001b[0m \u001b[0misinstance\u001b[0m\u001b[0;34m(\u001b[0m\u001b[0mdata\u001b[0m\u001b[0;34m,\u001b[0m \u001b[0mdict\u001b[0m\u001b[0;34m)\u001b[0m\u001b[0;34m:\u001b[0m\u001b[0;34m\u001b[0m\u001b[0;34m\u001b[0m\u001b[0m\n\u001b[0;32m--> 529\u001b[0;31m             \u001b[0mmgr\u001b[0m \u001b[0;34m=\u001b[0m \u001b[0minit_dict\u001b[0m\u001b[0;34m(\u001b[0m\u001b[0mdata\u001b[0m\u001b[0;34m,\u001b[0m \u001b[0mindex\u001b[0m\u001b[0;34m,\u001b[0m \u001b[0mcolumns\u001b[0m\u001b[0;34m,\u001b[0m \u001b[0mdtype\u001b[0m\u001b[0;34m=\u001b[0m\u001b[0mdtype\u001b[0m\u001b[0;34m)\u001b[0m\u001b[0;34m\u001b[0m\u001b[0;34m\u001b[0m\u001b[0m\n\u001b[0m\u001b[1;32m    530\u001b[0m         \u001b[0;32melif\u001b[0m \u001b[0misinstance\u001b[0m\u001b[0;34m(\u001b[0m\u001b[0mdata\u001b[0m\u001b[0;34m,\u001b[0m \u001b[0mma\u001b[0m\u001b[0;34m.\u001b[0m\u001b[0mMaskedArray\u001b[0m\u001b[0;34m)\u001b[0m\u001b[0;34m:\u001b[0m\u001b[0;34m\u001b[0m\u001b[0;34m\u001b[0m\u001b[0m\n\u001b[1;32m    531\u001b[0m             \u001b[0;32mimport\u001b[0m \u001b[0mnumpy\u001b[0m\u001b[0;34m.\u001b[0m\u001b[0mma\u001b[0m\u001b[0;34m.\u001b[0m\u001b[0mmrecords\u001b[0m \u001b[0;32mas\u001b[0m \u001b[0mmrecords\u001b[0m\u001b[0;34m\u001b[0m\u001b[0;34m\u001b[0m\u001b[0m\n",
      "\u001b[0;32m/opt/anaconda3/lib/python3.7/site-packages/pandas/core/internals/construction.py\u001b[0m in \u001b[0;36minit_dict\u001b[0;34m(data, index, columns, dtype)\u001b[0m\n\u001b[1;32m    285\u001b[0m             \u001b[0marr\u001b[0m \u001b[0;32mif\u001b[0m \u001b[0;32mnot\u001b[0m \u001b[0mis_datetime64tz_dtype\u001b[0m\u001b[0;34m(\u001b[0m\u001b[0marr\u001b[0m\u001b[0;34m)\u001b[0m \u001b[0;32melse\u001b[0m \u001b[0marr\u001b[0m\u001b[0;34m.\u001b[0m\u001b[0mcopy\u001b[0m\u001b[0;34m(\u001b[0m\u001b[0;34m)\u001b[0m \u001b[0;32mfor\u001b[0m \u001b[0marr\u001b[0m \u001b[0;32min\u001b[0m \u001b[0marrays\u001b[0m\u001b[0;34m\u001b[0m\u001b[0;34m\u001b[0m\u001b[0m\n\u001b[1;32m    286\u001b[0m         ]\n\u001b[0;32m--> 287\u001b[0;31m     \u001b[0;32mreturn\u001b[0m \u001b[0marrays_to_mgr\u001b[0m\u001b[0;34m(\u001b[0m\u001b[0marrays\u001b[0m\u001b[0;34m,\u001b[0m \u001b[0mdata_names\u001b[0m\u001b[0;34m,\u001b[0m \u001b[0mindex\u001b[0m\u001b[0;34m,\u001b[0m \u001b[0mcolumns\u001b[0m\u001b[0;34m,\u001b[0m \u001b[0mdtype\u001b[0m\u001b[0;34m=\u001b[0m\u001b[0mdtype\u001b[0m\u001b[0;34m)\u001b[0m\u001b[0;34m\u001b[0m\u001b[0;34m\u001b[0m\u001b[0m\n\u001b[0m\u001b[1;32m    288\u001b[0m \u001b[0;34m\u001b[0m\u001b[0m\n\u001b[1;32m    289\u001b[0m \u001b[0;34m\u001b[0m\u001b[0m\n",
      "\u001b[0;32m/opt/anaconda3/lib/python3.7/site-packages/pandas/core/internals/construction.py\u001b[0m in \u001b[0;36marrays_to_mgr\u001b[0;34m(arrays, arr_names, index, columns, dtype, verify_integrity)\u001b[0m\n\u001b[1;32m     78\u001b[0m         \u001b[0;31m# figure out the index, if necessary\u001b[0m\u001b[0;34m\u001b[0m\u001b[0;34m\u001b[0m\u001b[0;34m\u001b[0m\u001b[0m\n\u001b[1;32m     79\u001b[0m         \u001b[0;32mif\u001b[0m \u001b[0mindex\u001b[0m \u001b[0;32mis\u001b[0m \u001b[0;32mNone\u001b[0m\u001b[0;34m:\u001b[0m\u001b[0;34m\u001b[0m\u001b[0;34m\u001b[0m\u001b[0m\n\u001b[0;32m---> 80\u001b[0;31m             \u001b[0mindex\u001b[0m \u001b[0;34m=\u001b[0m \u001b[0mextract_index\u001b[0m\u001b[0;34m(\u001b[0m\u001b[0marrays\u001b[0m\u001b[0;34m)\u001b[0m\u001b[0;34m\u001b[0m\u001b[0;34m\u001b[0m\u001b[0m\n\u001b[0m\u001b[1;32m     81\u001b[0m         \u001b[0;32melse\u001b[0m\u001b[0;34m:\u001b[0m\u001b[0;34m\u001b[0m\u001b[0;34m\u001b[0m\u001b[0m\n\u001b[1;32m     82\u001b[0m             \u001b[0mindex\u001b[0m \u001b[0;34m=\u001b[0m \u001b[0mensure_index\u001b[0m\u001b[0;34m(\u001b[0m\u001b[0mindex\u001b[0m\u001b[0;34m)\u001b[0m\u001b[0;34m\u001b[0m\u001b[0;34m\u001b[0m\u001b[0m\n",
      "\u001b[0;32m/opt/anaconda3/lib/python3.7/site-packages/pandas/core/internals/construction.py\u001b[0m in \u001b[0;36mextract_index\u001b[0;34m(data)\u001b[0m\n\u001b[1;32m    399\u001b[0m             \u001b[0mlengths\u001b[0m \u001b[0;34m=\u001b[0m \u001b[0mlist\u001b[0m\u001b[0;34m(\u001b[0m\u001b[0mset\u001b[0m\u001b[0;34m(\u001b[0m\u001b[0mraw_lengths\u001b[0m\u001b[0;34m)\u001b[0m\u001b[0;34m)\u001b[0m\u001b[0;34m\u001b[0m\u001b[0;34m\u001b[0m\u001b[0m\n\u001b[1;32m    400\u001b[0m             \u001b[0;32mif\u001b[0m \u001b[0mlen\u001b[0m\u001b[0;34m(\u001b[0m\u001b[0mlengths\u001b[0m\u001b[0;34m)\u001b[0m \u001b[0;34m>\u001b[0m \u001b[0;36m1\u001b[0m\u001b[0;34m:\u001b[0m\u001b[0;34m\u001b[0m\u001b[0;34m\u001b[0m\u001b[0m\n\u001b[0;32m--> 401\u001b[0;31m                 \u001b[0;32mraise\u001b[0m \u001b[0mValueError\u001b[0m\u001b[0;34m(\u001b[0m\u001b[0;34m\"arrays must all be same length\"\u001b[0m\u001b[0;34m)\u001b[0m\u001b[0;34m\u001b[0m\u001b[0;34m\u001b[0m\u001b[0m\n\u001b[0m\u001b[1;32m    402\u001b[0m \u001b[0;34m\u001b[0m\u001b[0m\n\u001b[1;32m    403\u001b[0m             \u001b[0;32mif\u001b[0m \u001b[0mhave_dicts\u001b[0m\u001b[0;34m:\u001b[0m\u001b[0;34m\u001b[0m\u001b[0;34m\u001b[0m\u001b[0m\n",
      "\u001b[0;31mValueError\u001b[0m: arrays must all be same length"
     ]
    }
   ],
   "source": [
    "examples = pd.DataFrame({'date':date,'season':season,'visiting_team':visiting,'visiting_score':visiting_score,\n",
    "                  'home_team':home, 'home_score':home_score, 'notes':notes})\n",
    "# examples[examples.notes != '']"
   ]
  },
  {
   "cell_type": "code",
   "execution_count": 31,
   "id": "forty-sequence",
   "metadata": {},
   "outputs": [
    {
     "data": {
      "text/plain": [
       "date              datetime64[ns]\n",
       "season                    object\n",
       "visiting_team             object\n",
       "visiting_score             int64\n",
       "home_team                 object\n",
       "home_score                 int64\n",
       "notes                     object\n",
       "dtype: object"
      ]
     },
     "execution_count": 31,
     "metadata": {},
     "output_type": "execute_result"
    }
   ],
   "source": [
    "oct1819dec5859.dtypes #checking dtypes"
   ]
  },
  {
   "cell_type": "markdown",
   "id": "internal-treasury",
   "metadata": {},
   "source": [
    "## Gather games from other months of the season + games from other seasons"
   ]
  },
  {
   "cell_type": "markdown",
   "id": "floppy-status",
   "metadata": {},
   "source": [
    "### Request all HTML pages and store in MongoDB"
   ]
  },
  {
   "cell_type": "code",
   "execution_count": 32,
   "id": "adapted-progressive",
   "metadata": {},
   "outputs": [],
   "source": [
    "possible_links = []\n",
    "months = ['october','november','december','january','february','march','april','may','june','july','august','september']\n",
    "#most recent seasons run from oct - june (inclusive of playoffs) however, it used to run from oct - april with some seasons running into may (i.e. '69-70') \n",
    "link = 'https://www.basketball-reference.com/leagues/NBA_1950_games-october.html'\n",
    "for year in range(1950,datetime.datetime.now().year+1):\n",
    "    if year!=2020:\n",
    "#2020 season had two october months (spanned across years) because of covid. current year can pull from all the months where possible\n",
    "#(i.e no 404 error when requesting data), we can then drop rows where the game schedule is out but the game has not been played yet cause the scores will either be blank or zero\n",
    "        for month in months:\n",
    "            possible_links.append(f'https://www.basketball-reference.com/leagues/NBA_{year}_games-{month}.html')\n",
    "    else:\n",
    "        for month in months:\n",
    "            if month != 'october':\n",
    "                possible_links.append(f'https://www.basketball-reference.com/leagues/NBA_2020_games-{month}.html')\n",
    "        possible_links.append(f'https://www.basketball-reference.com/leagues/NBA_2020_games-october-2019.html')\n",
    "        possible_links.append(f'https://www.basketball-reference.com/leagues/NBA_2020_games-october-2020.html')"
   ]
  },
  {
   "cell_type": "code",
   "execution_count": 33,
   "id": "protected-brook",
   "metadata": {},
   "outputs": [],
   "source": [
    "test = requests.get('https://www.basketball-reference.com/leagues/NBA_1950_games-may.html') #may does not exist in this season"
   ]
  },
  {
   "cell_type": "code",
   "execution_count": 34,
   "id": "collaborative-premium",
   "metadata": {},
   "outputs": [
    {
     "data": {
      "text/plain": [
       "404"
      ]
     },
     "execution_count": 34,
     "metadata": {},
     "output_type": "execute_result"
    }
   ],
   "source": [
    "test.status_code #testing to see what a month that doesn't exist will provide - can use this to filter those months out"
   ]
  },
  {
   "cell_type": "markdown",
   "id": "qualified-profile",
   "metadata": {},
   "source": [
    "Code below accounts for the weird 2019-2020 season where there were two Octobers in the season (Oct '19 and Oct '20)\n",
    "However, it does not account for April for which a schedule was out but games were never played (schedule and results page does not show an April button but when iterating through the urls April did not throw a 404 error hence the empty chart was pulled). Will need to drop 2019-2020 April data which is all blanks for scores."
   ]
  },
  {
   "cell_type": "code",
   "execution_count": 35,
   "id": "electric-american",
   "metadata": {},
   "outputs": [
    {
     "name": "stdout",
     "output_type": "stream",
     "text": [
      "Website link: https://www.basketball-reference.com/leagues/NBA_1950_games-october.html\n",
      "Website link: https://www.basketball-reference.com/leagues/NBA_1950_games-november.html\n",
      "Website link: https://www.basketball-reference.com/leagues/NBA_1950_games-december.html\n",
      "Website link: https://www.basketball-reference.com/leagues/NBA_1950_games-january.html\n",
      "Website link: https://www.basketball-reference.com/leagues/NBA_1950_games-february.html\n",
      "Website link: https://www.basketball-reference.com/leagues/NBA_1950_games-march.html\n",
      "Website link: https://www.basketball-reference.com/leagues/NBA_1950_games-april.html\n",
      "Website link: https://www.basketball-reference.com/leagues/NBA_1951_games-october.html\n",
      "Website link: https://www.basketball-reference.com/leagues/NBA_1951_games-november.html\n",
      "Website link: https://www.basketball-reference.com/leagues/NBA_1951_games-december.html\n",
      "Website link: https://www.basketball-reference.com/leagues/NBA_1951_games-january.html\n",
      "Website link: https://www.basketball-reference.com/leagues/NBA_1951_games-february.html\n",
      "Website link: https://www.basketball-reference.com/leagues/NBA_1951_games-march.html\n",
      "Website link: https://www.basketball-reference.com/leagues/NBA_1951_games-april.html\n",
      "Website link: https://www.basketball-reference.com/leagues/NBA_1952_games-november.html\n",
      "Website link: https://www.basketball-reference.com/leagues/NBA_1952_games-december.html\n",
      "Website link: https://www.basketball-reference.com/leagues/NBA_1952_games-january.html\n",
      "Website link: https://www.basketball-reference.com/leagues/NBA_1952_games-february.html\n",
      "Website link: https://www.basketball-reference.com/leagues/NBA_1952_games-march.html\n",
      "Website link: https://www.basketball-reference.com/leagues/NBA_1952_games-april.html\n",
      "Website link: https://www.basketball-reference.com/leagues/NBA_1953_games-october.html\n",
      "Website link: https://www.basketball-reference.com/leagues/NBA_1953_games-november.html\n",
      "Website link: https://www.basketball-reference.com/leagues/NBA_1953_games-december.html\n",
      "Website link: https://www.basketball-reference.com/leagues/NBA_1953_games-january.html\n",
      "Website link: https://www.basketball-reference.com/leagues/NBA_1953_games-february.html\n",
      "Website link: https://www.basketball-reference.com/leagues/NBA_1953_games-march.html\n",
      "Website link: https://www.basketball-reference.com/leagues/NBA_1953_games-april.html\n",
      "Website link: https://www.basketball-reference.com/leagues/NBA_1954_games-october.html\n",
      "Website link: https://www.basketball-reference.com/leagues/NBA_1954_games-november.html\n",
      "Website link: https://www.basketball-reference.com/leagues/NBA_1954_games-december.html\n",
      "Website link: https://www.basketball-reference.com/leagues/NBA_1954_games-january.html\n",
      "Website link: https://www.basketball-reference.com/leagues/NBA_1954_games-february.html\n",
      "Website link: https://www.basketball-reference.com/leagues/NBA_1954_games-march.html\n",
      "Website link: https://www.basketball-reference.com/leagues/NBA_1954_games-april.html\n",
      "Website link: https://www.basketball-reference.com/leagues/NBA_1955_games-october.html\n",
      "Website link: https://www.basketball-reference.com/leagues/NBA_1955_games-november.html\n",
      "Website link: https://www.basketball-reference.com/leagues/NBA_1955_games-december.html\n",
      "Website link: https://www.basketball-reference.com/leagues/NBA_1955_games-january.html\n",
      "Website link: https://www.basketball-reference.com/leagues/NBA_1955_games-february.html\n",
      "Website link: https://www.basketball-reference.com/leagues/NBA_1955_games-march.html\n",
      "Website link: https://www.basketball-reference.com/leagues/NBA_1955_games-april.html\n",
      "Website link: https://www.basketball-reference.com/leagues/NBA_1956_games-november.html\n",
      "Website link: https://www.basketball-reference.com/leagues/NBA_1956_games-december.html\n",
      "Website link: https://www.basketball-reference.com/leagues/NBA_1956_games-january.html\n",
      "Website link: https://www.basketball-reference.com/leagues/NBA_1956_games-february.html\n",
      "Website link: https://www.basketball-reference.com/leagues/NBA_1956_games-march.html\n",
      "Website link: https://www.basketball-reference.com/leagues/NBA_1956_games-april.html\n",
      "Website link: https://www.basketball-reference.com/leagues/NBA_1957_games-october.html\n",
      "Website link: https://www.basketball-reference.com/leagues/NBA_1957_games-november.html\n",
      "Website link: https://www.basketball-reference.com/leagues/NBA_1957_games-december.html\n",
      "Website link: https://www.basketball-reference.com/leagues/NBA_1957_games-january.html\n",
      "Website link: https://www.basketball-reference.com/leagues/NBA_1957_games-february.html\n",
      "Website link: https://www.basketball-reference.com/leagues/NBA_1957_games-march.html\n",
      "Website link: https://www.basketball-reference.com/leagues/NBA_1957_games-april.html\n",
      "Website link: https://www.basketball-reference.com/leagues/NBA_1958_games-october.html\n",
      "Website link: https://www.basketball-reference.com/leagues/NBA_1958_games-november.html\n",
      "Website link: https://www.basketball-reference.com/leagues/NBA_1958_games-december.html\n",
      "Website link: https://www.basketball-reference.com/leagues/NBA_1958_games-january.html\n",
      "Website link: https://www.basketball-reference.com/leagues/NBA_1958_games-february.html\n",
      "Website link: https://www.basketball-reference.com/leagues/NBA_1958_games-march.html\n",
      "Website link: https://www.basketball-reference.com/leagues/NBA_1958_games-april.html\n",
      "Website link: https://www.basketball-reference.com/leagues/NBA_1959_games-october.html\n",
      "Website link: https://www.basketball-reference.com/leagues/NBA_1959_games-november.html\n",
      "Website link: https://www.basketball-reference.com/leagues/NBA_1959_games-december.html\n",
      "Website link: https://www.basketball-reference.com/leagues/NBA_1959_games-january.html\n",
      "Website link: https://www.basketball-reference.com/leagues/NBA_1959_games-february.html\n",
      "Website link: https://www.basketball-reference.com/leagues/NBA_1959_games-march.html\n",
      "Website link: https://www.basketball-reference.com/leagues/NBA_1959_games-april.html\n",
      "Website link: https://www.basketball-reference.com/leagues/NBA_1960_games-october.html\n",
      "Website link: https://www.basketball-reference.com/leagues/NBA_1960_games-november.html\n",
      "Website link: https://www.basketball-reference.com/leagues/NBA_1960_games-december.html\n",
      "Website link: https://www.basketball-reference.com/leagues/NBA_1960_games-january.html\n",
      "Website link: https://www.basketball-reference.com/leagues/NBA_1960_games-february.html\n",
      "Website link: https://www.basketball-reference.com/leagues/NBA_1960_games-march.html\n",
      "Website link: https://www.basketball-reference.com/leagues/NBA_1960_games-april.html\n",
      "Website link: https://www.basketball-reference.com/leagues/NBA_1961_games-october.html\n",
      "Website link: https://www.basketball-reference.com/leagues/NBA_1961_games-november.html\n",
      "Website link: https://www.basketball-reference.com/leagues/NBA_1961_games-december.html\n",
      "Website link: https://www.basketball-reference.com/leagues/NBA_1961_games-january.html\n",
      "Website link: https://www.basketball-reference.com/leagues/NBA_1961_games-february.html\n",
      "Website link: https://www.basketball-reference.com/leagues/NBA_1961_games-march.html\n",
      "Website link: https://www.basketball-reference.com/leagues/NBA_1961_games-april.html\n",
      "Website link: https://www.basketball-reference.com/leagues/NBA_1962_games-october.html\n",
      "Website link: https://www.basketball-reference.com/leagues/NBA_1962_games-november.html\n",
      "Website link: https://www.basketball-reference.com/leagues/NBA_1962_games-december.html\n",
      "Website link: https://www.basketball-reference.com/leagues/NBA_1962_games-january.html\n",
      "Website link: https://www.basketball-reference.com/leagues/NBA_1962_games-february.html\n",
      "Website link: https://www.basketball-reference.com/leagues/NBA_1962_games-march.html\n",
      "Website link: https://www.basketball-reference.com/leagues/NBA_1962_games-april.html\n",
      "Website link: https://www.basketball-reference.com/leagues/NBA_1963_games-october.html\n",
      "Website link: https://www.basketball-reference.com/leagues/NBA_1963_games-november.html\n",
      "Website link: https://www.basketball-reference.com/leagues/NBA_1963_games-december.html\n",
      "Website link: https://www.basketball-reference.com/leagues/NBA_1963_games-january.html\n",
      "Website link: https://www.basketball-reference.com/leagues/NBA_1963_games-february.html\n",
      "Website link: https://www.basketball-reference.com/leagues/NBA_1963_games-march.html\n"
     ]
    },
    {
     "name": "stdout",
     "output_type": "stream",
     "text": [
      "Website link: https://www.basketball-reference.com/leagues/NBA_1963_games-april.html\n",
      "Website link: https://www.basketball-reference.com/leagues/NBA_1964_games-october.html\n",
      "Website link: https://www.basketball-reference.com/leagues/NBA_1964_games-november.html\n",
      "Website link: https://www.basketball-reference.com/leagues/NBA_1964_games-december.html\n",
      "Website link: https://www.basketball-reference.com/leagues/NBA_1964_games-january.html\n",
      "Website link: https://www.basketball-reference.com/leagues/NBA_1964_games-february.html\n",
      "Website link: https://www.basketball-reference.com/leagues/NBA_1964_games-march.html\n",
      "Website link: https://www.basketball-reference.com/leagues/NBA_1964_games-april.html\n",
      "Website link: https://www.basketball-reference.com/leagues/NBA_1965_games-october.html\n",
      "Website link: https://www.basketball-reference.com/leagues/NBA_1965_games-november.html\n",
      "Website link: https://www.basketball-reference.com/leagues/NBA_1965_games-december.html\n",
      "Website link: https://www.basketball-reference.com/leagues/NBA_1965_games-january.html\n",
      "Website link: https://www.basketball-reference.com/leagues/NBA_1965_games-february.html\n",
      "Website link: https://www.basketball-reference.com/leagues/NBA_1965_games-march.html\n",
      "Website link: https://www.basketball-reference.com/leagues/NBA_1965_games-april.html\n",
      "Website link: https://www.basketball-reference.com/leagues/NBA_1966_games-october.html\n",
      "Website link: https://www.basketball-reference.com/leagues/NBA_1966_games-november.html\n",
      "Website link: https://www.basketball-reference.com/leagues/NBA_1966_games-december.html\n",
      "Website link: https://www.basketball-reference.com/leagues/NBA_1966_games-january.html\n",
      "Website link: https://www.basketball-reference.com/leagues/NBA_1966_games-february.html\n",
      "Website link: https://www.basketball-reference.com/leagues/NBA_1966_games-march.html\n",
      "Website link: https://www.basketball-reference.com/leagues/NBA_1966_games-april.html\n",
      "Website link: https://www.basketball-reference.com/leagues/NBA_1967_games-october.html\n",
      "Website link: https://www.basketball-reference.com/leagues/NBA_1967_games-november.html\n",
      "Website link: https://www.basketball-reference.com/leagues/NBA_1967_games-december.html\n",
      "Website link: https://www.basketball-reference.com/leagues/NBA_1967_games-january.html\n",
      "Website link: https://www.basketball-reference.com/leagues/NBA_1967_games-february.html\n",
      "Website link: https://www.basketball-reference.com/leagues/NBA_1967_games-march.html\n",
      "Website link: https://www.basketball-reference.com/leagues/NBA_1967_games-april.html\n",
      "Website link: https://www.basketball-reference.com/leagues/NBA_1968_games-october.html\n",
      "Website link: https://www.basketball-reference.com/leagues/NBA_1968_games-november.html\n",
      "Website link: https://www.basketball-reference.com/leagues/NBA_1968_games-december.html\n",
      "Website link: https://www.basketball-reference.com/leagues/NBA_1968_games-january.html\n",
      "Website link: https://www.basketball-reference.com/leagues/NBA_1968_games-february.html\n",
      "Website link: https://www.basketball-reference.com/leagues/NBA_1968_games-march.html\n",
      "Website link: https://www.basketball-reference.com/leagues/NBA_1968_games-april.html\n",
      "Website link: https://www.basketball-reference.com/leagues/NBA_1968_games-may.html\n",
      "Website link: https://www.basketball-reference.com/leagues/NBA_1969_games-october.html\n",
      "Website link: https://www.basketball-reference.com/leagues/NBA_1969_games-november.html\n",
      "Website link: https://www.basketball-reference.com/leagues/NBA_1969_games-december.html\n",
      "Website link: https://www.basketball-reference.com/leagues/NBA_1969_games-january.html\n",
      "Website link: https://www.basketball-reference.com/leagues/NBA_1969_games-february.html\n",
      "Website link: https://www.basketball-reference.com/leagues/NBA_1969_games-march.html\n",
      "Website link: https://www.basketball-reference.com/leagues/NBA_1969_games-april.html\n",
      "Website link: https://www.basketball-reference.com/leagues/NBA_1969_games-may.html\n",
      "Website link: https://www.basketball-reference.com/leagues/NBA_1970_games-october.html\n",
      "Website link: https://www.basketball-reference.com/leagues/NBA_1970_games-november.html\n",
      "Website link: https://www.basketball-reference.com/leagues/NBA_1970_games-december.html\n",
      "Website link: https://www.basketball-reference.com/leagues/NBA_1970_games-january.html\n",
      "Website link: https://www.basketball-reference.com/leagues/NBA_1970_games-february.html\n",
      "Website link: https://www.basketball-reference.com/leagues/NBA_1970_games-march.html\n",
      "Website link: https://www.basketball-reference.com/leagues/NBA_1970_games-april.html\n",
      "Website link: https://www.basketball-reference.com/leagues/NBA_1970_games-may.html\n",
      "Website link: https://www.basketball-reference.com/leagues/NBA_1971_games-october.html\n",
      "Website link: https://www.basketball-reference.com/leagues/NBA_1971_games-november.html\n",
      "Website link: https://www.basketball-reference.com/leagues/NBA_1971_games-december.html\n",
      "Website link: https://www.basketball-reference.com/leagues/NBA_1971_games-january.html\n",
      "Website link: https://www.basketball-reference.com/leagues/NBA_1971_games-february.html\n",
      "Website link: https://www.basketball-reference.com/leagues/NBA_1971_games-march.html\n",
      "Website link: https://www.basketball-reference.com/leagues/NBA_1971_games-april.html\n",
      "Website link: https://www.basketball-reference.com/leagues/NBA_1971_games-may.html\n",
      "Website link: https://www.basketball-reference.com/leagues/NBA_1972_games-october.html\n",
      "Website link: https://www.basketball-reference.com/leagues/NBA_1972_games-november.html\n",
      "Website link: https://www.basketball-reference.com/leagues/NBA_1972_games-december.html\n",
      "Website link: https://www.basketball-reference.com/leagues/NBA_1972_games-january.html\n",
      "Website link: https://www.basketball-reference.com/leagues/NBA_1972_games-february.html\n",
      "Website link: https://www.basketball-reference.com/leagues/NBA_1972_games-march.html\n",
      "Website link: https://www.basketball-reference.com/leagues/NBA_1972_games-april.html\n",
      "Website link: https://www.basketball-reference.com/leagues/NBA_1972_games-may.html\n",
      "Website link: https://www.basketball-reference.com/leagues/NBA_1973_games-october.html\n",
      "Website link: https://www.basketball-reference.com/leagues/NBA_1973_games-november.html\n",
      "Website link: https://www.basketball-reference.com/leagues/NBA_1973_games-december.html\n",
      "Website link: https://www.basketball-reference.com/leagues/NBA_1973_games-january.html\n",
      "Website link: https://www.basketball-reference.com/leagues/NBA_1973_games-february.html\n",
      "Website link: https://www.basketball-reference.com/leagues/NBA_1973_games-march.html\n",
      "Website link: https://www.basketball-reference.com/leagues/NBA_1973_games-april.html\n",
      "Website link: https://www.basketball-reference.com/leagues/NBA_1973_games-may.html\n",
      "Website link: https://www.basketball-reference.com/leagues/NBA_1974_games-october.html\n",
      "Website link: https://www.basketball-reference.com/leagues/NBA_1974_games-november.html\n",
      "Website link: https://www.basketball-reference.com/leagues/NBA_1974_games-december.html\n",
      "Website link: https://www.basketball-reference.com/leagues/NBA_1974_games-january.html\n",
      "Website link: https://www.basketball-reference.com/leagues/NBA_1974_games-february.html\n",
      "Website link: https://www.basketball-reference.com/leagues/NBA_1974_games-march.html\n",
      "Website link: https://www.basketball-reference.com/leagues/NBA_1974_games-april.html\n",
      "Website link: https://www.basketball-reference.com/leagues/NBA_1974_games-may.html\n",
      "Website link: https://www.basketball-reference.com/leagues/NBA_1975_games-october.html\n",
      "Website link: https://www.basketball-reference.com/leagues/NBA_1975_games-november.html\n",
      "Website link: https://www.basketball-reference.com/leagues/NBA_1975_games-december.html\n",
      "Website link: https://www.basketball-reference.com/leagues/NBA_1975_games-january.html\n",
      "Website link: https://www.basketball-reference.com/leagues/NBA_1975_games-february.html\n",
      "Website link: https://www.basketball-reference.com/leagues/NBA_1975_games-march.html\n",
      "Website link: https://www.basketball-reference.com/leagues/NBA_1975_games-april.html\n",
      "Website link: https://www.basketball-reference.com/leagues/NBA_1975_games-may.html\n",
      "Website link: https://www.basketball-reference.com/leagues/NBA_1976_games-october.html\n",
      "Website link: https://www.basketball-reference.com/leagues/NBA_1976_games-november.html\n"
     ]
    },
    {
     "name": "stdout",
     "output_type": "stream",
     "text": [
      "Website link: https://www.basketball-reference.com/leagues/NBA_1976_games-december.html\n",
      "Website link: https://www.basketball-reference.com/leagues/NBA_1976_games-january.html\n",
      "Website link: https://www.basketball-reference.com/leagues/NBA_1976_games-february.html\n",
      "Website link: https://www.basketball-reference.com/leagues/NBA_1976_games-march.html\n",
      "Website link: https://www.basketball-reference.com/leagues/NBA_1976_games-april.html\n",
      "Website link: https://www.basketball-reference.com/leagues/NBA_1976_games-may.html\n",
      "Website link: https://www.basketball-reference.com/leagues/NBA_1976_games-june.html\n",
      "Website link: https://www.basketball-reference.com/leagues/NBA_1977_games-october.html\n",
      "Website link: https://www.basketball-reference.com/leagues/NBA_1977_games-november.html\n",
      "Website link: https://www.basketball-reference.com/leagues/NBA_1977_games-december.html\n",
      "Website link: https://www.basketball-reference.com/leagues/NBA_1977_games-january.html\n",
      "Website link: https://www.basketball-reference.com/leagues/NBA_1977_games-february.html\n",
      "Website link: https://www.basketball-reference.com/leagues/NBA_1977_games-march.html\n",
      "Website link: https://www.basketball-reference.com/leagues/NBA_1977_games-april.html\n",
      "Website link: https://www.basketball-reference.com/leagues/NBA_1977_games-may.html\n",
      "Website link: https://www.basketball-reference.com/leagues/NBA_1977_games-june.html\n",
      "Website link: https://www.basketball-reference.com/leagues/NBA_1978_games-october.html\n",
      "Website link: https://www.basketball-reference.com/leagues/NBA_1978_games-november.html\n",
      "Website link: https://www.basketball-reference.com/leagues/NBA_1978_games-december.html\n",
      "Website link: https://www.basketball-reference.com/leagues/NBA_1978_games-january.html\n",
      "Website link: https://www.basketball-reference.com/leagues/NBA_1978_games-february.html\n",
      "Website link: https://www.basketball-reference.com/leagues/NBA_1978_games-march.html\n",
      "Website link: https://www.basketball-reference.com/leagues/NBA_1978_games-april.html\n",
      "Website link: https://www.basketball-reference.com/leagues/NBA_1978_games-may.html\n",
      "Website link: https://www.basketball-reference.com/leagues/NBA_1978_games-june.html\n",
      "Website link: https://www.basketball-reference.com/leagues/NBA_1979_games-october.html\n",
      "Website link: https://www.basketball-reference.com/leagues/NBA_1979_games-november.html\n",
      "Website link: https://www.basketball-reference.com/leagues/NBA_1979_games-december.html\n",
      "Website link: https://www.basketball-reference.com/leagues/NBA_1979_games-january.html\n",
      "Website link: https://www.basketball-reference.com/leagues/NBA_1979_games-february.html\n",
      "Website link: https://www.basketball-reference.com/leagues/NBA_1979_games-march.html\n",
      "Website link: https://www.basketball-reference.com/leagues/NBA_1979_games-april.html\n",
      "Website link: https://www.basketball-reference.com/leagues/NBA_1979_games-may.html\n",
      "Website link: https://www.basketball-reference.com/leagues/NBA_1979_games-june.html\n",
      "Website link: https://www.basketball-reference.com/leagues/NBA_1980_games-october.html\n",
      "Website link: https://www.basketball-reference.com/leagues/NBA_1980_games-november.html\n",
      "Website link: https://www.basketball-reference.com/leagues/NBA_1980_games-december.html\n",
      "Website link: https://www.basketball-reference.com/leagues/NBA_1980_games-january.html\n",
      "Website link: https://www.basketball-reference.com/leagues/NBA_1980_games-february.html\n",
      "Website link: https://www.basketball-reference.com/leagues/NBA_1980_games-march.html\n",
      "Website link: https://www.basketball-reference.com/leagues/NBA_1980_games-april.html\n",
      "Website link: https://www.basketball-reference.com/leagues/NBA_1980_games-may.html\n",
      "Website link: https://www.basketball-reference.com/leagues/NBA_1981_games-october.html\n",
      "Website link: https://www.basketball-reference.com/leagues/NBA_1981_games-november.html\n",
      "Website link: https://www.basketball-reference.com/leagues/NBA_1981_games-december.html\n",
      "Website link: https://www.basketball-reference.com/leagues/NBA_1981_games-january.html\n",
      "Website link: https://www.basketball-reference.com/leagues/NBA_1981_games-february.html\n",
      "Website link: https://www.basketball-reference.com/leagues/NBA_1981_games-march.html\n",
      "Website link: https://www.basketball-reference.com/leagues/NBA_1981_games-april.html\n",
      "Website link: https://www.basketball-reference.com/leagues/NBA_1981_games-may.html\n",
      "Website link: https://www.basketball-reference.com/leagues/NBA_1982_games-october.html\n",
      "Website link: https://www.basketball-reference.com/leagues/NBA_1982_games-november.html\n",
      "Website link: https://www.basketball-reference.com/leagues/NBA_1982_games-december.html\n",
      "Website link: https://www.basketball-reference.com/leagues/NBA_1982_games-january.html\n",
      "Website link: https://www.basketball-reference.com/leagues/NBA_1982_games-february.html\n",
      "Website link: https://www.basketball-reference.com/leagues/NBA_1982_games-march.html\n",
      "Website link: https://www.basketball-reference.com/leagues/NBA_1982_games-april.html\n",
      "Website link: https://www.basketball-reference.com/leagues/NBA_1982_games-may.html\n",
      "Website link: https://www.basketball-reference.com/leagues/NBA_1982_games-june.html\n",
      "Website link: https://www.basketball-reference.com/leagues/NBA_1983_games-october.html\n",
      "Website link: https://www.basketball-reference.com/leagues/NBA_1983_games-november.html\n",
      "Website link: https://www.basketball-reference.com/leagues/NBA_1983_games-december.html\n",
      "Website link: https://www.basketball-reference.com/leagues/NBA_1983_games-january.html\n",
      "Website link: https://www.basketball-reference.com/leagues/NBA_1983_games-february.html\n",
      "Website link: https://www.basketball-reference.com/leagues/NBA_1983_games-march.html\n",
      "Website link: https://www.basketball-reference.com/leagues/NBA_1983_games-april.html\n",
      "Website link: https://www.basketball-reference.com/leagues/NBA_1983_games-may.html\n",
      "Website link: https://www.basketball-reference.com/leagues/NBA_1984_games-october.html\n",
      "Website link: https://www.basketball-reference.com/leagues/NBA_1984_games-november.html\n",
      "Website link: https://www.basketball-reference.com/leagues/NBA_1984_games-december.html\n",
      "Website link: https://www.basketball-reference.com/leagues/NBA_1984_games-january.html\n",
      "Website link: https://www.basketball-reference.com/leagues/NBA_1984_games-february.html\n",
      "Website link: https://www.basketball-reference.com/leagues/NBA_1984_games-march.html\n",
      "Website link: https://www.basketball-reference.com/leagues/NBA_1984_games-april.html\n",
      "Website link: https://www.basketball-reference.com/leagues/NBA_1984_games-may.html\n",
      "Website link: https://www.basketball-reference.com/leagues/NBA_1984_games-june.html\n",
      "Website link: https://www.basketball-reference.com/leagues/NBA_1985_games-october.html\n",
      "Website link: https://www.basketball-reference.com/leagues/NBA_1985_games-november.html\n",
      "Website link: https://www.basketball-reference.com/leagues/NBA_1985_games-december.html\n",
      "Website link: https://www.basketball-reference.com/leagues/NBA_1985_games-january.html\n",
      "Website link: https://www.basketball-reference.com/leagues/NBA_1985_games-february.html\n",
      "Website link: https://www.basketball-reference.com/leagues/NBA_1985_games-march.html\n",
      "Website link: https://www.basketball-reference.com/leagues/NBA_1985_games-april.html\n",
      "Website link: https://www.basketball-reference.com/leagues/NBA_1985_games-may.html\n",
      "Website link: https://www.basketball-reference.com/leagues/NBA_1985_games-june.html\n",
      "Website link: https://www.basketball-reference.com/leagues/NBA_1986_games-october.html\n",
      "Website link: https://www.basketball-reference.com/leagues/NBA_1986_games-november.html\n",
      "Website link: https://www.basketball-reference.com/leagues/NBA_1986_games-december.html\n",
      "Website link: https://www.basketball-reference.com/leagues/NBA_1986_games-january.html\n",
      "Website link: https://www.basketball-reference.com/leagues/NBA_1986_games-february.html\n",
      "Website link: https://www.basketball-reference.com/leagues/NBA_1986_games-march.html\n",
      "Website link: https://www.basketball-reference.com/leagues/NBA_1986_games-april.html\n",
      "Website link: https://www.basketball-reference.com/leagues/NBA_1986_games-may.html\n",
      "Website link: https://www.basketball-reference.com/leagues/NBA_1986_games-june.html\n",
      "Website link: https://www.basketball-reference.com/leagues/NBA_1987_games-october.html\n",
      "Website link: https://www.basketball-reference.com/leagues/NBA_1987_games-november.html\n"
     ]
    },
    {
     "name": "stdout",
     "output_type": "stream",
     "text": [
      "Website link: https://www.basketball-reference.com/leagues/NBA_1987_games-december.html\n",
      "Website link: https://www.basketball-reference.com/leagues/NBA_1987_games-january.html\n",
      "Website link: https://www.basketball-reference.com/leagues/NBA_1987_games-february.html\n",
      "Website link: https://www.basketball-reference.com/leagues/NBA_1987_games-march.html\n",
      "Website link: https://www.basketball-reference.com/leagues/NBA_1987_games-april.html\n",
      "Website link: https://www.basketball-reference.com/leagues/NBA_1987_games-may.html\n",
      "Website link: https://www.basketball-reference.com/leagues/NBA_1987_games-june.html\n",
      "Website link: https://www.basketball-reference.com/leagues/NBA_1988_games-november.html\n",
      "Website link: https://www.basketball-reference.com/leagues/NBA_1988_games-december.html\n",
      "Website link: https://www.basketball-reference.com/leagues/NBA_1988_games-january.html\n",
      "Website link: https://www.basketball-reference.com/leagues/NBA_1988_games-february.html\n",
      "Website link: https://www.basketball-reference.com/leagues/NBA_1988_games-march.html\n",
      "Website link: https://www.basketball-reference.com/leagues/NBA_1988_games-april.html\n",
      "Website link: https://www.basketball-reference.com/leagues/NBA_1988_games-may.html\n",
      "Website link: https://www.basketball-reference.com/leagues/NBA_1988_games-june.html\n",
      "Website link: https://www.basketball-reference.com/leagues/NBA_1989_games-november.html\n",
      "Website link: https://www.basketball-reference.com/leagues/NBA_1989_games-december.html\n",
      "Website link: https://www.basketball-reference.com/leagues/NBA_1989_games-january.html\n",
      "Website link: https://www.basketball-reference.com/leagues/NBA_1989_games-february.html\n",
      "Website link: https://www.basketball-reference.com/leagues/NBA_1989_games-march.html\n",
      "Website link: https://www.basketball-reference.com/leagues/NBA_1989_games-april.html\n",
      "Website link: https://www.basketball-reference.com/leagues/NBA_1989_games-may.html\n",
      "Website link: https://www.basketball-reference.com/leagues/NBA_1989_games-june.html\n",
      "Website link: https://www.basketball-reference.com/leagues/NBA_1990_games-november.html\n",
      "Website link: https://www.basketball-reference.com/leagues/NBA_1990_games-december.html\n",
      "Website link: https://www.basketball-reference.com/leagues/NBA_1990_games-january.html\n",
      "Website link: https://www.basketball-reference.com/leagues/NBA_1990_games-february.html\n",
      "Website link: https://www.basketball-reference.com/leagues/NBA_1990_games-march.html\n",
      "Website link: https://www.basketball-reference.com/leagues/NBA_1990_games-april.html\n",
      "Website link: https://www.basketball-reference.com/leagues/NBA_1990_games-may.html\n",
      "Website link: https://www.basketball-reference.com/leagues/NBA_1990_games-june.html\n",
      "Website link: https://www.basketball-reference.com/leagues/NBA_1991_games-november.html\n",
      "Website link: https://www.basketball-reference.com/leagues/NBA_1991_games-december.html\n",
      "Website link: https://www.basketball-reference.com/leagues/NBA_1991_games-january.html\n",
      "Website link: https://www.basketball-reference.com/leagues/NBA_1991_games-february.html\n",
      "Website link: https://www.basketball-reference.com/leagues/NBA_1991_games-march.html\n",
      "Website link: https://www.basketball-reference.com/leagues/NBA_1991_games-april.html\n",
      "Website link: https://www.basketball-reference.com/leagues/NBA_1991_games-may.html\n",
      "Website link: https://www.basketball-reference.com/leagues/NBA_1991_games-june.html\n",
      "Website link: https://www.basketball-reference.com/leagues/NBA_1992_games-november.html\n",
      "Website link: https://www.basketball-reference.com/leagues/NBA_1992_games-december.html\n",
      "Website link: https://www.basketball-reference.com/leagues/NBA_1992_games-january.html\n",
      "Website link: https://www.basketball-reference.com/leagues/NBA_1992_games-february.html\n",
      "Website link: https://www.basketball-reference.com/leagues/NBA_1992_games-march.html\n",
      "Website link: https://www.basketball-reference.com/leagues/NBA_1992_games-april.html\n",
      "Website link: https://www.basketball-reference.com/leagues/NBA_1992_games-may.html\n",
      "Website link: https://www.basketball-reference.com/leagues/NBA_1992_games-june.html\n",
      "Website link: https://www.basketball-reference.com/leagues/NBA_1993_games-november.html\n",
      "Website link: https://www.basketball-reference.com/leagues/NBA_1993_games-december.html\n",
      "Website link: https://www.basketball-reference.com/leagues/NBA_1993_games-january.html\n",
      "Website link: https://www.basketball-reference.com/leagues/NBA_1993_games-february.html\n",
      "Website link: https://www.basketball-reference.com/leagues/NBA_1993_games-march.html\n",
      "Website link: https://www.basketball-reference.com/leagues/NBA_1993_games-april.html\n",
      "Website link: https://www.basketball-reference.com/leagues/NBA_1993_games-may.html\n",
      "Website link: https://www.basketball-reference.com/leagues/NBA_1993_games-june.html\n",
      "Website link: https://www.basketball-reference.com/leagues/NBA_1994_games-november.html\n",
      "Website link: https://www.basketball-reference.com/leagues/NBA_1994_games-december.html\n",
      "Website link: https://www.basketball-reference.com/leagues/NBA_1994_games-january.html\n",
      "Website link: https://www.basketball-reference.com/leagues/NBA_1994_games-february.html\n",
      "Website link: https://www.basketball-reference.com/leagues/NBA_1994_games-march.html\n",
      "Website link: https://www.basketball-reference.com/leagues/NBA_1994_games-april.html\n",
      "Website link: https://www.basketball-reference.com/leagues/NBA_1994_games-may.html\n",
      "Website link: https://www.basketball-reference.com/leagues/NBA_1994_games-june.html\n",
      "Website link: https://www.basketball-reference.com/leagues/NBA_1995_games-november.html\n",
      "Website link: https://www.basketball-reference.com/leagues/NBA_1995_games-december.html\n",
      "Website link: https://www.basketball-reference.com/leagues/NBA_1995_games-january.html\n",
      "Website link: https://www.basketball-reference.com/leagues/NBA_1995_games-february.html\n",
      "Website link: https://www.basketball-reference.com/leagues/NBA_1995_games-march.html\n",
      "Website link: https://www.basketball-reference.com/leagues/NBA_1995_games-april.html\n",
      "Website link: https://www.basketball-reference.com/leagues/NBA_1995_games-may.html\n",
      "Website link: https://www.basketball-reference.com/leagues/NBA_1995_games-june.html\n",
      "Website link: https://www.basketball-reference.com/leagues/NBA_1996_games-november.html\n",
      "Website link: https://www.basketball-reference.com/leagues/NBA_1996_games-december.html\n",
      "Website link: https://www.basketball-reference.com/leagues/NBA_1996_games-january.html\n",
      "Website link: https://www.basketball-reference.com/leagues/NBA_1996_games-february.html\n",
      "Website link: https://www.basketball-reference.com/leagues/NBA_1996_games-march.html\n",
      "Website link: https://www.basketball-reference.com/leagues/NBA_1996_games-april.html\n",
      "Website link: https://www.basketball-reference.com/leagues/NBA_1996_games-may.html\n",
      "Website link: https://www.basketball-reference.com/leagues/NBA_1996_games-june.html\n",
      "Website link: https://www.basketball-reference.com/leagues/NBA_1997_games-november.html\n",
      "Website link: https://www.basketball-reference.com/leagues/NBA_1997_games-december.html\n",
      "Website link: https://www.basketball-reference.com/leagues/NBA_1997_games-january.html\n",
      "Website link: https://www.basketball-reference.com/leagues/NBA_1997_games-february.html\n",
      "Website link: https://www.basketball-reference.com/leagues/NBA_1997_games-march.html\n",
      "Website link: https://www.basketball-reference.com/leagues/NBA_1997_games-april.html\n",
      "Website link: https://www.basketball-reference.com/leagues/NBA_1997_games-may.html\n",
      "Website link: https://www.basketball-reference.com/leagues/NBA_1997_games-june.html\n",
      "Website link: https://www.basketball-reference.com/leagues/NBA_1998_games-october.html\n",
      "Website link: https://www.basketball-reference.com/leagues/NBA_1998_games-november.html\n",
      "Website link: https://www.basketball-reference.com/leagues/NBA_1998_games-december.html\n",
      "Website link: https://www.basketball-reference.com/leagues/NBA_1998_games-january.html\n",
      "Website link: https://www.basketball-reference.com/leagues/NBA_1998_games-february.html\n",
      "Website link: https://www.basketball-reference.com/leagues/NBA_1998_games-march.html\n",
      "Website link: https://www.basketball-reference.com/leagues/NBA_1998_games-april.html\n",
      "Website link: https://www.basketball-reference.com/leagues/NBA_1998_games-may.html\n",
      "Website link: https://www.basketball-reference.com/leagues/NBA_1998_games-june.html\n"
     ]
    },
    {
     "name": "stdout",
     "output_type": "stream",
     "text": [
      "Website link: https://www.basketball-reference.com/leagues/NBA_1999_games-february.html\n",
      "Website link: https://www.basketball-reference.com/leagues/NBA_1999_games-march.html\n",
      "Website link: https://www.basketball-reference.com/leagues/NBA_1999_games-april.html\n",
      "Website link: https://www.basketball-reference.com/leagues/NBA_1999_games-may.html\n",
      "Website link: https://www.basketball-reference.com/leagues/NBA_1999_games-june.html\n",
      "Website link: https://www.basketball-reference.com/leagues/NBA_2000_games-november.html\n",
      "Website link: https://www.basketball-reference.com/leagues/NBA_2000_games-december.html\n",
      "Website link: https://www.basketball-reference.com/leagues/NBA_2000_games-january.html\n",
      "Website link: https://www.basketball-reference.com/leagues/NBA_2000_games-february.html\n",
      "Website link: https://www.basketball-reference.com/leagues/NBA_2000_games-march.html\n",
      "Website link: https://www.basketball-reference.com/leagues/NBA_2000_games-april.html\n",
      "Website link: https://www.basketball-reference.com/leagues/NBA_2000_games-may.html\n",
      "Website link: https://www.basketball-reference.com/leagues/NBA_2000_games-june.html\n",
      "Website link: https://www.basketball-reference.com/leagues/NBA_2001_games-october.html\n",
      "Website link: https://www.basketball-reference.com/leagues/NBA_2001_games-november.html\n",
      "Website link: https://www.basketball-reference.com/leagues/NBA_2001_games-december.html\n",
      "Website link: https://www.basketball-reference.com/leagues/NBA_2001_games-january.html\n",
      "Website link: https://www.basketball-reference.com/leagues/NBA_2001_games-february.html\n",
      "Website link: https://www.basketball-reference.com/leagues/NBA_2001_games-march.html\n",
      "Website link: https://www.basketball-reference.com/leagues/NBA_2001_games-april.html\n",
      "Website link: https://www.basketball-reference.com/leagues/NBA_2001_games-may.html\n",
      "Website link: https://www.basketball-reference.com/leagues/NBA_2001_games-june.html\n",
      "Website link: https://www.basketball-reference.com/leagues/NBA_2002_games-october.html\n",
      "Website link: https://www.basketball-reference.com/leagues/NBA_2002_games-november.html\n",
      "Website link: https://www.basketball-reference.com/leagues/NBA_2002_games-december.html\n",
      "Website link: https://www.basketball-reference.com/leagues/NBA_2002_games-january.html\n",
      "Website link: https://www.basketball-reference.com/leagues/NBA_2002_games-february.html\n",
      "Website link: https://www.basketball-reference.com/leagues/NBA_2002_games-march.html\n",
      "Website link: https://www.basketball-reference.com/leagues/NBA_2002_games-april.html\n",
      "Website link: https://www.basketball-reference.com/leagues/NBA_2002_games-may.html\n",
      "Website link: https://www.basketball-reference.com/leagues/NBA_2002_games-june.html\n",
      "Website link: https://www.basketball-reference.com/leagues/NBA_2003_games-october.html\n",
      "Website link: https://www.basketball-reference.com/leagues/NBA_2003_games-november.html\n",
      "Website link: https://www.basketball-reference.com/leagues/NBA_2003_games-december.html\n",
      "Website link: https://www.basketball-reference.com/leagues/NBA_2003_games-january.html\n",
      "Website link: https://www.basketball-reference.com/leagues/NBA_2003_games-february.html\n",
      "Website link: https://www.basketball-reference.com/leagues/NBA_2003_games-march.html\n",
      "Website link: https://www.basketball-reference.com/leagues/NBA_2003_games-april.html\n",
      "Website link: https://www.basketball-reference.com/leagues/NBA_2003_games-may.html\n",
      "Website link: https://www.basketball-reference.com/leagues/NBA_2003_games-june.html\n",
      "Website link: https://www.basketball-reference.com/leagues/NBA_2004_games-october.html\n",
      "Website link: https://www.basketball-reference.com/leagues/NBA_2004_games-november.html\n",
      "Website link: https://www.basketball-reference.com/leagues/NBA_2004_games-december.html\n",
      "Website link: https://www.basketball-reference.com/leagues/NBA_2004_games-january.html\n",
      "Website link: https://www.basketball-reference.com/leagues/NBA_2004_games-february.html\n",
      "Website link: https://www.basketball-reference.com/leagues/NBA_2004_games-march.html\n",
      "Website link: https://www.basketball-reference.com/leagues/NBA_2004_games-april.html\n",
      "Website link: https://www.basketball-reference.com/leagues/NBA_2004_games-may.html\n",
      "Website link: https://www.basketball-reference.com/leagues/NBA_2004_games-june.html\n",
      "Website link: https://www.basketball-reference.com/leagues/NBA_2005_games-november.html\n",
      "Website link: https://www.basketball-reference.com/leagues/NBA_2005_games-december.html\n",
      "Website link: https://www.basketball-reference.com/leagues/NBA_2005_games-january.html\n",
      "Website link: https://www.basketball-reference.com/leagues/NBA_2005_games-february.html\n",
      "Website link: https://www.basketball-reference.com/leagues/NBA_2005_games-march.html\n",
      "Website link: https://www.basketball-reference.com/leagues/NBA_2005_games-april.html\n",
      "Website link: https://www.basketball-reference.com/leagues/NBA_2005_games-may.html\n",
      "Website link: https://www.basketball-reference.com/leagues/NBA_2005_games-june.html\n",
      "Website link: https://www.basketball-reference.com/leagues/NBA_2006_games-november.html\n",
      "Website link: https://www.basketball-reference.com/leagues/NBA_2006_games-december.html\n",
      "Website link: https://www.basketball-reference.com/leagues/NBA_2006_games-january.html\n",
      "Website link: https://www.basketball-reference.com/leagues/NBA_2006_games-february.html\n",
      "Website link: https://www.basketball-reference.com/leagues/NBA_2006_games-march.html\n",
      "Website link: https://www.basketball-reference.com/leagues/NBA_2006_games-april.html\n",
      "Website link: https://www.basketball-reference.com/leagues/NBA_2006_games-may.html\n",
      "Website link: https://www.basketball-reference.com/leagues/NBA_2006_games-june.html\n",
      "Website link: https://www.basketball-reference.com/leagues/NBA_2007_games-october.html\n",
      "Website link: https://www.basketball-reference.com/leagues/NBA_2007_games-november.html\n",
      "Website link: https://www.basketball-reference.com/leagues/NBA_2007_games-december.html\n",
      "Website link: https://www.basketball-reference.com/leagues/NBA_2007_games-january.html\n",
      "Website link: https://www.basketball-reference.com/leagues/NBA_2007_games-february.html\n",
      "Website link: https://www.basketball-reference.com/leagues/NBA_2007_games-march.html\n",
      "Website link: https://www.basketball-reference.com/leagues/NBA_2007_games-april.html\n",
      "Website link: https://www.basketball-reference.com/leagues/NBA_2007_games-may.html\n",
      "Website link: https://www.basketball-reference.com/leagues/NBA_2007_games-june.html\n",
      "Website link: https://www.basketball-reference.com/leagues/NBA_2008_games-october.html\n",
      "Website link: https://www.basketball-reference.com/leagues/NBA_2008_games-november.html\n",
      "Website link: https://www.basketball-reference.com/leagues/NBA_2008_games-december.html\n",
      "Website link: https://www.basketball-reference.com/leagues/NBA_2008_games-january.html\n",
      "Website link: https://www.basketball-reference.com/leagues/NBA_2008_games-february.html\n",
      "Website link: https://www.basketball-reference.com/leagues/NBA_2008_games-march.html\n",
      "Website link: https://www.basketball-reference.com/leagues/NBA_2008_games-april.html\n",
      "Website link: https://www.basketball-reference.com/leagues/NBA_2008_games-may.html\n",
      "Website link: https://www.basketball-reference.com/leagues/NBA_2008_games-june.html\n",
      "Website link: https://www.basketball-reference.com/leagues/NBA_2009_games-october.html\n",
      "Website link: https://www.basketball-reference.com/leagues/NBA_2009_games-november.html\n",
      "Website link: https://www.basketball-reference.com/leagues/NBA_2009_games-december.html\n",
      "Website link: https://www.basketball-reference.com/leagues/NBA_2009_games-january.html\n",
      "Website link: https://www.basketball-reference.com/leagues/NBA_2009_games-february.html\n",
      "Website link: https://www.basketball-reference.com/leagues/NBA_2009_games-march.html\n",
      "Website link: https://www.basketball-reference.com/leagues/NBA_2009_games-april.html\n",
      "Website link: https://www.basketball-reference.com/leagues/NBA_2009_games-may.html\n",
      "Website link: https://www.basketball-reference.com/leagues/NBA_2009_games-june.html\n",
      "Website link: https://www.basketball-reference.com/leagues/NBA_2010_games-october.html\n",
      "Website link: https://www.basketball-reference.com/leagues/NBA_2010_games-november.html\n",
      "Website link: https://www.basketball-reference.com/leagues/NBA_2010_games-december.html\n",
      "Website link: https://www.basketball-reference.com/leagues/NBA_2010_games-january.html\n"
     ]
    },
    {
     "name": "stdout",
     "output_type": "stream",
     "text": [
      "Website link: https://www.basketball-reference.com/leagues/NBA_2010_games-february.html\n",
      "Website link: https://www.basketball-reference.com/leagues/NBA_2010_games-march.html\n",
      "Website link: https://www.basketball-reference.com/leagues/NBA_2010_games-april.html\n",
      "Website link: https://www.basketball-reference.com/leagues/NBA_2010_games-may.html\n",
      "Website link: https://www.basketball-reference.com/leagues/NBA_2010_games-june.html\n",
      "Website link: https://www.basketball-reference.com/leagues/NBA_2011_games-october.html\n",
      "Website link: https://www.basketball-reference.com/leagues/NBA_2011_games-november.html\n",
      "Website link: https://www.basketball-reference.com/leagues/NBA_2011_games-december.html\n",
      "Website link: https://www.basketball-reference.com/leagues/NBA_2011_games-january.html\n",
      "Website link: https://www.basketball-reference.com/leagues/NBA_2011_games-february.html\n",
      "Website link: https://www.basketball-reference.com/leagues/NBA_2011_games-march.html\n",
      "Website link: https://www.basketball-reference.com/leagues/NBA_2011_games-april.html\n",
      "Website link: https://www.basketball-reference.com/leagues/NBA_2011_games-may.html\n",
      "Website link: https://www.basketball-reference.com/leagues/NBA_2011_games-june.html\n",
      "Website link: https://www.basketball-reference.com/leagues/NBA_2012_games-december.html\n",
      "Website link: https://www.basketball-reference.com/leagues/NBA_2012_games-january.html\n",
      "Website link: https://www.basketball-reference.com/leagues/NBA_2012_games-february.html\n",
      "Website link: https://www.basketball-reference.com/leagues/NBA_2012_games-march.html\n",
      "Website link: https://www.basketball-reference.com/leagues/NBA_2012_games-april.html\n",
      "Website link: https://www.basketball-reference.com/leagues/NBA_2012_games-may.html\n",
      "Website link: https://www.basketball-reference.com/leagues/NBA_2012_games-june.html\n",
      "Website link: https://www.basketball-reference.com/leagues/NBA_2013_games-october.html\n",
      "Website link: https://www.basketball-reference.com/leagues/NBA_2013_games-november.html\n",
      "Website link: https://www.basketball-reference.com/leagues/NBA_2013_games-december.html\n",
      "Website link: https://www.basketball-reference.com/leagues/NBA_2013_games-january.html\n",
      "Website link: https://www.basketball-reference.com/leagues/NBA_2013_games-february.html\n",
      "Website link: https://www.basketball-reference.com/leagues/NBA_2013_games-march.html\n",
      "Website link: https://www.basketball-reference.com/leagues/NBA_2013_games-april.html\n",
      "Website link: https://www.basketball-reference.com/leagues/NBA_2013_games-may.html\n",
      "Website link: https://www.basketball-reference.com/leagues/NBA_2013_games-june.html\n",
      "Website link: https://www.basketball-reference.com/leagues/NBA_2014_games-october.html\n",
      "Website link: https://www.basketball-reference.com/leagues/NBA_2014_games-november.html\n",
      "Website link: https://www.basketball-reference.com/leagues/NBA_2014_games-december.html\n",
      "Website link: https://www.basketball-reference.com/leagues/NBA_2014_games-january.html\n",
      "Website link: https://www.basketball-reference.com/leagues/NBA_2014_games-february.html\n",
      "Website link: https://www.basketball-reference.com/leagues/NBA_2014_games-march.html\n",
      "Website link: https://www.basketball-reference.com/leagues/NBA_2014_games-april.html\n",
      "Website link: https://www.basketball-reference.com/leagues/NBA_2014_games-may.html\n",
      "Website link: https://www.basketball-reference.com/leagues/NBA_2014_games-june.html\n",
      "Website link: https://www.basketball-reference.com/leagues/NBA_2015_games-october.html\n",
      "Website link: https://www.basketball-reference.com/leagues/NBA_2015_games-november.html\n",
      "Website link: https://www.basketball-reference.com/leagues/NBA_2015_games-december.html\n",
      "Website link: https://www.basketball-reference.com/leagues/NBA_2015_games-january.html\n",
      "Website link: https://www.basketball-reference.com/leagues/NBA_2015_games-february.html\n",
      "Website link: https://www.basketball-reference.com/leagues/NBA_2015_games-march.html\n",
      "Website link: https://www.basketball-reference.com/leagues/NBA_2015_games-april.html\n",
      "Website link: https://www.basketball-reference.com/leagues/NBA_2015_games-may.html\n",
      "Website link: https://www.basketball-reference.com/leagues/NBA_2015_games-june.html\n",
      "Website link: https://www.basketball-reference.com/leagues/NBA_2016_games-october.html\n",
      "Website link: https://www.basketball-reference.com/leagues/NBA_2016_games-november.html\n",
      "Website link: https://www.basketball-reference.com/leagues/NBA_2016_games-december.html\n",
      "Website link: https://www.basketball-reference.com/leagues/NBA_2016_games-january.html\n",
      "Website link: https://www.basketball-reference.com/leagues/NBA_2016_games-february.html\n",
      "Website link: https://www.basketball-reference.com/leagues/NBA_2016_games-march.html\n",
      "Website link: https://www.basketball-reference.com/leagues/NBA_2016_games-april.html\n",
      "Website link: https://www.basketball-reference.com/leagues/NBA_2016_games-may.html\n",
      "Website link: https://www.basketball-reference.com/leagues/NBA_2016_games-june.html\n",
      "Website link: https://www.basketball-reference.com/leagues/NBA_2017_games-october.html\n",
      "Website link: https://www.basketball-reference.com/leagues/NBA_2017_games-november.html\n",
      "Website link: https://www.basketball-reference.com/leagues/NBA_2017_games-december.html\n",
      "Website link: https://www.basketball-reference.com/leagues/NBA_2017_games-january.html\n",
      "Website link: https://www.basketball-reference.com/leagues/NBA_2017_games-february.html\n",
      "Website link: https://www.basketball-reference.com/leagues/NBA_2017_games-march.html\n",
      "Website link: https://www.basketball-reference.com/leagues/NBA_2017_games-april.html\n",
      "Website link: https://www.basketball-reference.com/leagues/NBA_2017_games-may.html\n",
      "Website link: https://www.basketball-reference.com/leagues/NBA_2017_games-june.html\n",
      "Website link: https://www.basketball-reference.com/leagues/NBA_2018_games-october.html\n",
      "Website link: https://www.basketball-reference.com/leagues/NBA_2018_games-november.html\n",
      "Website link: https://www.basketball-reference.com/leagues/NBA_2018_games-december.html\n",
      "Website link: https://www.basketball-reference.com/leagues/NBA_2018_games-january.html\n",
      "Website link: https://www.basketball-reference.com/leagues/NBA_2018_games-february.html\n",
      "Website link: https://www.basketball-reference.com/leagues/NBA_2018_games-march.html\n",
      "Website link: https://www.basketball-reference.com/leagues/NBA_2018_games-april.html\n",
      "Website link: https://www.basketball-reference.com/leagues/NBA_2018_games-may.html\n",
      "Website link: https://www.basketball-reference.com/leagues/NBA_2018_games-june.html\n",
      "Website link: https://www.basketball-reference.com/leagues/NBA_2019_games-october.html\n",
      "Website link: https://www.basketball-reference.com/leagues/NBA_2019_games-november.html\n",
      "Website link: https://www.basketball-reference.com/leagues/NBA_2019_games-december.html\n",
      "Website link: https://www.basketball-reference.com/leagues/NBA_2019_games-january.html\n",
      "Website link: https://www.basketball-reference.com/leagues/NBA_2019_games-february.html\n",
      "Website link: https://www.basketball-reference.com/leagues/NBA_2019_games-march.html\n",
      "Website link: https://www.basketball-reference.com/leagues/NBA_2019_games-april.html\n",
      "Website link: https://www.basketball-reference.com/leagues/NBA_2019_games-may.html\n",
      "Website link: https://www.basketball-reference.com/leagues/NBA_2019_games-june.html\n",
      "Website link: https://www.basketball-reference.com/leagues/NBA_2019_games-september.html\n",
      "Website link: https://www.basketball-reference.com/leagues/NBA_2020_games-november.html\n",
      "Website link: https://www.basketball-reference.com/leagues/NBA_2020_games-december.html\n",
      "Website link: https://www.basketball-reference.com/leagues/NBA_2020_games-january.html\n",
      "Website link: https://www.basketball-reference.com/leagues/NBA_2020_games-february.html\n",
      "Website link: https://www.basketball-reference.com/leagues/NBA_2020_games-march.html\n",
      "Website link: https://www.basketball-reference.com/leagues/NBA_2020_games-april.html\n",
      "Website link: https://www.basketball-reference.com/leagues/NBA_2020_games-july.html\n",
      "Website link: https://www.basketball-reference.com/leagues/NBA_2020_games-august.html\n",
      "Website link: https://www.basketball-reference.com/leagues/NBA_2020_games-september.html\n",
      "Website link: https://www.basketball-reference.com/leagues/NBA_2020_games-october-2019.html\n",
      "Website link: https://www.basketball-reference.com/leagues/NBA_2020_games-october-2020.html\n"
     ]
    },
    {
     "name": "stdout",
     "output_type": "stream",
     "text": [
      "Website link: https://www.basketball-reference.com/leagues/NBA_2021_games-december.html\n",
      "Website link: https://www.basketball-reference.com/leagues/NBA_2021_games-january.html\n",
      "Website link: https://www.basketball-reference.com/leagues/NBA_2021_games-february.html\n",
      "Website link: https://www.basketball-reference.com/leagues/NBA_2021_games-march.html\n"
     ]
    }
   ],
   "source": [
    "actual_links = []\n",
    "basketball_charts = db.all_seasons\n",
    "for i,link in enumerate(possible_links):\n",
    "    season_month = requests.get(link)\n",
    "    if season_month.status_code != 404:\n",
    "        # commenting out - do not want multiples if I rerun this notebook\n",
    "#         basketball_charts.insert_one({'link':link,'html':season_month.text})\n",
    "        print(f'Website link: {link}')\n",
    "        actual_links.append(link)\n",
    "        time.sleep(2)"
   ]
  },
  {
   "cell_type": "code",
   "execution_count": 37,
   "id": "eight-garden",
   "metadata": {},
   "outputs": [
    {
     "data": {
      "text/plain": [
       "['https://www.basketball-reference.com/leagues/NBA_1950_games-october.html',\n",
       " 'https://www.basketball-reference.com/leagues/NBA_1950_games-november.html',\n",
       " 'https://www.basketball-reference.com/leagues/NBA_1950_games-december.html',\n",
       " 'https://www.basketball-reference.com/leagues/NBA_1950_games-january.html',\n",
       " 'https://www.basketball-reference.com/leagues/NBA_1950_games-february.html',\n",
       " 'https://www.basketball-reference.com/leagues/NBA_1950_games-march.html',\n",
       " 'https://www.basketball-reference.com/leagues/NBA_1950_games-april.html',\n",
       " 'https://www.basketball-reference.com/leagues/NBA_1951_games-october.html',\n",
       " 'https://www.basketball-reference.com/leagues/NBA_1951_games-november.html',\n",
       " 'https://www.basketball-reference.com/leagues/NBA_1951_games-december.html',\n",
       " 'https://www.basketball-reference.com/leagues/NBA_1951_games-january.html',\n",
       " 'https://www.basketball-reference.com/leagues/NBA_1951_games-february.html',\n",
       " 'https://www.basketball-reference.com/leagues/NBA_1951_games-march.html',\n",
       " 'https://www.basketball-reference.com/leagues/NBA_1951_games-april.html',\n",
       " 'https://www.basketball-reference.com/leagues/NBA_1952_games-november.html',\n",
       " 'https://www.basketball-reference.com/leagues/NBA_1952_games-december.html',\n",
       " 'https://www.basketball-reference.com/leagues/NBA_1952_games-january.html',\n",
       " 'https://www.basketball-reference.com/leagues/NBA_1952_games-february.html',\n",
       " 'https://www.basketball-reference.com/leagues/NBA_1952_games-march.html',\n",
       " 'https://www.basketball-reference.com/leagues/NBA_1952_games-april.html',\n",
       " 'https://www.basketball-reference.com/leagues/NBA_1953_games-october.html',\n",
       " 'https://www.basketball-reference.com/leagues/NBA_1953_games-november.html',\n",
       " 'https://www.basketball-reference.com/leagues/NBA_1953_games-december.html',\n",
       " 'https://www.basketball-reference.com/leagues/NBA_1953_games-january.html',\n",
       " 'https://www.basketball-reference.com/leagues/NBA_1953_games-february.html',\n",
       " 'https://www.basketball-reference.com/leagues/NBA_1953_games-march.html',\n",
       " 'https://www.basketball-reference.com/leagues/NBA_1953_games-april.html',\n",
       " 'https://www.basketball-reference.com/leagues/NBA_1954_games-october.html',\n",
       " 'https://www.basketball-reference.com/leagues/NBA_1954_games-november.html',\n",
       " 'https://www.basketball-reference.com/leagues/NBA_1954_games-december.html',\n",
       " 'https://www.basketball-reference.com/leagues/NBA_1954_games-january.html',\n",
       " 'https://www.basketball-reference.com/leagues/NBA_1954_games-february.html',\n",
       " 'https://www.basketball-reference.com/leagues/NBA_1954_games-march.html',\n",
       " 'https://www.basketball-reference.com/leagues/NBA_1954_games-april.html',\n",
       " 'https://www.basketball-reference.com/leagues/NBA_1955_games-october.html',\n",
       " 'https://www.basketball-reference.com/leagues/NBA_1955_games-november.html',\n",
       " 'https://www.basketball-reference.com/leagues/NBA_1955_games-december.html',\n",
       " 'https://www.basketball-reference.com/leagues/NBA_1955_games-january.html',\n",
       " 'https://www.basketball-reference.com/leagues/NBA_1955_games-february.html',\n",
       " 'https://www.basketball-reference.com/leagues/NBA_1955_games-march.html',\n",
       " 'https://www.basketball-reference.com/leagues/NBA_1955_games-april.html',\n",
       " 'https://www.basketball-reference.com/leagues/NBA_1956_games-november.html',\n",
       " 'https://www.basketball-reference.com/leagues/NBA_1956_games-december.html',\n",
       " 'https://www.basketball-reference.com/leagues/NBA_1956_games-january.html',\n",
       " 'https://www.basketball-reference.com/leagues/NBA_1956_games-february.html',\n",
       " 'https://www.basketball-reference.com/leagues/NBA_1956_games-march.html',\n",
       " 'https://www.basketball-reference.com/leagues/NBA_1956_games-april.html',\n",
       " 'https://www.basketball-reference.com/leagues/NBA_1957_games-october.html',\n",
       " 'https://www.basketball-reference.com/leagues/NBA_1957_games-november.html',\n",
       " 'https://www.basketball-reference.com/leagues/NBA_1957_games-december.html',\n",
       " 'https://www.basketball-reference.com/leagues/NBA_1957_games-january.html',\n",
       " 'https://www.basketball-reference.com/leagues/NBA_1957_games-february.html',\n",
       " 'https://www.basketball-reference.com/leagues/NBA_1957_games-march.html',\n",
       " 'https://www.basketball-reference.com/leagues/NBA_1957_games-april.html',\n",
       " 'https://www.basketball-reference.com/leagues/NBA_1958_games-october.html',\n",
       " 'https://www.basketball-reference.com/leagues/NBA_1958_games-november.html',\n",
       " 'https://www.basketball-reference.com/leagues/NBA_1958_games-december.html',\n",
       " 'https://www.basketball-reference.com/leagues/NBA_1958_games-january.html',\n",
       " 'https://www.basketball-reference.com/leagues/NBA_1958_games-february.html',\n",
       " 'https://www.basketball-reference.com/leagues/NBA_1958_games-march.html',\n",
       " 'https://www.basketball-reference.com/leagues/NBA_1958_games-april.html',\n",
       " 'https://www.basketball-reference.com/leagues/NBA_1959_games-october.html',\n",
       " 'https://www.basketball-reference.com/leagues/NBA_1959_games-november.html',\n",
       " 'https://www.basketball-reference.com/leagues/NBA_1959_games-december.html',\n",
       " 'https://www.basketball-reference.com/leagues/NBA_1959_games-january.html',\n",
       " 'https://www.basketball-reference.com/leagues/NBA_1959_games-february.html',\n",
       " 'https://www.basketball-reference.com/leagues/NBA_1959_games-march.html',\n",
       " 'https://www.basketball-reference.com/leagues/NBA_1959_games-april.html',\n",
       " 'https://www.basketball-reference.com/leagues/NBA_1960_games-october.html',\n",
       " 'https://www.basketball-reference.com/leagues/NBA_1960_games-november.html',\n",
       " 'https://www.basketball-reference.com/leagues/NBA_1960_games-december.html',\n",
       " 'https://www.basketball-reference.com/leagues/NBA_1960_games-january.html',\n",
       " 'https://www.basketball-reference.com/leagues/NBA_1960_games-february.html',\n",
       " 'https://www.basketball-reference.com/leagues/NBA_1960_games-march.html',\n",
       " 'https://www.basketball-reference.com/leagues/NBA_1960_games-april.html',\n",
       " 'https://www.basketball-reference.com/leagues/NBA_1961_games-october.html',\n",
       " 'https://www.basketball-reference.com/leagues/NBA_1961_games-november.html',\n",
       " 'https://www.basketball-reference.com/leagues/NBA_1961_games-december.html',\n",
       " 'https://www.basketball-reference.com/leagues/NBA_1961_games-january.html',\n",
       " 'https://www.basketball-reference.com/leagues/NBA_1961_games-february.html',\n",
       " 'https://www.basketball-reference.com/leagues/NBA_1961_games-march.html',\n",
       " 'https://www.basketball-reference.com/leagues/NBA_1961_games-april.html',\n",
       " 'https://www.basketball-reference.com/leagues/NBA_1962_games-october.html',\n",
       " 'https://www.basketball-reference.com/leagues/NBA_1962_games-november.html',\n",
       " 'https://www.basketball-reference.com/leagues/NBA_1962_games-december.html',\n",
       " 'https://www.basketball-reference.com/leagues/NBA_1962_games-january.html',\n",
       " 'https://www.basketball-reference.com/leagues/NBA_1962_games-february.html',\n",
       " 'https://www.basketball-reference.com/leagues/NBA_1962_games-march.html',\n",
       " 'https://www.basketball-reference.com/leagues/NBA_1962_games-april.html',\n",
       " 'https://www.basketball-reference.com/leagues/NBA_1963_games-october.html',\n",
       " 'https://www.basketball-reference.com/leagues/NBA_1963_games-november.html',\n",
       " 'https://www.basketball-reference.com/leagues/NBA_1963_games-december.html',\n",
       " 'https://www.basketball-reference.com/leagues/NBA_1963_games-january.html',\n",
       " 'https://www.basketball-reference.com/leagues/NBA_1963_games-february.html',\n",
       " 'https://www.basketball-reference.com/leagues/NBA_1963_games-march.html',\n",
       " 'https://www.basketball-reference.com/leagues/NBA_1963_games-april.html',\n",
       " 'https://www.basketball-reference.com/leagues/NBA_1964_games-october.html',\n",
       " 'https://www.basketball-reference.com/leagues/NBA_1964_games-november.html',\n",
       " 'https://www.basketball-reference.com/leagues/NBA_1964_games-december.html',\n",
       " 'https://www.basketball-reference.com/leagues/NBA_1964_games-january.html',\n",
       " 'https://www.basketball-reference.com/leagues/NBA_1964_games-february.html',\n",
       " 'https://www.basketball-reference.com/leagues/NBA_1964_games-march.html',\n",
       " 'https://www.basketball-reference.com/leagues/NBA_1964_games-april.html',\n",
       " 'https://www.basketball-reference.com/leagues/NBA_1965_games-october.html',\n",
       " 'https://www.basketball-reference.com/leagues/NBA_1965_games-november.html',\n",
       " 'https://www.basketball-reference.com/leagues/NBA_1965_games-december.html',\n",
       " 'https://www.basketball-reference.com/leagues/NBA_1965_games-january.html',\n",
       " 'https://www.basketball-reference.com/leagues/NBA_1965_games-february.html',\n",
       " 'https://www.basketball-reference.com/leagues/NBA_1965_games-march.html',\n",
       " 'https://www.basketball-reference.com/leagues/NBA_1965_games-april.html',\n",
       " 'https://www.basketball-reference.com/leagues/NBA_1966_games-october.html',\n",
       " 'https://www.basketball-reference.com/leagues/NBA_1966_games-november.html',\n",
       " 'https://www.basketball-reference.com/leagues/NBA_1966_games-december.html',\n",
       " 'https://www.basketball-reference.com/leagues/NBA_1966_games-january.html',\n",
       " 'https://www.basketball-reference.com/leagues/NBA_1966_games-february.html',\n",
       " 'https://www.basketball-reference.com/leagues/NBA_1966_games-march.html',\n",
       " 'https://www.basketball-reference.com/leagues/NBA_1966_games-april.html',\n",
       " 'https://www.basketball-reference.com/leagues/NBA_1967_games-october.html',\n",
       " 'https://www.basketball-reference.com/leagues/NBA_1967_games-november.html',\n",
       " 'https://www.basketball-reference.com/leagues/NBA_1967_games-december.html',\n",
       " 'https://www.basketball-reference.com/leagues/NBA_1967_games-january.html',\n",
       " 'https://www.basketball-reference.com/leagues/NBA_1967_games-february.html',\n",
       " 'https://www.basketball-reference.com/leagues/NBA_1967_games-march.html',\n",
       " 'https://www.basketball-reference.com/leagues/NBA_1967_games-april.html',\n",
       " 'https://www.basketball-reference.com/leagues/NBA_1968_games-october.html',\n",
       " 'https://www.basketball-reference.com/leagues/NBA_1968_games-november.html',\n",
       " 'https://www.basketball-reference.com/leagues/NBA_1968_games-december.html',\n",
       " 'https://www.basketball-reference.com/leagues/NBA_1968_games-january.html',\n",
       " 'https://www.basketball-reference.com/leagues/NBA_1968_games-february.html',\n",
       " 'https://www.basketball-reference.com/leagues/NBA_1968_games-march.html',\n",
       " 'https://www.basketball-reference.com/leagues/NBA_1968_games-april.html',\n",
       " 'https://www.basketball-reference.com/leagues/NBA_1968_games-may.html',\n",
       " 'https://www.basketball-reference.com/leagues/NBA_1969_games-october.html',\n",
       " 'https://www.basketball-reference.com/leagues/NBA_1969_games-november.html',\n",
       " 'https://www.basketball-reference.com/leagues/NBA_1969_games-december.html',\n",
       " 'https://www.basketball-reference.com/leagues/NBA_1969_games-january.html',\n",
       " 'https://www.basketball-reference.com/leagues/NBA_1969_games-february.html',\n",
       " 'https://www.basketball-reference.com/leagues/NBA_1969_games-march.html',\n",
       " 'https://www.basketball-reference.com/leagues/NBA_1969_games-april.html',\n",
       " 'https://www.basketball-reference.com/leagues/NBA_1969_games-may.html',\n",
       " 'https://www.basketball-reference.com/leagues/NBA_1970_games-october.html',\n",
       " 'https://www.basketball-reference.com/leagues/NBA_1970_games-november.html',\n",
       " 'https://www.basketball-reference.com/leagues/NBA_1970_games-december.html',\n",
       " 'https://www.basketball-reference.com/leagues/NBA_1970_games-january.html',\n",
       " 'https://www.basketball-reference.com/leagues/NBA_1970_games-february.html',\n",
       " 'https://www.basketball-reference.com/leagues/NBA_1970_games-march.html',\n",
       " 'https://www.basketball-reference.com/leagues/NBA_1970_games-april.html',\n",
       " 'https://www.basketball-reference.com/leagues/NBA_1970_games-may.html',\n",
       " 'https://www.basketball-reference.com/leagues/NBA_1971_games-october.html',\n",
       " 'https://www.basketball-reference.com/leagues/NBA_1971_games-november.html',\n",
       " 'https://www.basketball-reference.com/leagues/NBA_1971_games-december.html',\n",
       " 'https://www.basketball-reference.com/leagues/NBA_1971_games-january.html',\n",
       " 'https://www.basketball-reference.com/leagues/NBA_1971_games-february.html',\n",
       " 'https://www.basketball-reference.com/leagues/NBA_1971_games-march.html',\n",
       " 'https://www.basketball-reference.com/leagues/NBA_1971_games-april.html',\n",
       " 'https://www.basketball-reference.com/leagues/NBA_1971_games-may.html',\n",
       " 'https://www.basketball-reference.com/leagues/NBA_1972_games-october.html',\n",
       " 'https://www.basketball-reference.com/leagues/NBA_1972_games-november.html',\n",
       " 'https://www.basketball-reference.com/leagues/NBA_1972_games-december.html',\n",
       " 'https://www.basketball-reference.com/leagues/NBA_1972_games-january.html',\n",
       " 'https://www.basketball-reference.com/leagues/NBA_1972_games-february.html',\n",
       " 'https://www.basketball-reference.com/leagues/NBA_1972_games-march.html',\n",
       " 'https://www.basketball-reference.com/leagues/NBA_1972_games-april.html',\n",
       " 'https://www.basketball-reference.com/leagues/NBA_1972_games-may.html',\n",
       " 'https://www.basketball-reference.com/leagues/NBA_1973_games-october.html',\n",
       " 'https://www.basketball-reference.com/leagues/NBA_1973_games-november.html',\n",
       " 'https://www.basketball-reference.com/leagues/NBA_1973_games-december.html',\n",
       " 'https://www.basketball-reference.com/leagues/NBA_1973_games-january.html',\n",
       " 'https://www.basketball-reference.com/leagues/NBA_1973_games-february.html',\n",
       " 'https://www.basketball-reference.com/leagues/NBA_1973_games-march.html',\n",
       " 'https://www.basketball-reference.com/leagues/NBA_1973_games-april.html',\n",
       " 'https://www.basketball-reference.com/leagues/NBA_1973_games-may.html',\n",
       " 'https://www.basketball-reference.com/leagues/NBA_1974_games-october.html',\n",
       " 'https://www.basketball-reference.com/leagues/NBA_1974_games-november.html',\n",
       " 'https://www.basketball-reference.com/leagues/NBA_1974_games-december.html',\n",
       " 'https://www.basketball-reference.com/leagues/NBA_1974_games-january.html',\n",
       " 'https://www.basketball-reference.com/leagues/NBA_1974_games-february.html',\n",
       " 'https://www.basketball-reference.com/leagues/NBA_1974_games-march.html',\n",
       " 'https://www.basketball-reference.com/leagues/NBA_1974_games-april.html',\n",
       " 'https://www.basketball-reference.com/leagues/NBA_1974_games-may.html',\n",
       " 'https://www.basketball-reference.com/leagues/NBA_1975_games-october.html',\n",
       " 'https://www.basketball-reference.com/leagues/NBA_1975_games-november.html',\n",
       " 'https://www.basketball-reference.com/leagues/NBA_1975_games-december.html',\n",
       " 'https://www.basketball-reference.com/leagues/NBA_1975_games-january.html',\n",
       " 'https://www.basketball-reference.com/leagues/NBA_1975_games-february.html',\n",
       " 'https://www.basketball-reference.com/leagues/NBA_1975_games-march.html',\n",
       " 'https://www.basketball-reference.com/leagues/NBA_1975_games-april.html',\n",
       " 'https://www.basketball-reference.com/leagues/NBA_1975_games-may.html',\n",
       " 'https://www.basketball-reference.com/leagues/NBA_1976_games-october.html',\n",
       " 'https://www.basketball-reference.com/leagues/NBA_1976_games-november.html',\n",
       " 'https://www.basketball-reference.com/leagues/NBA_1976_games-december.html',\n",
       " 'https://www.basketball-reference.com/leagues/NBA_1976_games-january.html',\n",
       " 'https://www.basketball-reference.com/leagues/NBA_1976_games-february.html',\n",
       " 'https://www.basketball-reference.com/leagues/NBA_1976_games-march.html',\n",
       " 'https://www.basketball-reference.com/leagues/NBA_1976_games-april.html',\n",
       " 'https://www.basketball-reference.com/leagues/NBA_1976_games-may.html',\n",
       " 'https://www.basketball-reference.com/leagues/NBA_1976_games-june.html',\n",
       " 'https://www.basketball-reference.com/leagues/NBA_1977_games-october.html',\n",
       " 'https://www.basketball-reference.com/leagues/NBA_1977_games-november.html',\n",
       " 'https://www.basketball-reference.com/leagues/NBA_1977_games-december.html',\n",
       " 'https://www.basketball-reference.com/leagues/NBA_1977_games-january.html',\n",
       " 'https://www.basketball-reference.com/leagues/NBA_1977_games-february.html',\n",
       " 'https://www.basketball-reference.com/leagues/NBA_1977_games-march.html',\n",
       " 'https://www.basketball-reference.com/leagues/NBA_1977_games-april.html',\n",
       " 'https://www.basketball-reference.com/leagues/NBA_1977_games-may.html',\n",
       " 'https://www.basketball-reference.com/leagues/NBA_1977_games-june.html',\n",
       " 'https://www.basketball-reference.com/leagues/NBA_1978_games-october.html',\n",
       " 'https://www.basketball-reference.com/leagues/NBA_1978_games-november.html',\n",
       " 'https://www.basketball-reference.com/leagues/NBA_1978_games-december.html',\n",
       " 'https://www.basketball-reference.com/leagues/NBA_1978_games-january.html',\n",
       " 'https://www.basketball-reference.com/leagues/NBA_1978_games-february.html',\n",
       " 'https://www.basketball-reference.com/leagues/NBA_1978_games-march.html',\n",
       " 'https://www.basketball-reference.com/leagues/NBA_1978_games-april.html',\n",
       " 'https://www.basketball-reference.com/leagues/NBA_1978_games-may.html',\n",
       " 'https://www.basketball-reference.com/leagues/NBA_1978_games-june.html',\n",
       " 'https://www.basketball-reference.com/leagues/NBA_1979_games-october.html',\n",
       " 'https://www.basketball-reference.com/leagues/NBA_1979_games-november.html',\n",
       " 'https://www.basketball-reference.com/leagues/NBA_1979_games-december.html',\n",
       " 'https://www.basketball-reference.com/leagues/NBA_1979_games-january.html',\n",
       " 'https://www.basketball-reference.com/leagues/NBA_1979_games-february.html',\n",
       " 'https://www.basketball-reference.com/leagues/NBA_1979_games-march.html',\n",
       " 'https://www.basketball-reference.com/leagues/NBA_1979_games-april.html',\n",
       " 'https://www.basketball-reference.com/leagues/NBA_1979_games-may.html',\n",
       " 'https://www.basketball-reference.com/leagues/NBA_1979_games-june.html',\n",
       " 'https://www.basketball-reference.com/leagues/NBA_1980_games-october.html',\n",
       " 'https://www.basketball-reference.com/leagues/NBA_1980_games-november.html',\n",
       " 'https://www.basketball-reference.com/leagues/NBA_1980_games-december.html',\n",
       " 'https://www.basketball-reference.com/leagues/NBA_1980_games-january.html',\n",
       " 'https://www.basketball-reference.com/leagues/NBA_1980_games-february.html',\n",
       " 'https://www.basketball-reference.com/leagues/NBA_1980_games-march.html',\n",
       " 'https://www.basketball-reference.com/leagues/NBA_1980_games-april.html',\n",
       " 'https://www.basketball-reference.com/leagues/NBA_1980_games-may.html',\n",
       " 'https://www.basketball-reference.com/leagues/NBA_1981_games-october.html',\n",
       " 'https://www.basketball-reference.com/leagues/NBA_1981_games-november.html',\n",
       " 'https://www.basketball-reference.com/leagues/NBA_1981_games-december.html',\n",
       " 'https://www.basketball-reference.com/leagues/NBA_1981_games-january.html',\n",
       " 'https://www.basketball-reference.com/leagues/NBA_1981_games-february.html',\n",
       " 'https://www.basketball-reference.com/leagues/NBA_1981_games-march.html',\n",
       " 'https://www.basketball-reference.com/leagues/NBA_1981_games-april.html',\n",
       " 'https://www.basketball-reference.com/leagues/NBA_1981_games-may.html',\n",
       " 'https://www.basketball-reference.com/leagues/NBA_1982_games-october.html',\n",
       " 'https://www.basketball-reference.com/leagues/NBA_1982_games-november.html',\n",
       " 'https://www.basketball-reference.com/leagues/NBA_1982_games-december.html',\n",
       " 'https://www.basketball-reference.com/leagues/NBA_1982_games-january.html',\n",
       " 'https://www.basketball-reference.com/leagues/NBA_1982_games-february.html',\n",
       " 'https://www.basketball-reference.com/leagues/NBA_1982_games-march.html',\n",
       " 'https://www.basketball-reference.com/leagues/NBA_1982_games-april.html',\n",
       " 'https://www.basketball-reference.com/leagues/NBA_1982_games-may.html',\n",
       " 'https://www.basketball-reference.com/leagues/NBA_1982_games-june.html',\n",
       " 'https://www.basketball-reference.com/leagues/NBA_1983_games-october.html',\n",
       " 'https://www.basketball-reference.com/leagues/NBA_1983_games-november.html',\n",
       " 'https://www.basketball-reference.com/leagues/NBA_1983_games-december.html',\n",
       " 'https://www.basketball-reference.com/leagues/NBA_1983_games-january.html',\n",
       " 'https://www.basketball-reference.com/leagues/NBA_1983_games-february.html',\n",
       " 'https://www.basketball-reference.com/leagues/NBA_1983_games-march.html',\n",
       " 'https://www.basketball-reference.com/leagues/NBA_1983_games-april.html',\n",
       " 'https://www.basketball-reference.com/leagues/NBA_1983_games-may.html',\n",
       " 'https://www.basketball-reference.com/leagues/NBA_1984_games-october.html',\n",
       " 'https://www.basketball-reference.com/leagues/NBA_1984_games-november.html',\n",
       " 'https://www.basketball-reference.com/leagues/NBA_1984_games-december.html',\n",
       " 'https://www.basketball-reference.com/leagues/NBA_1984_games-january.html',\n",
       " 'https://www.basketball-reference.com/leagues/NBA_1984_games-february.html',\n",
       " 'https://www.basketball-reference.com/leagues/NBA_1984_games-march.html',\n",
       " 'https://www.basketball-reference.com/leagues/NBA_1984_games-april.html',\n",
       " 'https://www.basketball-reference.com/leagues/NBA_1984_games-may.html',\n",
       " 'https://www.basketball-reference.com/leagues/NBA_1984_games-june.html',\n",
       " 'https://www.basketball-reference.com/leagues/NBA_1985_games-october.html',\n",
       " 'https://www.basketball-reference.com/leagues/NBA_1985_games-november.html',\n",
       " 'https://www.basketball-reference.com/leagues/NBA_1985_games-december.html',\n",
       " 'https://www.basketball-reference.com/leagues/NBA_1985_games-january.html',\n",
       " 'https://www.basketball-reference.com/leagues/NBA_1985_games-february.html',\n",
       " 'https://www.basketball-reference.com/leagues/NBA_1985_games-march.html',\n",
       " 'https://www.basketball-reference.com/leagues/NBA_1985_games-april.html',\n",
       " 'https://www.basketball-reference.com/leagues/NBA_1985_games-may.html',\n",
       " 'https://www.basketball-reference.com/leagues/NBA_1985_games-june.html',\n",
       " 'https://www.basketball-reference.com/leagues/NBA_1986_games-october.html',\n",
       " 'https://www.basketball-reference.com/leagues/NBA_1986_games-november.html',\n",
       " 'https://www.basketball-reference.com/leagues/NBA_1986_games-december.html',\n",
       " 'https://www.basketball-reference.com/leagues/NBA_1986_games-january.html',\n",
       " 'https://www.basketball-reference.com/leagues/NBA_1986_games-february.html',\n",
       " 'https://www.basketball-reference.com/leagues/NBA_1986_games-march.html',\n",
       " 'https://www.basketball-reference.com/leagues/NBA_1986_games-april.html',\n",
       " 'https://www.basketball-reference.com/leagues/NBA_1986_games-may.html',\n",
       " 'https://www.basketball-reference.com/leagues/NBA_1986_games-june.html',\n",
       " 'https://www.basketball-reference.com/leagues/NBA_1987_games-october.html',\n",
       " 'https://www.basketball-reference.com/leagues/NBA_1987_games-november.html',\n",
       " 'https://www.basketball-reference.com/leagues/NBA_1987_games-december.html',\n",
       " 'https://www.basketball-reference.com/leagues/NBA_1987_games-january.html',\n",
       " 'https://www.basketball-reference.com/leagues/NBA_1987_games-february.html',\n",
       " 'https://www.basketball-reference.com/leagues/NBA_1987_games-march.html',\n",
       " 'https://www.basketball-reference.com/leagues/NBA_1987_games-april.html',\n",
       " 'https://www.basketball-reference.com/leagues/NBA_1987_games-may.html',\n",
       " 'https://www.basketball-reference.com/leagues/NBA_1987_games-june.html',\n",
       " 'https://www.basketball-reference.com/leagues/NBA_1988_games-november.html',\n",
       " 'https://www.basketball-reference.com/leagues/NBA_1988_games-december.html',\n",
       " 'https://www.basketball-reference.com/leagues/NBA_1988_games-january.html',\n",
       " 'https://www.basketball-reference.com/leagues/NBA_1988_games-february.html',\n",
       " 'https://www.basketball-reference.com/leagues/NBA_1988_games-march.html',\n",
       " 'https://www.basketball-reference.com/leagues/NBA_1988_games-april.html',\n",
       " 'https://www.basketball-reference.com/leagues/NBA_1988_games-may.html',\n",
       " 'https://www.basketball-reference.com/leagues/NBA_1988_games-june.html',\n",
       " 'https://www.basketball-reference.com/leagues/NBA_1989_games-november.html',\n",
       " 'https://www.basketball-reference.com/leagues/NBA_1989_games-december.html',\n",
       " 'https://www.basketball-reference.com/leagues/NBA_1989_games-january.html',\n",
       " 'https://www.basketball-reference.com/leagues/NBA_1989_games-february.html',\n",
       " 'https://www.basketball-reference.com/leagues/NBA_1989_games-march.html',\n",
       " 'https://www.basketball-reference.com/leagues/NBA_1989_games-april.html',\n",
       " 'https://www.basketball-reference.com/leagues/NBA_1989_games-may.html',\n",
       " 'https://www.basketball-reference.com/leagues/NBA_1989_games-june.html',\n",
       " 'https://www.basketball-reference.com/leagues/NBA_1990_games-november.html',\n",
       " 'https://www.basketball-reference.com/leagues/NBA_1990_games-december.html',\n",
       " 'https://www.basketball-reference.com/leagues/NBA_1990_games-january.html',\n",
       " 'https://www.basketball-reference.com/leagues/NBA_1990_games-february.html',\n",
       " 'https://www.basketball-reference.com/leagues/NBA_1990_games-march.html',\n",
       " 'https://www.basketball-reference.com/leagues/NBA_1990_games-april.html',\n",
       " 'https://www.basketball-reference.com/leagues/NBA_1990_games-may.html',\n",
       " 'https://www.basketball-reference.com/leagues/NBA_1990_games-june.html',\n",
       " 'https://www.basketball-reference.com/leagues/NBA_1991_games-november.html',\n",
       " 'https://www.basketball-reference.com/leagues/NBA_1991_games-december.html',\n",
       " 'https://www.basketball-reference.com/leagues/NBA_1991_games-january.html',\n",
       " 'https://www.basketball-reference.com/leagues/NBA_1991_games-february.html',\n",
       " 'https://www.basketball-reference.com/leagues/NBA_1991_games-march.html',\n",
       " 'https://www.basketball-reference.com/leagues/NBA_1991_games-april.html',\n",
       " 'https://www.basketball-reference.com/leagues/NBA_1991_games-may.html',\n",
       " 'https://www.basketball-reference.com/leagues/NBA_1991_games-june.html',\n",
       " 'https://www.basketball-reference.com/leagues/NBA_1992_games-november.html',\n",
       " 'https://www.basketball-reference.com/leagues/NBA_1992_games-december.html',\n",
       " 'https://www.basketball-reference.com/leagues/NBA_1992_games-january.html',\n",
       " 'https://www.basketball-reference.com/leagues/NBA_1992_games-february.html',\n",
       " 'https://www.basketball-reference.com/leagues/NBA_1992_games-march.html',\n",
       " 'https://www.basketball-reference.com/leagues/NBA_1992_games-april.html',\n",
       " 'https://www.basketball-reference.com/leagues/NBA_1992_games-may.html',\n",
       " 'https://www.basketball-reference.com/leagues/NBA_1992_games-june.html',\n",
       " 'https://www.basketball-reference.com/leagues/NBA_1993_games-november.html',\n",
       " 'https://www.basketball-reference.com/leagues/NBA_1993_games-december.html',\n",
       " 'https://www.basketball-reference.com/leagues/NBA_1993_games-january.html',\n",
       " 'https://www.basketball-reference.com/leagues/NBA_1993_games-february.html',\n",
       " 'https://www.basketball-reference.com/leagues/NBA_1993_games-march.html',\n",
       " 'https://www.basketball-reference.com/leagues/NBA_1993_games-april.html',\n",
       " 'https://www.basketball-reference.com/leagues/NBA_1993_games-may.html',\n",
       " 'https://www.basketball-reference.com/leagues/NBA_1993_games-june.html',\n",
       " 'https://www.basketball-reference.com/leagues/NBA_1994_games-november.html',\n",
       " 'https://www.basketball-reference.com/leagues/NBA_1994_games-december.html',\n",
       " 'https://www.basketball-reference.com/leagues/NBA_1994_games-january.html',\n",
       " 'https://www.basketball-reference.com/leagues/NBA_1994_games-february.html',\n",
       " 'https://www.basketball-reference.com/leagues/NBA_1994_games-march.html',\n",
       " 'https://www.basketball-reference.com/leagues/NBA_1994_games-april.html',\n",
       " 'https://www.basketball-reference.com/leagues/NBA_1994_games-may.html',\n",
       " 'https://www.basketball-reference.com/leagues/NBA_1994_games-june.html',\n",
       " 'https://www.basketball-reference.com/leagues/NBA_1995_games-november.html',\n",
       " 'https://www.basketball-reference.com/leagues/NBA_1995_games-december.html',\n",
       " 'https://www.basketball-reference.com/leagues/NBA_1995_games-january.html',\n",
       " 'https://www.basketball-reference.com/leagues/NBA_1995_games-february.html',\n",
       " 'https://www.basketball-reference.com/leagues/NBA_1995_games-march.html',\n",
       " 'https://www.basketball-reference.com/leagues/NBA_1995_games-april.html',\n",
       " 'https://www.basketball-reference.com/leagues/NBA_1995_games-may.html',\n",
       " 'https://www.basketball-reference.com/leagues/NBA_1995_games-june.html',\n",
       " 'https://www.basketball-reference.com/leagues/NBA_1996_games-november.html',\n",
       " 'https://www.basketball-reference.com/leagues/NBA_1996_games-december.html',\n",
       " 'https://www.basketball-reference.com/leagues/NBA_1996_games-january.html',\n",
       " 'https://www.basketball-reference.com/leagues/NBA_1996_games-february.html',\n",
       " 'https://www.basketball-reference.com/leagues/NBA_1996_games-march.html',\n",
       " 'https://www.basketball-reference.com/leagues/NBA_1996_games-april.html',\n",
       " 'https://www.basketball-reference.com/leagues/NBA_1996_games-may.html',\n",
       " 'https://www.basketball-reference.com/leagues/NBA_1996_games-june.html',\n",
       " 'https://www.basketball-reference.com/leagues/NBA_1997_games-november.html',\n",
       " 'https://www.basketball-reference.com/leagues/NBA_1997_games-december.html',\n",
       " 'https://www.basketball-reference.com/leagues/NBA_1997_games-january.html',\n",
       " 'https://www.basketball-reference.com/leagues/NBA_1997_games-february.html',\n",
       " 'https://www.basketball-reference.com/leagues/NBA_1997_games-march.html',\n",
       " 'https://www.basketball-reference.com/leagues/NBA_1997_games-april.html',\n",
       " 'https://www.basketball-reference.com/leagues/NBA_1997_games-may.html',\n",
       " 'https://www.basketball-reference.com/leagues/NBA_1997_games-june.html',\n",
       " 'https://www.basketball-reference.com/leagues/NBA_1998_games-october.html',\n",
       " 'https://www.basketball-reference.com/leagues/NBA_1998_games-november.html',\n",
       " 'https://www.basketball-reference.com/leagues/NBA_1998_games-december.html',\n",
       " 'https://www.basketball-reference.com/leagues/NBA_1998_games-january.html',\n",
       " 'https://www.basketball-reference.com/leagues/NBA_1998_games-february.html',\n",
       " 'https://www.basketball-reference.com/leagues/NBA_1998_games-march.html',\n",
       " 'https://www.basketball-reference.com/leagues/NBA_1998_games-april.html',\n",
       " 'https://www.basketball-reference.com/leagues/NBA_1998_games-may.html',\n",
       " 'https://www.basketball-reference.com/leagues/NBA_1998_games-june.html',\n",
       " 'https://www.basketball-reference.com/leagues/NBA_1999_games-february.html',\n",
       " 'https://www.basketball-reference.com/leagues/NBA_1999_games-march.html',\n",
       " 'https://www.basketball-reference.com/leagues/NBA_1999_games-april.html',\n",
       " 'https://www.basketball-reference.com/leagues/NBA_1999_games-may.html',\n",
       " 'https://www.basketball-reference.com/leagues/NBA_1999_games-june.html',\n",
       " 'https://www.basketball-reference.com/leagues/NBA_2000_games-november.html',\n",
       " 'https://www.basketball-reference.com/leagues/NBA_2000_games-december.html',\n",
       " 'https://www.basketball-reference.com/leagues/NBA_2000_games-january.html',\n",
       " 'https://www.basketball-reference.com/leagues/NBA_2000_games-february.html',\n",
       " 'https://www.basketball-reference.com/leagues/NBA_2000_games-march.html',\n",
       " 'https://www.basketball-reference.com/leagues/NBA_2000_games-april.html',\n",
       " 'https://www.basketball-reference.com/leagues/NBA_2000_games-may.html',\n",
       " 'https://www.basketball-reference.com/leagues/NBA_2000_games-june.html',\n",
       " 'https://www.basketball-reference.com/leagues/NBA_2001_games-october.html',\n",
       " 'https://www.basketball-reference.com/leagues/NBA_2001_games-november.html',\n",
       " 'https://www.basketball-reference.com/leagues/NBA_2001_games-december.html',\n",
       " 'https://www.basketball-reference.com/leagues/NBA_2001_games-january.html',\n",
       " 'https://www.basketball-reference.com/leagues/NBA_2001_games-february.html',\n",
       " 'https://www.basketball-reference.com/leagues/NBA_2001_games-march.html',\n",
       " 'https://www.basketball-reference.com/leagues/NBA_2001_games-april.html',\n",
       " 'https://www.basketball-reference.com/leagues/NBA_2001_games-may.html',\n",
       " 'https://www.basketball-reference.com/leagues/NBA_2001_games-june.html',\n",
       " 'https://www.basketball-reference.com/leagues/NBA_2002_games-october.html',\n",
       " 'https://www.basketball-reference.com/leagues/NBA_2002_games-november.html',\n",
       " 'https://www.basketball-reference.com/leagues/NBA_2002_games-december.html',\n",
       " 'https://www.basketball-reference.com/leagues/NBA_2002_games-january.html',\n",
       " 'https://www.basketball-reference.com/leagues/NBA_2002_games-february.html',\n",
       " 'https://www.basketball-reference.com/leagues/NBA_2002_games-march.html',\n",
       " 'https://www.basketball-reference.com/leagues/NBA_2002_games-april.html',\n",
       " 'https://www.basketball-reference.com/leagues/NBA_2002_games-may.html',\n",
       " 'https://www.basketball-reference.com/leagues/NBA_2002_games-june.html',\n",
       " 'https://www.basketball-reference.com/leagues/NBA_2003_games-october.html',\n",
       " 'https://www.basketball-reference.com/leagues/NBA_2003_games-november.html',\n",
       " 'https://www.basketball-reference.com/leagues/NBA_2003_games-december.html',\n",
       " 'https://www.basketball-reference.com/leagues/NBA_2003_games-january.html',\n",
       " 'https://www.basketball-reference.com/leagues/NBA_2003_games-february.html',\n",
       " 'https://www.basketball-reference.com/leagues/NBA_2003_games-march.html',\n",
       " 'https://www.basketball-reference.com/leagues/NBA_2003_games-april.html',\n",
       " 'https://www.basketball-reference.com/leagues/NBA_2003_games-may.html',\n",
       " 'https://www.basketball-reference.com/leagues/NBA_2003_games-june.html',\n",
       " 'https://www.basketball-reference.com/leagues/NBA_2004_games-october.html',\n",
       " 'https://www.basketball-reference.com/leagues/NBA_2004_games-november.html',\n",
       " 'https://www.basketball-reference.com/leagues/NBA_2004_games-december.html',\n",
       " 'https://www.basketball-reference.com/leagues/NBA_2004_games-january.html',\n",
       " 'https://www.basketball-reference.com/leagues/NBA_2004_games-february.html',\n",
       " 'https://www.basketball-reference.com/leagues/NBA_2004_games-march.html',\n",
       " 'https://www.basketball-reference.com/leagues/NBA_2004_games-april.html',\n",
       " 'https://www.basketball-reference.com/leagues/NBA_2004_games-may.html',\n",
       " 'https://www.basketball-reference.com/leagues/NBA_2004_games-june.html',\n",
       " 'https://www.basketball-reference.com/leagues/NBA_2005_games-november.html',\n",
       " 'https://www.basketball-reference.com/leagues/NBA_2005_games-december.html',\n",
       " 'https://www.basketball-reference.com/leagues/NBA_2005_games-january.html',\n",
       " 'https://www.basketball-reference.com/leagues/NBA_2005_games-february.html',\n",
       " 'https://www.basketball-reference.com/leagues/NBA_2005_games-march.html',\n",
       " 'https://www.basketball-reference.com/leagues/NBA_2005_games-april.html',\n",
       " 'https://www.basketball-reference.com/leagues/NBA_2005_games-may.html',\n",
       " 'https://www.basketball-reference.com/leagues/NBA_2005_games-june.html',\n",
       " 'https://www.basketball-reference.com/leagues/NBA_2006_games-november.html',\n",
       " 'https://www.basketball-reference.com/leagues/NBA_2006_games-december.html',\n",
       " 'https://www.basketball-reference.com/leagues/NBA_2006_games-january.html',\n",
       " 'https://www.basketball-reference.com/leagues/NBA_2006_games-february.html',\n",
       " 'https://www.basketball-reference.com/leagues/NBA_2006_games-march.html',\n",
       " 'https://www.basketball-reference.com/leagues/NBA_2006_games-april.html',\n",
       " 'https://www.basketball-reference.com/leagues/NBA_2006_games-may.html',\n",
       " 'https://www.basketball-reference.com/leagues/NBA_2006_games-june.html',\n",
       " 'https://www.basketball-reference.com/leagues/NBA_2007_games-october.html',\n",
       " 'https://www.basketball-reference.com/leagues/NBA_2007_games-november.html',\n",
       " 'https://www.basketball-reference.com/leagues/NBA_2007_games-december.html',\n",
       " 'https://www.basketball-reference.com/leagues/NBA_2007_games-january.html',\n",
       " 'https://www.basketball-reference.com/leagues/NBA_2007_games-february.html',\n",
       " 'https://www.basketball-reference.com/leagues/NBA_2007_games-march.html',\n",
       " 'https://www.basketball-reference.com/leagues/NBA_2007_games-april.html',\n",
       " 'https://www.basketball-reference.com/leagues/NBA_2007_games-may.html',\n",
       " 'https://www.basketball-reference.com/leagues/NBA_2007_games-june.html',\n",
       " 'https://www.basketball-reference.com/leagues/NBA_2008_games-october.html',\n",
       " 'https://www.basketball-reference.com/leagues/NBA_2008_games-november.html',\n",
       " 'https://www.basketball-reference.com/leagues/NBA_2008_games-december.html',\n",
       " 'https://www.basketball-reference.com/leagues/NBA_2008_games-january.html',\n",
       " 'https://www.basketball-reference.com/leagues/NBA_2008_games-february.html',\n",
       " 'https://www.basketball-reference.com/leagues/NBA_2008_games-march.html',\n",
       " 'https://www.basketball-reference.com/leagues/NBA_2008_games-april.html',\n",
       " 'https://www.basketball-reference.com/leagues/NBA_2008_games-may.html',\n",
       " 'https://www.basketball-reference.com/leagues/NBA_2008_games-june.html',\n",
       " 'https://www.basketball-reference.com/leagues/NBA_2009_games-october.html',\n",
       " 'https://www.basketball-reference.com/leagues/NBA_2009_games-november.html',\n",
       " 'https://www.basketball-reference.com/leagues/NBA_2009_games-december.html',\n",
       " 'https://www.basketball-reference.com/leagues/NBA_2009_games-january.html',\n",
       " 'https://www.basketball-reference.com/leagues/NBA_2009_games-february.html',\n",
       " 'https://www.basketball-reference.com/leagues/NBA_2009_games-march.html',\n",
       " 'https://www.basketball-reference.com/leagues/NBA_2009_games-april.html',\n",
       " 'https://www.basketball-reference.com/leagues/NBA_2009_games-may.html',\n",
       " 'https://www.basketball-reference.com/leagues/NBA_2009_games-june.html',\n",
       " 'https://www.basketball-reference.com/leagues/NBA_2010_games-october.html',\n",
       " 'https://www.basketball-reference.com/leagues/NBA_2010_games-november.html',\n",
       " 'https://www.basketball-reference.com/leagues/NBA_2010_games-december.html',\n",
       " 'https://www.basketball-reference.com/leagues/NBA_2010_games-january.html',\n",
       " 'https://www.basketball-reference.com/leagues/NBA_2010_games-february.html',\n",
       " 'https://www.basketball-reference.com/leagues/NBA_2010_games-march.html',\n",
       " 'https://www.basketball-reference.com/leagues/NBA_2010_games-april.html',\n",
       " 'https://www.basketball-reference.com/leagues/NBA_2010_games-may.html',\n",
       " 'https://www.basketball-reference.com/leagues/NBA_2010_games-june.html',\n",
       " 'https://www.basketball-reference.com/leagues/NBA_2011_games-october.html',\n",
       " 'https://www.basketball-reference.com/leagues/NBA_2011_games-november.html',\n",
       " 'https://www.basketball-reference.com/leagues/NBA_2011_games-december.html',\n",
       " 'https://www.basketball-reference.com/leagues/NBA_2011_games-january.html',\n",
       " 'https://www.basketball-reference.com/leagues/NBA_2011_games-february.html',\n",
       " 'https://www.basketball-reference.com/leagues/NBA_2011_games-march.html',\n",
       " 'https://www.basketball-reference.com/leagues/NBA_2011_games-april.html',\n",
       " 'https://www.basketball-reference.com/leagues/NBA_2011_games-may.html',\n",
       " 'https://www.basketball-reference.com/leagues/NBA_2011_games-june.html',\n",
       " 'https://www.basketball-reference.com/leagues/NBA_2012_games-december.html',\n",
       " 'https://www.basketball-reference.com/leagues/NBA_2012_games-january.html',\n",
       " 'https://www.basketball-reference.com/leagues/NBA_2012_games-february.html',\n",
       " 'https://www.basketball-reference.com/leagues/NBA_2012_games-march.html',\n",
       " 'https://www.basketball-reference.com/leagues/NBA_2012_games-april.html',\n",
       " 'https://www.basketball-reference.com/leagues/NBA_2012_games-may.html',\n",
       " 'https://www.basketball-reference.com/leagues/NBA_2012_games-june.html',\n",
       " 'https://www.basketball-reference.com/leagues/NBA_2013_games-october.html',\n",
       " 'https://www.basketball-reference.com/leagues/NBA_2013_games-november.html',\n",
       " 'https://www.basketball-reference.com/leagues/NBA_2013_games-december.html',\n",
       " 'https://www.basketball-reference.com/leagues/NBA_2013_games-january.html',\n",
       " 'https://www.basketball-reference.com/leagues/NBA_2013_games-february.html',\n",
       " 'https://www.basketball-reference.com/leagues/NBA_2013_games-march.html',\n",
       " 'https://www.basketball-reference.com/leagues/NBA_2013_games-april.html',\n",
       " 'https://www.basketball-reference.com/leagues/NBA_2013_games-may.html',\n",
       " 'https://www.basketball-reference.com/leagues/NBA_2013_games-june.html',\n",
       " 'https://www.basketball-reference.com/leagues/NBA_2014_games-october.html',\n",
       " 'https://www.basketball-reference.com/leagues/NBA_2014_games-november.html',\n",
       " 'https://www.basketball-reference.com/leagues/NBA_2014_games-december.html',\n",
       " 'https://www.basketball-reference.com/leagues/NBA_2014_games-january.html',\n",
       " 'https://www.basketball-reference.com/leagues/NBA_2014_games-february.html',\n",
       " 'https://www.basketball-reference.com/leagues/NBA_2014_games-march.html',\n",
       " 'https://www.basketball-reference.com/leagues/NBA_2014_games-april.html',\n",
       " 'https://www.basketball-reference.com/leagues/NBA_2014_games-may.html',\n",
       " 'https://www.basketball-reference.com/leagues/NBA_2014_games-june.html',\n",
       " 'https://www.basketball-reference.com/leagues/NBA_2015_games-october.html',\n",
       " 'https://www.basketball-reference.com/leagues/NBA_2015_games-november.html',\n",
       " 'https://www.basketball-reference.com/leagues/NBA_2015_games-december.html',\n",
       " 'https://www.basketball-reference.com/leagues/NBA_2015_games-january.html',\n",
       " 'https://www.basketball-reference.com/leagues/NBA_2015_games-february.html',\n",
       " 'https://www.basketball-reference.com/leagues/NBA_2015_games-march.html',\n",
       " 'https://www.basketball-reference.com/leagues/NBA_2015_games-april.html',\n",
       " 'https://www.basketball-reference.com/leagues/NBA_2015_games-may.html',\n",
       " 'https://www.basketball-reference.com/leagues/NBA_2015_games-june.html',\n",
       " 'https://www.basketball-reference.com/leagues/NBA_2016_games-october.html',\n",
       " 'https://www.basketball-reference.com/leagues/NBA_2016_games-november.html',\n",
       " 'https://www.basketball-reference.com/leagues/NBA_2016_games-december.html',\n",
       " 'https://www.basketball-reference.com/leagues/NBA_2016_games-january.html',\n",
       " 'https://www.basketball-reference.com/leagues/NBA_2016_games-february.html',\n",
       " 'https://www.basketball-reference.com/leagues/NBA_2016_games-march.html',\n",
       " 'https://www.basketball-reference.com/leagues/NBA_2016_games-april.html',\n",
       " 'https://www.basketball-reference.com/leagues/NBA_2016_games-may.html',\n",
       " 'https://www.basketball-reference.com/leagues/NBA_2016_games-june.html',\n",
       " 'https://www.basketball-reference.com/leagues/NBA_2017_games-october.html',\n",
       " 'https://www.basketball-reference.com/leagues/NBA_2017_games-november.html',\n",
       " 'https://www.basketball-reference.com/leagues/NBA_2017_games-december.html',\n",
       " 'https://www.basketball-reference.com/leagues/NBA_2017_games-january.html',\n",
       " 'https://www.basketball-reference.com/leagues/NBA_2017_games-february.html',\n",
       " 'https://www.basketball-reference.com/leagues/NBA_2017_games-march.html',\n",
       " 'https://www.basketball-reference.com/leagues/NBA_2017_games-april.html',\n",
       " 'https://www.basketball-reference.com/leagues/NBA_2017_games-may.html',\n",
       " 'https://www.basketball-reference.com/leagues/NBA_2017_games-june.html',\n",
       " 'https://www.basketball-reference.com/leagues/NBA_2018_games-october.html',\n",
       " 'https://www.basketball-reference.com/leagues/NBA_2018_games-november.html',\n",
       " 'https://www.basketball-reference.com/leagues/NBA_2018_games-december.html',\n",
       " 'https://www.basketball-reference.com/leagues/NBA_2018_games-january.html',\n",
       " 'https://www.basketball-reference.com/leagues/NBA_2018_games-february.html',\n",
       " 'https://www.basketball-reference.com/leagues/NBA_2018_games-march.html',\n",
       " 'https://www.basketball-reference.com/leagues/NBA_2018_games-april.html',\n",
       " 'https://www.basketball-reference.com/leagues/NBA_2018_games-may.html',\n",
       " 'https://www.basketball-reference.com/leagues/NBA_2018_games-june.html',\n",
       " 'https://www.basketball-reference.com/leagues/NBA_2019_games-october.html',\n",
       " 'https://www.basketball-reference.com/leagues/NBA_2019_games-november.html',\n",
       " 'https://www.basketball-reference.com/leagues/NBA_2019_games-december.html',\n",
       " 'https://www.basketball-reference.com/leagues/NBA_2019_games-january.html',\n",
       " 'https://www.basketball-reference.com/leagues/NBA_2019_games-february.html',\n",
       " 'https://www.basketball-reference.com/leagues/NBA_2019_games-march.html',\n",
       " 'https://www.basketball-reference.com/leagues/NBA_2019_games-april.html',\n",
       " 'https://www.basketball-reference.com/leagues/NBA_2019_games-may.html',\n",
       " 'https://www.basketball-reference.com/leagues/NBA_2019_games-june.html',\n",
       " 'https://www.basketball-reference.com/leagues/NBA_2019_games-september.html',\n",
       " 'https://www.basketball-reference.com/leagues/NBA_2020_games-november.html',\n",
       " 'https://www.basketball-reference.com/leagues/NBA_2020_games-december.html',\n",
       " 'https://www.basketball-reference.com/leagues/NBA_2020_games-january.html',\n",
       " 'https://www.basketball-reference.com/leagues/NBA_2020_games-february.html',\n",
       " 'https://www.basketball-reference.com/leagues/NBA_2020_games-march.html',\n",
       " 'https://www.basketball-reference.com/leagues/NBA_2020_games-april.html',\n",
       " 'https://www.basketball-reference.com/leagues/NBA_2020_games-july.html',\n",
       " 'https://www.basketball-reference.com/leagues/NBA_2020_games-august.html',\n",
       " 'https://www.basketball-reference.com/leagues/NBA_2020_games-september.html',\n",
       " 'https://www.basketball-reference.com/leagues/NBA_2020_games-october-2019.html',\n",
       " 'https://www.basketball-reference.com/leagues/NBA_2020_games-october-2020.html',\n",
       " 'https://www.basketball-reference.com/leagues/NBA_2021_games-december.html',\n",
       " 'https://www.basketball-reference.com/leagues/NBA_2021_games-january.html',\n",
       " 'https://www.basketball-reference.com/leagues/NBA_2021_games-february.html',\n",
       " 'https://www.basketball-reference.com/leagues/NBA_2021_games-march.html']"
      ]
     },
     "execution_count": 37,
     "metadata": {},
     "output_type": "execute_result"
    }
   ],
   "source": [
    "actual_links # pulling links to reference for dataset - can serve as a starting point and always pull data from 2021 onwards and append if we ever need to update with more recent data"
   ]
  },
  {
   "cell_type": "code",
   "execution_count": null,
   "id": "pacific-calculation",
   "metadata": {},
   "outputs": [],
   "source": []
  },
  {
   "cell_type": "code",
   "execution_count": null,
   "id": "guided-salem",
   "metadata": {},
   "outputs": [],
   "source": []
  }
 ],
 "metadata": {
  "kernelspec": {
   "display_name": "Python 3",
   "language": "python",
   "name": "python3"
  },
  "language_info": {
   "codemirror_mode": {
    "name": "ipython",
    "version": 3
   },
   "file_extension": ".py",
   "mimetype": "text/x-python",
   "name": "python",
   "nbconvert_exporter": "python",
   "pygments_lexer": "ipython3",
   "version": "3.7.9"
  }
 },
 "nbformat": 4,
 "nbformat_minor": 5
}
