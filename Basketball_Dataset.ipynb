{
 "cells": [
  {
   "cell_type": "code",
   "execution_count": 285,
   "id": "third-struggle",
   "metadata": {},
   "outputs": [],
   "source": [
    "from pymongo import MongoClient\n",
    "import pprint\n",
    "\n",
    "import pandas as pd\n",
    "import matplotlib.pyplot as plt\n",
    "\n",
    "import requests\n",
    "\n",
    "from bs4 import BeautifulSoup\n",
    "\n",
    "import json\n",
    "import datetime\n",
    "import calendar\n",
    "import time\n",
    "import numpy as np\n",
    "import scipy.stats as stats"
   ]
  },
  {
   "cell_type": "code",
   "execution_count": 42,
   "id": "collected-picture",
   "metadata": {},
   "outputs": [],
   "source": [
    "#  Connect to the hosted MongoDB instance\n",
    "client = MongoClient()"
   ]
  },
  {
   "cell_type": "code",
   "execution_count": 43,
   "id": "burning-wrong",
   "metadata": {},
   "outputs": [],
   "source": [
    "# Access already existing database\n",
    "db = client['capstone1_bball_reference']"
   ]
  },
  {
   "cell_type": "code",
   "execution_count": 44,
   "id": "specified-bones",
   "metadata": {},
   "outputs": [],
   "source": [
    "# Access already existing collection in database\n",
    "all_seasons = db['all_seasons']"
   ]
  },
  {
   "cell_type": "code",
   "execution_count": 54,
   "id": "cleared-andorra",
   "metadata": {},
   "outputs": [],
   "source": [
    "actual_links = db.all_seasons.distinct(\"link\")"
   ]
  },
  {
   "cell_type": "markdown",
   "id": "interesting-assignment",
   "metadata": {},
   "source": [
    "## Get HTML pages from MongoDB and parse with Beautiful Soup"
   ]
  },
  {
   "cell_type": "code",
   "execution_count": 102,
   "id": "scenic-upset",
   "metadata": {},
   "outputs": [],
   "source": [
    "def parse_to_df(links, starting_season,ending_season):\n",
    "    \n",
    "    date = []\n",
    "    visiting = []\n",
    "    visiting_score = []\n",
    "    home = []\n",
    "    home_score = []\n",
    "    season = []\n",
    "    notes = []\n",
    "    \n",
    "    for i,link in enumerate(links):\n",
    "        \n",
    "        if starting_season <= int(link.split(\"_\")[1]) <= ending_season:\n",
    "        \n",
    "            sub_season = all_seasons.find_one({'link':link})['html']\n",
    "            soup = BeautifulSoup(sub_season,'html.parser')\n",
    "\n",
    "            for i,game in enumerate(soup.find_all('tr')):\n",
    "                if game.a != None: #skips the chart label rows\n",
    "                    datestring = game.find('a').text[5:]\n",
    "                    dt = datetime.datetime.strptime(datestring,'%b %d, %Y') #change datestring to datetime object\n",
    "                    date.append(dt)\n",
    "                    visiting.append(game.find_all('td','left')[0].text)\n",
    "                    home.append(game.find_all('td','left')[1].text)\n",
    "                    season.append(soup.find_all('div','inactive')[0].find('li','index').text.rstrip())\n",
    "                    notes.append(game.find_all('td','left')[-1].text)\n",
    "                    if len(soup.find_all('col'))==10: #takes care of the different column counts \n",
    "                        if (game.find_all('td','right')[1].text) != '': #accommodates for games that were scheduled but never played have have no scores\n",
    "                            visiting_score.append(int(game.find_all('td','right')[1].text))\n",
    "                            home_score.append(int(game.find_all('td','right')[2].text))\n",
    "                        else: \n",
    "                            visiting_score.append(0)\n",
    "                            home_score.append(0)\n",
    "                    else:\n",
    "                        if (game.find_all('td','right')[0].text) != '':\n",
    "                            visiting_score.append(int(game.find_all('td','right')[0].text))\n",
    "                            home_score.append(int(game.find_all('td','right')[1].text))\n",
    "                        else: \n",
    "                            visiting_score.append(0)\n",
    "                            home_score.append(0)\n",
    "                \n",
    "    df = pd.DataFrame({'date':date,'season':season,'visiting_team':visiting,'visiting_score':visiting_score,\n",
    "                  'home_team':home, 'home_score':home_score, 'notes':notes})\n",
    "    return df"
   ]
  },
  {
   "cell_type": "code",
   "execution_count": 195,
   "id": "satisfactory-seating",
   "metadata": {},
   "outputs": [],
   "source": [
    "df = parse_to_df(actual_links, 2010, 2019)"
   ]
  },
  {
   "cell_type": "code",
   "execution_count": 196,
   "id": "sporting-generator",
   "metadata": {},
   "outputs": [
    {
     "name": "stdout",
     "output_type": "stream",
     "text": [
      "<class 'pandas.core.frame.DataFrame'>\n",
      "RangeIndex: 12897 entries, 0 to 12896\n",
      "Data columns (total 7 columns):\n",
      " #   Column          Non-Null Count  Dtype         \n",
      "---  ------          --------------  -----         \n",
      " 0   date            12897 non-null  datetime64[ns]\n",
      " 1   season          12897 non-null  object        \n",
      " 2   visiting_team   12897 non-null  object        \n",
      " 3   visiting_score  12897 non-null  int64         \n",
      " 4   home_team       12897 non-null  object        \n",
      " 5   home_score      12897 non-null  int64         \n",
      " 6   notes           12897 non-null  object        \n",
      "dtypes: datetime64[ns](1), int64(2), object(4)\n",
      "memory usage: 705.4+ KB\n"
     ]
    }
   ],
   "source": [
    "df.info()"
   ]
  },
  {
   "cell_type": "code",
   "execution_count": 198,
   "id": "familiar-fancy",
   "metadata": {},
   "outputs": [
    {
     "data": {
      "text/html": [
       "<div>\n",
       "<style scoped>\n",
       "    .dataframe tbody tr th:only-of-type {\n",
       "        vertical-align: middle;\n",
       "    }\n",
       "\n",
       "    .dataframe tbody tr th {\n",
       "        vertical-align: top;\n",
       "    }\n",
       "\n",
       "    .dataframe thead th {\n",
       "        text-align: right;\n",
       "    }\n",
       "</style>\n",
       "<table border=\"1\" class=\"dataframe\">\n",
       "  <thead>\n",
       "    <tr style=\"text-align: right;\">\n",
       "      <th></th>\n",
       "      <th>date</th>\n",
       "      <th>season</th>\n",
       "      <th>visiting_team</th>\n",
       "      <th>visiting_score</th>\n",
       "      <th>home_team</th>\n",
       "      <th>home_score</th>\n",
       "      <th>notes</th>\n",
       "    </tr>\n",
       "  </thead>\n",
       "  <tbody>\n",
       "    <tr>\n",
       "      <th>0</th>\n",
       "      <td>2010-04-01</td>\n",
       "      <td>2009-10 NBA Season</td>\n",
       "      <td>Orlando Magic</td>\n",
       "      <td>97</td>\n",
       "      <td>Dallas Mavericks</td>\n",
       "      <td>82</td>\n",
       "      <td></td>\n",
       "    </tr>\n",
       "    <tr>\n",
       "      <th>1</th>\n",
       "      <td>2010-04-01</td>\n",
       "      <td>2009-10 NBA Season</td>\n",
       "      <td>Portland Trail Blazers</td>\n",
       "      <td>92</td>\n",
       "      <td>Denver Nuggets</td>\n",
       "      <td>109</td>\n",
       "      <td></td>\n",
       "    </tr>\n",
       "    <tr>\n",
       "      <th>2</th>\n",
       "      <td>2010-04-02</td>\n",
       "      <td>2009-10 NBA Season</td>\n",
       "      <td>Milwaukee Bucks</td>\n",
       "      <td>86</td>\n",
       "      <td>Charlotte Bobcats</td>\n",
       "      <td>87</td>\n",
       "      <td></td>\n",
       "    </tr>\n",
       "    <tr>\n",
       "      <th>3</th>\n",
       "      <td>2010-04-02</td>\n",
       "      <td>2009-10 NBA Season</td>\n",
       "      <td>Miami Heat</td>\n",
       "      <td>105</td>\n",
       "      <td>Indiana Pacers</td>\n",
       "      <td>96</td>\n",
       "      <td></td>\n",
       "    </tr>\n",
       "    <tr>\n",
       "      <th>4</th>\n",
       "      <td>2010-04-02</td>\n",
       "      <td>2009-10 NBA Season</td>\n",
       "      <td>Chicago Bulls</td>\n",
       "      <td>95</td>\n",
       "      <td>Washington Wizards</td>\n",
       "      <td>87</td>\n",
       "      <td></td>\n",
       "    </tr>\n",
       "  </tbody>\n",
       "</table>\n",
       "</div>"
      ],
      "text/plain": [
       "        date              season           visiting_team  visiting_score  \\\n",
       "0 2010-04-01  2009-10 NBA Season           Orlando Magic              97   \n",
       "1 2010-04-01  2009-10 NBA Season  Portland Trail Blazers              92   \n",
       "2 2010-04-02  2009-10 NBA Season         Milwaukee Bucks              86   \n",
       "3 2010-04-02  2009-10 NBA Season              Miami Heat             105   \n",
       "4 2010-04-02  2009-10 NBA Season           Chicago Bulls              95   \n",
       "\n",
       "            home_team  home_score notes  \n",
       "0    Dallas Mavericks          82        \n",
       "1      Denver Nuggets         109        \n",
       "2   Charlotte Bobcats          87        \n",
       "3      Indiana Pacers          96        \n",
       "4  Washington Wizards          87        "
      ]
     },
     "execution_count": 198,
     "metadata": {},
     "output_type": "execute_result"
    }
   ],
   "source": [
    "df.head()"
   ]
  },
  {
   "cell_type": "markdown",
   "id": "durable-purple",
   "metadata": {},
   "source": [
    "Drop rows with notes (these rows are where games are played elsewhere - not at either teams' arenas) and rows with 0's as scores (these games were scheduled but have not been played)"
   ]
  },
  {
   "cell_type": "code",
   "execution_count": 199,
   "id": "instrumental-swiss",
   "metadata": {},
   "outputs": [
    {
     "data": {
      "text/plain": [
       "17"
      ]
     },
     "execution_count": 199,
     "metadata": {},
     "output_type": "execute_result"
    }
   ],
   "source": [
    "df[df.notes!='']['notes'].count()"
   ]
  },
  {
   "cell_type": "code",
   "execution_count": 200,
   "id": "scenic-improvement",
   "metadata": {},
   "outputs": [
    {
     "data": {
      "text/plain": [
       "7"
      ]
     },
     "execution_count": 200,
     "metadata": {},
     "output_type": "execute_result"
    }
   ],
   "source": [
    "df[df.visiting_score == 0]['visiting_score'].count()"
   ]
  },
  {
   "cell_type": "code",
   "execution_count": 211,
   "id": "accepted-panic",
   "metadata": {},
   "outputs": [
    {
     "data": {
      "text/html": [
       "<div>\n",
       "<style scoped>\n",
       "    .dataframe tbody tr th:only-of-type {\n",
       "        vertical-align: middle;\n",
       "    }\n",
       "\n",
       "    .dataframe tbody tr th {\n",
       "        vertical-align: top;\n",
       "    }\n",
       "\n",
       "    .dataframe thead th {\n",
       "        text-align: right;\n",
       "    }\n",
       "</style>\n",
       "<table border=\"1\" class=\"dataframe\">\n",
       "  <thead>\n",
       "    <tr style=\"text-align: right;\">\n",
       "      <th></th>\n",
       "      <th>date</th>\n",
       "      <th>season</th>\n",
       "      <th>visiting_team</th>\n",
       "      <th>visiting_score</th>\n",
       "      <th>home_team</th>\n",
       "      <th>home_score</th>\n",
       "      <th>notes</th>\n",
       "    </tr>\n",
       "  </thead>\n",
       "  <tbody>\n",
       "    <tr>\n",
       "      <th>0</th>\n",
       "      <td>2010-04-01</td>\n",
       "      <td>2009-10 NBA Season</td>\n",
       "      <td>Orlando Magic</td>\n",
       "      <td>97</td>\n",
       "      <td>Dallas Mavericks</td>\n",
       "      <td>82</td>\n",
       "      <td></td>\n",
       "    </tr>\n",
       "    <tr>\n",
       "      <th>1</th>\n",
       "      <td>2010-04-01</td>\n",
       "      <td>2009-10 NBA Season</td>\n",
       "      <td>Portland Trail Blazers</td>\n",
       "      <td>92</td>\n",
       "      <td>Denver Nuggets</td>\n",
       "      <td>109</td>\n",
       "      <td></td>\n",
       "    </tr>\n",
       "    <tr>\n",
       "      <th>2</th>\n",
       "      <td>2010-04-02</td>\n",
       "      <td>2009-10 NBA Season</td>\n",
       "      <td>Milwaukee Bucks</td>\n",
       "      <td>86</td>\n",
       "      <td>Charlotte Bobcats</td>\n",
       "      <td>87</td>\n",
       "      <td></td>\n",
       "    </tr>\n",
       "    <tr>\n",
       "      <th>3</th>\n",
       "      <td>2010-04-02</td>\n",
       "      <td>2009-10 NBA Season</td>\n",
       "      <td>Miami Heat</td>\n",
       "      <td>105</td>\n",
       "      <td>Indiana Pacers</td>\n",
       "      <td>96</td>\n",
       "      <td></td>\n",
       "    </tr>\n",
       "    <tr>\n",
       "      <th>4</th>\n",
       "      <td>2010-04-02</td>\n",
       "      <td>2009-10 NBA Season</td>\n",
       "      <td>Chicago Bulls</td>\n",
       "      <td>95</td>\n",
       "      <td>Washington Wizards</td>\n",
       "      <td>87</td>\n",
       "      <td></td>\n",
       "    </tr>\n",
       "    <tr>\n",
       "      <th>...</th>\n",
       "      <td>...</td>\n",
       "      <td>...</td>\n",
       "      <td>...</td>\n",
       "      <td>...</td>\n",
       "      <td>...</td>\n",
       "      <td>...</td>\n",
       "      <td>...</td>\n",
       "    </tr>\n",
       "    <tr>\n",
       "      <th>12885</th>\n",
       "      <td>2018-10-31</td>\n",
       "      <td>2018-19 NBA Season</td>\n",
       "      <td>Utah Jazz</td>\n",
       "      <td>125</td>\n",
       "      <td>Minnesota Timberwolves</td>\n",
       "      <td>128</td>\n",
       "      <td></td>\n",
       "    </tr>\n",
       "    <tr>\n",
       "      <th>12886</th>\n",
       "      <td>2018-10-31</td>\n",
       "      <td>2018-19 NBA Season</td>\n",
       "      <td>Indiana Pacers</td>\n",
       "      <td>107</td>\n",
       "      <td>New York Knicks</td>\n",
       "      <td>101</td>\n",
       "      <td></td>\n",
       "    </tr>\n",
       "    <tr>\n",
       "      <th>12887</th>\n",
       "      <td>2018-10-31</td>\n",
       "      <td>2018-19 NBA Season</td>\n",
       "      <td>New Orleans Pelicans</td>\n",
       "      <td>121</td>\n",
       "      <td>Golden State Warriors</td>\n",
       "      <td>131</td>\n",
       "      <td></td>\n",
       "    </tr>\n",
       "    <tr>\n",
       "      <th>12888</th>\n",
       "      <td>2018-10-31</td>\n",
       "      <td>2018-19 NBA Season</td>\n",
       "      <td>Dallas Mavericks</td>\n",
       "      <td>113</td>\n",
       "      <td>Los Angeles Lakers</td>\n",
       "      <td>114</td>\n",
       "      <td></td>\n",
       "    </tr>\n",
       "    <tr>\n",
       "      <th>12889</th>\n",
       "      <td>2018-10-31</td>\n",
       "      <td>2018-19 NBA Season</td>\n",
       "      <td>San Antonio Spurs</td>\n",
       "      <td>120</td>\n",
       "      <td>Phoenix Suns</td>\n",
       "      <td>90</td>\n",
       "      <td></td>\n",
       "    </tr>\n",
       "  </tbody>\n",
       "</table>\n",
       "<p>12873 rows × 7 columns</p>\n",
       "</div>"
      ],
      "text/plain": [
       "            date              season           visiting_team  visiting_score  \\\n",
       "0     2010-04-01  2009-10 NBA Season           Orlando Magic              97   \n",
       "1     2010-04-01  2009-10 NBA Season  Portland Trail Blazers              92   \n",
       "2     2010-04-02  2009-10 NBA Season         Milwaukee Bucks              86   \n",
       "3     2010-04-02  2009-10 NBA Season              Miami Heat             105   \n",
       "4     2010-04-02  2009-10 NBA Season           Chicago Bulls              95   \n",
       "...          ...                 ...                     ...             ...   \n",
       "12885 2018-10-31  2018-19 NBA Season               Utah Jazz             125   \n",
       "12886 2018-10-31  2018-19 NBA Season          Indiana Pacers             107   \n",
       "12887 2018-10-31  2018-19 NBA Season    New Orleans Pelicans             121   \n",
       "12888 2018-10-31  2018-19 NBA Season        Dallas Mavericks             113   \n",
       "12889 2018-10-31  2018-19 NBA Season       San Antonio Spurs             120   \n",
       "\n",
       "                    home_team  home_score notes  \n",
       "0            Dallas Mavericks          82        \n",
       "1              Denver Nuggets         109        \n",
       "2           Charlotte Bobcats          87        \n",
       "3              Indiana Pacers          96        \n",
       "4          Washington Wizards          87        \n",
       "...                       ...         ...   ...  \n",
       "12885  Minnesota Timberwolves         128        \n",
       "12886         New York Knicks         101        \n",
       "12887   Golden State Warriors         131        \n",
       "12888      Los Angeles Lakers         114        \n",
       "12889            Phoenix Suns          90        \n",
       "\n",
       "[12873 rows x 7 columns]"
      ]
     },
     "execution_count": 211,
     "metadata": {},
     "output_type": "execute_result"
    }
   ],
   "source": [
    "filtered = df[(df.notes=='') & (df.visiting_score != 0)] # 10 seasons and 12873 played that we are considering\n",
    "filtered"
   ]
  },
  {
   "cell_type": "code",
   "execution_count": 213,
   "id": "thermal-hotel",
   "metadata": {},
   "outputs": [
    {
     "data": {
      "text/plain": [
       "array([[<AxesSubplot:xlabel='visiting_score', ylabel='visiting_score'>,\n",
       "        <AxesSubplot:xlabel='home_score', ylabel='visiting_score'>],\n",
       "       [<AxesSubplot:xlabel='visiting_score', ylabel='home_score'>,\n",
       "        <AxesSubplot:xlabel='home_score', ylabel='home_score'>]],\n",
       "      dtype=object)"
      ]
     },
     "execution_count": 213,
     "metadata": {},
     "output_type": "execute_result"
    },
    {
     "data": {
      "image/png": "[encoded data removed]",
      "text/plain": [
       "<Figure size 432x288 with 4 Axes>"
      ]
     },
     "metadata": {
      "needs_background": "light"
     },
     "output_type": "display_data"
    }
   ],
   "source": [
    "pd.plotting.scatter_matrix(filtered, alpha = 0.2)"
   ]
  },
  {
   "cell_type": "markdown",
   "id": "honey-recycling",
   "metadata": {},
   "source": [
    "At first glance at the histograms it looks like majority of the scores of the visiting teams are just left of 100 points vs. scores of the home teams are just right of 100. They look normally distributed."
   ]
  },
  {
   "cell_type": "markdown",
   "id": "numeric-melbourne",
   "metadata": {},
   "source": [
    "## Figure out how many home wins vs visitor wins there are by season and graph it"
   ]
  },
  {
   "cell_type": "markdown",
   "id": "light-record",
   "metadata": {},
   "source": [
    "Approach - create two new columns, home_win and visitor_win, and assign a 1 to the column depending on the winner of the game. This will allow me to do a group by season and sum up the wins per column "
   ]
  },
  {
   "cell_type": "code",
   "execution_count": 214,
   "id": "forced-carnival",
   "metadata": {},
   "outputs": [
    {
     "name": "stderr",
     "output_type": "stream",
     "text": [
      "/opt/anaconda3/lib/python3.7/site-packages/ipykernel_launcher.py:1: SettingWithCopyWarning: \n",
      "A value is trying to be set on a copy of a slice from a DataFrame.\n",
      "Try using .loc[row_indexer,col_indexer] = value instead\n",
      "\n",
      "See the caveats in the documentation: https://pandas.pydata.org/pandas-docs/stable/user_guide/indexing.html#returning-a-view-versus-a-copy\n",
      "  \"\"\"Entry point for launching an IPython kernel.\n"
     ]
    }
   ],
   "source": [
    "filtered['home_win'] = np.where(filtered['home_score']>filtered['visiting_score'], 1, 0 )"
   ]
  },
  {
   "cell_type": "code",
   "execution_count": 218,
   "id": "copyrighted-japan",
   "metadata": {},
   "outputs": [
    {
     "name": "stderr",
     "output_type": "stream",
     "text": [
      "/opt/anaconda3/lib/python3.7/site-packages/ipykernel_launcher.py:1: SettingWithCopyWarning: \n",
      "A value is trying to be set on a copy of a slice from a DataFrame.\n",
      "Try using .loc[row_indexer,col_indexer] = value instead\n",
      "\n",
      "See the caveats in the documentation: https://pandas.pydata.org/pandas-docs/stable/user_guide/indexing.html#returning-a-view-versus-a-copy\n",
      "  \"\"\"Entry point for launching an IPython kernel.\n"
     ]
    }
   ],
   "source": [
    "filtered['visitor_win'] = np.where(filtered['visiting_score']>filtered['home_score'], 1, 0 )"
   ]
  },
  {
   "cell_type": "code",
   "execution_count": 269,
   "id": "thick-charm",
   "metadata": {},
   "outputs": [
    {
     "data": {
      "text/html": [
       "<div>\n",
       "<style scoped>\n",
       "    .dataframe tbody tr th:only-of-type {\n",
       "        vertical-align: middle;\n",
       "    }\n",
       "\n",
       "    .dataframe tbody tr th {\n",
       "        vertical-align: top;\n",
       "    }\n",
       "\n",
       "    .dataframe thead th {\n",
       "        text-align: right;\n",
       "    }\n",
       "</style>\n",
       "<table border=\"1\" class=\"dataframe\">\n",
       "  <thead>\n",
       "    <tr style=\"text-align: right;\">\n",
       "      <th></th>\n",
       "      <th>date</th>\n",
       "      <th>season</th>\n",
       "      <th>visiting_team</th>\n",
       "      <th>visiting_score</th>\n",
       "      <th>home_team</th>\n",
       "      <th>home_score</th>\n",
       "      <th>notes</th>\n",
       "      <th>home_win</th>\n",
       "      <th>visitor_win</th>\n",
       "    </tr>\n",
       "  </thead>\n",
       "  <tbody>\n",
       "    <tr>\n",
       "      <th>0</th>\n",
       "      <td>2010-04-01</td>\n",
       "      <td>2009-10 NBA Season</td>\n",
       "      <td>Orlando Magic</td>\n",
       "      <td>97</td>\n",
       "      <td>Dallas Mavericks</td>\n",
       "      <td>82</td>\n",
       "      <td></td>\n",
       "      <td>0</td>\n",
       "      <td>1</td>\n",
       "    </tr>\n",
       "    <tr>\n",
       "      <th>1</th>\n",
       "      <td>2010-04-01</td>\n",
       "      <td>2009-10 NBA Season</td>\n",
       "      <td>Portland Trail Blazers</td>\n",
       "      <td>92</td>\n",
       "      <td>Denver Nuggets</td>\n",
       "      <td>109</td>\n",
       "      <td></td>\n",
       "      <td>1</td>\n",
       "      <td>0</td>\n",
       "    </tr>\n",
       "    <tr>\n",
       "      <th>2</th>\n",
       "      <td>2010-04-02</td>\n",
       "      <td>2009-10 NBA Season</td>\n",
       "      <td>Milwaukee Bucks</td>\n",
       "      <td>86</td>\n",
       "      <td>Charlotte Bobcats</td>\n",
       "      <td>87</td>\n",
       "      <td></td>\n",
       "      <td>1</td>\n",
       "      <td>0</td>\n",
       "    </tr>\n",
       "    <tr>\n",
       "      <th>3</th>\n",
       "      <td>2010-04-02</td>\n",
       "      <td>2009-10 NBA Season</td>\n",
       "      <td>Miami Heat</td>\n",
       "      <td>105</td>\n",
       "      <td>Indiana Pacers</td>\n",
       "      <td>96</td>\n",
       "      <td></td>\n",
       "      <td>0</td>\n",
       "      <td>1</td>\n",
       "    </tr>\n",
       "    <tr>\n",
       "      <th>4</th>\n",
       "      <td>2010-04-02</td>\n",
       "      <td>2009-10 NBA Season</td>\n",
       "      <td>Chicago Bulls</td>\n",
       "      <td>95</td>\n",
       "      <td>Washington Wizards</td>\n",
       "      <td>87</td>\n",
       "      <td></td>\n",
       "      <td>0</td>\n",
       "      <td>1</td>\n",
       "    </tr>\n",
       "    <tr>\n",
       "      <th>...</th>\n",
       "      <td>...</td>\n",
       "      <td>...</td>\n",
       "      <td>...</td>\n",
       "      <td>...</td>\n",
       "      <td>...</td>\n",
       "      <td>...</td>\n",
       "      <td>...</td>\n",
       "      <td>...</td>\n",
       "      <td>...</td>\n",
       "    </tr>\n",
       "    <tr>\n",
       "      <th>12885</th>\n",
       "      <td>2018-10-31</td>\n",
       "      <td>2018-19 NBA Season</td>\n",
       "      <td>Utah Jazz</td>\n",
       "      <td>125</td>\n",
       "      <td>Minnesota Timberwolves</td>\n",
       "      <td>128</td>\n",
       "      <td></td>\n",
       "      <td>1</td>\n",
       "      <td>0</td>\n",
       "    </tr>\n",
       "    <tr>\n",
       "      <th>12886</th>\n",
       "      <td>2018-10-31</td>\n",
       "      <td>2018-19 NBA Season</td>\n",
       "      <td>Indiana Pacers</td>\n",
       "      <td>107</td>\n",
       "      <td>New York Knicks</td>\n",
       "      <td>101</td>\n",
       "      <td></td>\n",
       "      <td>0</td>\n",
       "      <td>1</td>\n",
       "    </tr>\n",
       "    <tr>\n",
       "      <th>12887</th>\n",
       "      <td>2018-10-31</td>\n",
       "      <td>2018-19 NBA Season</td>\n",
       "      <td>New Orleans Pelicans</td>\n",
       "      <td>121</td>\n",
       "      <td>Golden State Warriors</td>\n",
       "      <td>131</td>\n",
       "      <td></td>\n",
       "      <td>1</td>\n",
       "      <td>0</td>\n",
       "    </tr>\n",
       "    <tr>\n",
       "      <th>12888</th>\n",
       "      <td>2018-10-31</td>\n",
       "      <td>2018-19 NBA Season</td>\n",
       "      <td>Dallas Mavericks</td>\n",
       "      <td>113</td>\n",
       "      <td>Los Angeles Lakers</td>\n",
       "      <td>114</td>\n",
       "      <td></td>\n",
       "      <td>1</td>\n",
       "      <td>0</td>\n",
       "    </tr>\n",
       "    <tr>\n",
       "      <th>12889</th>\n",
       "      <td>2018-10-31</td>\n",
       "      <td>2018-19 NBA Season</td>\n",
       "      <td>San Antonio Spurs</td>\n",
       "      <td>120</td>\n",
       "      <td>Phoenix Suns</td>\n",
       "      <td>90</td>\n",
       "      <td></td>\n",
       "      <td>0</td>\n",
       "      <td>1</td>\n",
       "    </tr>\n",
       "  </tbody>\n",
       "</table>\n",
       "<p>12873 rows × 9 columns</p>\n",
       "</div>"
      ],
      "text/plain": [
       "            date              season           visiting_team  visiting_score  \\\n",
       "0     2010-04-01  2009-10 NBA Season           Orlando Magic              97   \n",
       "1     2010-04-01  2009-10 NBA Season  Portland Trail Blazers              92   \n",
       "2     2010-04-02  2009-10 NBA Season         Milwaukee Bucks              86   \n",
       "3     2010-04-02  2009-10 NBA Season              Miami Heat             105   \n",
       "4     2010-04-02  2009-10 NBA Season           Chicago Bulls              95   \n",
       "...          ...                 ...                     ...             ...   \n",
       "12885 2018-10-31  2018-19 NBA Season               Utah Jazz             125   \n",
       "12886 2018-10-31  2018-19 NBA Season          Indiana Pacers             107   \n",
       "12887 2018-10-31  2018-19 NBA Season    New Orleans Pelicans             121   \n",
       "12888 2018-10-31  2018-19 NBA Season        Dallas Mavericks             113   \n",
       "12889 2018-10-31  2018-19 NBA Season       San Antonio Spurs             120   \n",
       "\n",
       "                    home_team  home_score notes  home_win  visitor_win  \n",
       "0            Dallas Mavericks          82               0            1  \n",
       "1              Denver Nuggets         109               1            0  \n",
       "2           Charlotte Bobcats          87               1            0  \n",
       "3              Indiana Pacers          96               0            1  \n",
       "4          Washington Wizards          87               0            1  \n",
       "...                       ...         ...   ...       ...          ...  \n",
       "12885  Minnesota Timberwolves         128               1            0  \n",
       "12886         New York Knicks         101               0            1  \n",
       "12887   Golden State Warriors         131               1            0  \n",
       "12888      Los Angeles Lakers         114               1            0  \n",
       "12889            Phoenix Suns          90               0            1  \n",
       "\n",
       "[12873 rows x 9 columns]"
      ]
     },
     "execution_count": 269,
     "metadata": {},
     "output_type": "execute_result"
    }
   ],
   "source": [
    "filtered"
   ]
  },
  {
   "cell_type": "code",
   "execution_count": 298,
   "id": "pharmaceutical-customs",
   "metadata": {},
   "outputs": [
    {
     "data": {
      "text/plain": [
       "7626"
      ]
     },
     "execution_count": 298,
     "metadata": {},
     "output_type": "execute_result"
    }
   ],
   "source": [
    "total_home_wins = filtered[filtered.home_win==1]['home_team'].count()\n",
    "total_home_wins"
   ]
  },
  {
   "cell_type": "code",
   "execution_count": 260,
   "id": "ultimate-george",
   "metadata": {},
   "outputs": [
    {
     "data": {
      "image/png": "[encoded data removed]",
      "text/plain": [
       "<Figure size 432x288 with 1 Axes>"
      ]
     },
     "metadata": {
      "needs_background": "light"
     },
     "output_type": "display_data"
    }
   ],
   "source": [
    "home_wins = filtered.groupby('home_team')[['home_team','home_win']].sum()\n",
    "visitor_wins = filtered.groupby('visiting_team')[['visiting_team','visitor_win']].sum()\n",
    "fig, ax = plt.subplots()\n",
    "ax.hist(home_wins,alpha=0.3,bins=10,label=\"Home Wins\")\n",
    "ax.hist(visitor_wins,alpha=0.3,bins=10,label=\"Visitor Wins\")\n",
    "ax.set_xlabel('Number of Wins')\n",
    "ax.set_ylabel('Frequency')\n",
    "ax.legend();"
   ]
  },
  {
   "cell_type": "markdown",
   "id": "operational-piece",
   "metadata": {},
   "source": [
    "## One Sample Test of Population Proportions\n",
    "* Scientific Question - Is home court advantage real?\n",
    "* Null Hypothesis: There is no such thing as a home court advantage. p = 0.5\n",
    "* Alternative Hypothesis: There is such a thing as home court advantage. p > 0.5\n",
    "* Test statistic: number of games won by home teams (observed = 7626 wins/12874)\n",
    "* Significance level: 0.05\n",
    "* Distribution of the null\n",
    "    * Binomial where n = 12873 games p = 0.5"
   ]
  },
  {
   "cell_type": "code",
   "execution_count": 304,
   "id": "still-arrival",
   "metadata": {},
   "outputs": [
    {
     "data": {
      "image/png": "[encoded data removed]",
      "text/plain": [
       "<Figure size 432x288 with 1 Axes>"
      ]
     },
     "metadata": {
      "needs_background": "light"
     },
     "output_type": "display_data"
    }
   ],
   "source": [
    "binomial = stats.binom(n=12873, p=0.5)\n",
    "\n",
    "fig, ax = plt.subplots()\n",
    "bars = ax.bar(range(12874), [binomial.pmf(i) for i in range(12874)], color=\"grey\")\n",
    "ax.set_xlabel('# of games won by the home team')\n",
    "ax.set_ylabel('Probability')\n",
    "for i in range(total_home_wins,12874):\n",
    "    bars[i].set_color('red')\n",
    "ax.set_xticks(np.arange(0,12874,4000));"
   ]
  },
  {
   "cell_type": "code",
   "execution_count": 305,
   "id": "complicated-albania",
   "metadata": {},
   "outputs": [
    {
     "name": "stdout",
     "output_type": "stream",
     "text": [
      "Probability of Observing Data More Equal or More Extreme than Actual: 1.1e-16\n"
     ]
    }
   ],
   "source": [
    "prob_equal_or_more_extreme = 1 - binomial.cdf(12872) # binomial.cdf(1)\n",
    "print(\"Probability of Observing Data More Equal or More Extreme than Actual: {:2.2}\".format(\n",
    "    prob_equal_or_more_extreme))"
   ]
  },
  {
   "cell_type": "code",
   "execution_count": null,
   "id": "filled-julian",
   "metadata": {},
   "outputs": [],
   "source": []
  }
 ],
 "metadata": {
  "kernelspec": {
   "display_name": "Python 3",
   "language": "python",
   "name": "python3"
  },
  "language_info": {
   "codemirror_mode": {
    "name": "ipython",
    "version": 3
   },
   "file_extension": ".py",
   "mimetype": "text/x-python",
   "name": "python",
   "nbconvert_exporter": "python",
   "pygments_lexer": "ipython3",
   "version": "3.7.9"
  }
 },
 "nbformat": 4,
 "nbformat_minor": 5
}
