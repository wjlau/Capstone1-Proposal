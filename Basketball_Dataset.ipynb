{
 "cells": [
  {
   "cell_type": "code",
   "execution_count": 32,
   "id": "arranged-dinner",
   "metadata": {},
   "outputs": [],
   "source": [
    "from pymongo import MongoClient\n",
    "import pprint\n",
    "\n",
    "import pandas as pd\n",
    "import matplotlib.pyplot as plt\n",
    "\n",
    "import requests\n",
    "\n",
    "from bs4 import BeautifulSoup\n",
    "\n",
    "import json\n",
    "import datetime\n",
    "import calendar\n",
    "import time"
   ]
  },
  {
   "cell_type": "code",
   "execution_count": 5,
   "id": "pretty-material",
   "metadata": {},
   "outputs": [],
   "source": [
    "#  Connect to the hosted MongoDB instance\n",
    "client = MongoClient()"
   ]
  },
  {
   "cell_type": "code",
   "execution_count": 13,
   "id": "willing-kingdom",
   "metadata": {},
   "outputs": [],
   "source": [
    "# Access already existing database\n",
    "db = client['capstone1_bball_reference']"
   ]
  },
  {
   "cell_type": "code",
   "execution_count": 15,
   "id": "skilled-spice",
   "metadata": {},
   "outputs": [],
   "source": [
    "# Access already existing collection in database\n",
    "all_seasons = db['all_seasons']"
   ]
  },
  {
   "cell_type": "code",
   "execution_count": null,
   "id": "visible-colon",
   "metadata": {},
   "outputs": [],
   "source": []
  },
  {
   "cell_type": "markdown",
   "id": "coral-woman",
   "metadata": {},
   "source": [
    "## Get HTML pages from MongoDB and parse with Beautiful Soup"
   ]
  },
  {
   "cell_type": "code",
   "execution_count": 4,
   "id": "auburn-field",
   "metadata": {},
   "outputs": [],
   "source": [
    "date = []\n",
    "visiting = []\n",
    "visiting_score = []\n",
    "home = []\n",
    "home_score = []\n",
    "season = []\n",
    "notes = []\n",
    "\n"
   ]
  },
  {
   "cell_type": "code",
   "execution_count": null,
   "id": "compatible-advocate",
   "metadata": {},
   "outputs": [],
   "source": []
  }
 ],
 "metadata": {
  "kernelspec": {
   "display_name": "Python 3",
   "language": "python",
   "name": "python3"
  },
  "language_info": {
   "codemirror_mode": {
    "name": "ipython",
    "version": 3
   },
   "file_extension": ".py",
   "mimetype": "text/x-python",
   "name": "python",
   "nbconvert_exporter": "python",
   "pygments_lexer": "ipython3",
   "version": "3.7.9"
  }
 },
 "nbformat": 4,
 "nbformat_minor": 5
}
