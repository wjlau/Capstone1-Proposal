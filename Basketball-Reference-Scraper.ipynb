{
 "cells": [
  {
   "cell_type": "code",
   "execution_count": 1,
   "id": "amazing-ethics",
   "metadata": {},
   "outputs": [],
   "source": [
    "from pymongo import MongoClient\n",
    "import pprint\n",
    "\n",
    "import pandas as pd\n",
    "import matplotlib.pyplot as plt\n",
    "\n",
    "import requests\n",
    "\n",
    "from bs4 import BeautifulSoup\n",
    "\n",
    "import json\n",
    "import datetime\n",
    "import calendar\n",
    "import time"
   ]
  },
  {
   "cell_type": "markdown",
   "id": "acquired-browse",
   "metadata": {},
   "source": [
    "## Request the webpage's raw HTML"
   ]
  },
  {
   "cell_type": "code",
   "execution_count": 2,
   "id": "preceding-worker",
   "metadata": {},
   "outputs": [],
   "source": [
    "url = 'https://www.basketball-reference.com/leagues/NBA_2019_games-october.html'\n",
    "r = requests.get(url)"
   ]
  },
  {
   "cell_type": "code",
   "execution_count": 3,
   "id": "alternate-characteristic",
   "metadata": {},
   "outputs": [
    {
     "data": {
      "text/plain": [
       "200"
      ]
     },
     "execution_count": 3,
     "metadata": {},
     "output_type": "execute_result"
    }
   ],
   "source": [
    "r.status_code"
   ]
  },
  {
   "cell_type": "code",
   "execution_count": 4,
   "id": "directed-cancellation",
   "metadata": {},
   "outputs": [],
   "source": [
    "#pprint.pprint(r.text)"
   ]
  },
  {
   "cell_type": "markdown",
   "id": "ranking-dream",
   "metadata": {},
   "source": [
    "## Save the Raw HTML into a MongoDB"
   ]
  },
  {
   "cell_type": "code",
   "execution_count": 5,
   "id": "preliminary-melbourne",
   "metadata": {},
   "outputs": [],
   "source": [
    "client = MongoClient()\n",
    "db = client.capstone1_bball_reference"
   ]
  },
  {
   "cell_type": "code",
   "execution_count": 6,
   "id": "numerous-humanity",
   "metadata": {},
   "outputs": [],
   "source": [
    "one_season = db.testing"
   ]
  },
  {
   "cell_type": "code",
   "execution_count": 7,
   "id": "organized-penguin",
   "metadata": {},
   "outputs": [
    {
     "data": {
      "text/plain": [
       "<pymongo.results.InsertOneResult at 0x7fa5d74f1370>"
      ]
     },
     "execution_count": 7,
     "metadata": {},
     "output_type": "execute_result"
    }
   ],
   "source": [
    "one_season.insert_one({'link':url,'html':r.text})"
   ]
  },
  {
   "cell_type": "markdown",
   "id": "focal-graduation",
   "metadata": {},
   "source": [
    "## Parse the hypertext to get data with Beautiful Soup"
   ]
  },
  {
   "cell_type": "code",
   "execution_count": 8,
   "id": "european-brunei",
   "metadata": {},
   "outputs": [],
   "source": [
    "soup = BeautifulSoup(r.text,'html.parser')"
   ]
  },
  {
   "cell_type": "code",
   "execution_count": 9,
   "id": "swedish-paris",
   "metadata": {},
   "outputs": [],
   "source": [
    "#print(soup.prettify())"
   ]
  },
  {
   "cell_type": "code",
   "execution_count": 10,
   "id": "final-survey",
   "metadata": {},
   "outputs": [
    {
     "data": {
      "text/plain": [
       "<tr><th class=\"left\" csk=\"201810160BOS\" data-stat=\"date_game\" scope=\"row\"><a href=\"/boxscores/index.fcgi?month=10&amp;day=16&amp;year=2018\">Tue, Oct 16, 2018</a></th><td class=\"right\" data-stat=\"game_start_time\">8:00p</td><td class=\"left\" csk=\"PHI.201810160BOS\" data-stat=\"visitor_team_name\"><a href=\"/teams/PHI/2019.html\">Philadelphia 76ers</a></td><td class=\"right\" data-stat=\"visitor_pts\">87</td><td class=\"left\" csk=\"BOS.201810160BOS\" data-stat=\"home_team_name\"><a href=\"/teams/BOS/2019.html\">Boston Celtics</a></td><td class=\"right\" data-stat=\"home_pts\">105</td><td class=\"center\" data-stat=\"box_score_text\"><a href=\"/boxscores/201810160BOS.html\">Box Score</a></td><td class=\"center iz\" data-stat=\"overtimes\"></td><td class=\"right\" data-stat=\"attendance\">18,624</td><td class=\"left iz\" data-stat=\"game_remarks\"></td></tr>"
      ]
     },
     "execution_count": 10,
     "metadata": {},
     "output_type": "execute_result"
    }
   ],
   "source": [
    "soup.find_all('tr')[1] #get info for each game"
   ]
  },
  {
   "cell_type": "code",
   "execution_count": 11,
   "id": "extensive-engine",
   "metadata": {},
   "outputs": [
    {
     "data": {
      "text/plain": [
       "'Oct 16, 2018'"
      ]
     },
     "execution_count": 11,
     "metadata": {},
     "output_type": "execute_result"
    }
   ],
   "source": [
    "soup.find_all('tr')[1].find('a').text[5:] \n",
    "#get date for each game - removed day (all dates have a three letter abbrev. with a space and ','\n",
    "#five chars i.e. 'Tue, '"
   ]
  },
  {
   "cell_type": "code",
   "execution_count": 12,
   "id": "collectible-presentation",
   "metadata": {},
   "outputs": [
    {
     "data": {
      "text/plain": [
       "'Philadelphia 76ers'"
      ]
     },
     "execution_count": 12,
     "metadata": {},
     "output_type": "execute_result"
    }
   ],
   "source": [
    "soup.find_all('tr')[1].find_all('td','left')[0].text #get name of visiting team"
   ]
  },
  {
   "cell_type": "code",
   "execution_count": 13,
   "id": "continuing-enemy",
   "metadata": {},
   "outputs": [
    {
     "data": {
      "text/plain": [
       "'87'"
      ]
     },
     "execution_count": 13,
     "metadata": {},
     "output_type": "execute_result"
    }
   ],
   "source": [
    "soup.find_all('tr')[1].find_all('td','right')[1].text #get score of visiting team"
   ]
  },
  {
   "cell_type": "code",
   "execution_count": 14,
   "id": "cosmetic-diana",
   "metadata": {},
   "outputs": [
    {
     "data": {
      "text/plain": [
       "'Boston Celtics'"
      ]
     },
     "execution_count": 14,
     "metadata": {},
     "output_type": "execute_result"
    }
   ],
   "source": [
    "soup.find_all('tr')[1].find_all('td','left')[1].text #get name of home team"
   ]
  },
  {
   "cell_type": "code",
   "execution_count": 15,
   "id": "lovely-today",
   "metadata": {},
   "outputs": [
    {
     "data": {
      "text/plain": [
       "'105'"
      ]
     },
     "execution_count": 15,
     "metadata": {},
     "output_type": "execute_result"
    }
   ],
   "source": [
    "soup.find_all('tr')[1].find_all('td','right')[2].text #get score of home team"
   ]
  },
  {
   "cell_type": "markdown",
   "id": "olympic-medium",
   "metadata": {},
   "source": [
    "## Gather information from other rows/games - games for the month"
   ]
  },
  {
   "cell_type": "code",
   "execution_count": 16,
   "id": "daily-binding",
   "metadata": {},
   "outputs": [],
   "source": [
    "date = []\n",
    "visiting = []\n",
    "visiting_score = []\n",
    "home = []\n",
    "home_score = []\n",
    "season = []\n",
    "\n",
    "for i,game in enumerate(soup.find_all('tr')):\n",
    "    if game.a != None: #skips the chart label rows\n",
    "        datestring = game.find('a').text[5:]\n",
    "        dt = datetime.datetime.strptime(datestring,'%b %d, %Y') #change datestring to datetime object\n",
    "        date.append(dt)\n",
    "        visiting.append(game.find_all('td','left')[0].text)\n",
    "        visiting_score.append(int(game.find_all('td','right')[1].text))\n",
    "        home.append(game.find_all('td','left')[1].text)\n",
    "        home_score.append(int(game.find_all('td','right')[2].text))\n",
    "        season.append(soup.find_all('div','inactive')[0].find('li','index').text)"
   ]
  },
  {
   "cell_type": "markdown",
   "id": "explicit-simon",
   "metadata": {},
   "source": [
    "## Change columns of data to a DF to spot check"
   ]
  },
  {
   "cell_type": "code",
   "execution_count": 17,
   "id": "preliminary-survivor",
   "metadata": {},
   "outputs": [
    {
     "data": {
      "text/html": [
       "<div>\n",
       "<style scoped>\n",
       "    .dataframe tbody tr th:only-of-type {\n",
       "        vertical-align: middle;\n",
       "    }\n",
       "\n",
       "    .dataframe tbody tr th {\n",
       "        vertical-align: top;\n",
       "    }\n",
       "\n",
       "    .dataframe thead th {\n",
       "        text-align: right;\n",
       "    }\n",
       "</style>\n",
       "<table border=\"1\" class=\"dataframe\">\n",
       "  <thead>\n",
       "    <tr style=\"text-align: right;\">\n",
       "      <th></th>\n",
       "      <th>date</th>\n",
       "      <th>season</th>\n",
       "      <th>visiting_team</th>\n",
       "      <th>visiting_score</th>\n",
       "      <th>home_team</th>\n",
       "      <th>home_score</th>\n",
       "    </tr>\n",
       "  </thead>\n",
       "  <tbody>\n",
       "    <tr>\n",
       "      <th>0</th>\n",
       "      <td>2018-10-20</td>\n",
       "      <td>2018-19 NBA Season</td>\n",
       "      <td>Orlando Magic</td>\n",
       "      <td>115</td>\n",
       "      <td>Philadelphia 76ers</td>\n",
       "      <td>116</td>\n",
       "    </tr>\n",
       "    <tr>\n",
       "      <th>1</th>\n",
       "      <td>2018-10-20</td>\n",
       "      <td>2018-19 NBA Season</td>\n",
       "      <td>Detroit Pistons</td>\n",
       "      <td>118</td>\n",
       "      <td>Chicago Bulls</td>\n",
       "      <td>116</td>\n",
       "    </tr>\n",
       "    <tr>\n",
       "      <th>2</th>\n",
       "      <td>2018-10-20</td>\n",
       "      <td>2018-19 NBA Season</td>\n",
       "      <td>Charlotte Hornets</td>\n",
       "      <td>113</td>\n",
       "      <td>Miami Heat</td>\n",
       "      <td>112</td>\n",
       "    </tr>\n",
       "    <tr>\n",
       "      <th>3</th>\n",
       "      <td>2018-10-20</td>\n",
       "      <td>2018-19 NBA Season</td>\n",
       "      <td>Minnesota Timberwolves</td>\n",
       "      <td>136</td>\n",
       "      <td>Dallas Mavericks</td>\n",
       "      <td>140</td>\n",
       "    </tr>\n",
       "    <tr>\n",
       "      <th>4</th>\n",
       "      <td>2018-10-20</td>\n",
       "      <td>2018-19 NBA Season</td>\n",
       "      <td>Phoenix Suns</td>\n",
       "      <td>91</td>\n",
       "      <td>Denver Nuggets</td>\n",
       "      <td>119</td>\n",
       "    </tr>\n",
       "    <tr>\n",
       "      <th>5</th>\n",
       "      <td>2018-10-20</td>\n",
       "      <td>2018-19 NBA Season</td>\n",
       "      <td>San Antonio Spurs</td>\n",
       "      <td>108</td>\n",
       "      <td>Portland Trail Blazers</td>\n",
       "      <td>121</td>\n",
       "    </tr>\n",
       "    <tr>\n",
       "      <th>6</th>\n",
       "      <td>2018-10-20</td>\n",
       "      <td>2018-19 NBA Season</td>\n",
       "      <td>Houston Rockets</td>\n",
       "      <td>124</td>\n",
       "      <td>Los Angeles Lakers</td>\n",
       "      <td>115</td>\n",
       "    </tr>\n",
       "    <tr>\n",
       "      <th>7</th>\n",
       "      <td>2018-10-21</td>\n",
       "      <td>2018-19 NBA Season</td>\n",
       "      <td>Atlanta Hawks</td>\n",
       "      <td>133</td>\n",
       "      <td>Cleveland Cavaliers</td>\n",
       "      <td>111</td>\n",
       "    </tr>\n",
       "    <tr>\n",
       "      <th>8</th>\n",
       "      <td>2018-10-21</td>\n",
       "      <td>2018-19 NBA Season</td>\n",
       "      <td>Sacramento Kings</td>\n",
       "      <td>131</td>\n",
       "      <td>Oklahoma City Thunder</td>\n",
       "      <td>120</td>\n",
       "    </tr>\n",
       "    <tr>\n",
       "      <th>9</th>\n",
       "      <td>2018-10-21</td>\n",
       "      <td>2018-19 NBA Season</td>\n",
       "      <td>Golden State Warriors</td>\n",
       "      <td>98</td>\n",
       "      <td>Denver Nuggets</td>\n",
       "      <td>100</td>\n",
       "    </tr>\n",
       "    <tr>\n",
       "      <th>10</th>\n",
       "      <td>2018-10-21</td>\n",
       "      <td>2018-19 NBA Season</td>\n",
       "      <td>Houston Rockets</td>\n",
       "      <td>112</td>\n",
       "      <td>Los Angeles Clippers</td>\n",
       "      <td>115</td>\n",
       "    </tr>\n",
       "    <tr>\n",
       "      <th>11</th>\n",
       "      <td>2018-10-22</td>\n",
       "      <td>2018-19 NBA Season</td>\n",
       "      <td>Orlando Magic</td>\n",
       "      <td>93</td>\n",
       "      <td>Boston Celtics</td>\n",
       "      <td>90</td>\n",
       "    </tr>\n",
       "  </tbody>\n",
       "</table>\n",
       "</div>"
      ],
      "text/plain": [
       "         date               season           visiting_team  visiting_score  \\\n",
       "0  2018-10-20  2018-19 NBA Season            Orlando Magic             115   \n",
       "1  2018-10-20  2018-19 NBA Season          Detroit Pistons             118   \n",
       "2  2018-10-20  2018-19 NBA Season        Charlotte Hornets             113   \n",
       "3  2018-10-20  2018-19 NBA Season   Minnesota Timberwolves             136   \n",
       "4  2018-10-20  2018-19 NBA Season             Phoenix Suns              91   \n",
       "5  2018-10-20  2018-19 NBA Season        San Antonio Spurs             108   \n",
       "6  2018-10-20  2018-19 NBA Season          Houston Rockets             124   \n",
       "7  2018-10-21  2018-19 NBA Season            Atlanta Hawks             133   \n",
       "8  2018-10-21  2018-19 NBA Season         Sacramento Kings             131   \n",
       "9  2018-10-21  2018-19 NBA Season    Golden State Warriors              98   \n",
       "10 2018-10-21  2018-19 NBA Season          Houston Rockets             112   \n",
       "11 2018-10-22  2018-19 NBA Season            Orlando Magic              93   \n",
       "\n",
       "                 home_team  home_score  \n",
       "0       Philadelphia 76ers         116  \n",
       "1            Chicago Bulls         116  \n",
       "2               Miami Heat         112  \n",
       "3         Dallas Mavericks         140  \n",
       "4           Denver Nuggets         119  \n",
       "5   Portland Trail Blazers         121  \n",
       "6       Los Angeles Lakers         115  \n",
       "7      Cleveland Cavaliers         111  \n",
       "8    Oklahoma City Thunder         120  \n",
       "9           Denver Nuggets         100  \n",
       "10    Los Angeles Clippers         115  \n",
       "11          Boston Celtics          90  "
      ]
     },
     "execution_count": 17,
     "metadata": {},
     "output_type": "execute_result"
    }
   ],
   "source": [
    "oct1819 = pd.DataFrame({'date':date[28:40],'season':season[28:40],'visiting_team':visiting[28:40],'visiting_score':visiting_score[28:40],\n",
    "                  'home_team':home[28:40], 'home_score':home_score[28:40]})\n",
    "oct1819"
   ]
  },
  {
   "cell_type": "code",
   "execution_count": 18,
   "id": "confident-bread",
   "metadata": {},
   "outputs": [
    {
     "data": {
      "text/plain": [
       "date              datetime64[ns]\n",
       "season                    object\n",
       "visiting_team             object\n",
       "visiting_score             int64\n",
       "home_team                 object\n",
       "home_score                 int64\n",
       "dtype: object"
      ]
     },
     "execution_count": 18,
     "metadata": {},
     "output_type": "execute_result"
    }
   ],
   "source": [
    "oct1819.dtypes #checking dtypes"
   ]
  },
  {
   "cell_type": "markdown",
   "id": "alike-commonwealth",
   "metadata": {},
   "source": [
    "## Gather games from other months of the season + games from other seasons"
   ]
  },
  {
   "cell_type": "markdown",
   "id": "satellite-driving",
   "metadata": {},
   "source": [
    "### Request all HTML pages and store in MongoDB"
   ]
  },
  {
   "cell_type": "code",
   "execution_count": 19,
   "id": "former-friday",
   "metadata": {},
   "outputs": [
    {
     "data": {
      "text/plain": [
       "'february'"
      ]
     },
     "execution_count": 19,
     "metadata": {},
     "output_type": "execute_result"
    }
   ],
   "source": [
    "month_no = datetime.datetime.now().month\n",
    "month = calendar.month_name[month_no].lower()\n",
    "month"
   ]
  },
  {
   "cell_type": "code",
   "execution_count": 27,
   "id": "fossil-bridal",
   "metadata": {},
   "outputs": [
    {
     "data": {
      "text/plain": [
       "865"
      ]
     },
     "execution_count": 27,
     "metadata": {},
     "output_type": "execute_result"
    }
   ],
   "source": [
    "links = []\n",
    "months = ['october','november','december','january','february','march','april','may','june','july','august','september']\n",
    "#most recent seasons run from oct - june (inclusive of playoffs) however, it used to run from oct - april with some seasons running into may (i.e. '69-70') \n",
    "link = 'https://www.basketball-reference.com/leagues/NBA_1950_games-october.html'\n",
    "for year in range(1950,datetime.datetime.now().year+1):\n",
    "    if year!=2020:\n",
    "#2020 season had two october months (spanned across years) because of covid. current year can pull from all the months where possible\n",
    "#(i.e no 404 error when requesting data), we can then drop rows where the game schedule is out but the game has not been played yet cause the scores will either be blank or zero\n",
    "        for month in months:\n",
    "            links.append(f'https://www.basketball-reference.com/leagues/NBA_{year}_games-{month}.html')\n",
    "    else:\n",
    "        for month in months:\n",
    "            if month != 'october':\n",
    "                links.append(f'https://www.basketball-reference.com/leagues/NBA_2020_games-{month}.html')\n",
    "        links.append(f'https://www.basketball-reference.com/leagues/NBA_2020_games-october-2019.html')\n",
    "        links.append(f'https://www.basketball-reference.com/leagues/NBA_2020_games-october-2020.html')\n",
    "len(links)"
   ]
  },
  {
   "cell_type": "code",
   "execution_count": 25,
   "id": "caroline-nicholas",
   "metadata": {},
   "outputs": [],
   "source": [
    "test = requests.get('https://www.basketball-reference.com/leagues/NBA_1950_games-may.html') #may does not exist in this season"
   ]
  },
  {
   "cell_type": "code",
   "execution_count": 26,
   "id": "narrative-health",
   "metadata": {},
   "outputs": [
    {
     "data": {
      "text/plain": [
       "404"
      ]
     },
     "execution_count": 26,
     "metadata": {},
     "output_type": "execute_result"
    }
   ],
   "source": [
    "test.status_code #testing to see what a month that doesn't exist will provide - can use this to filter those months out"
   ]
  },
  {
   "cell_type": "code",
   "execution_count": 30,
   "id": "compact-respondent",
   "metadata": {},
   "outputs": [],
   "source": [
    "# basketball_charts = db.all_seasons\n",
    "# for i,link in enumerate(links):\n",
    "#     season_month = requests.get(link)\n",
    "#     if season_month.status_code != 404:\n",
    "#         basketball_charts.insert_one({'link':link,'html':season_month.text})\n",
    "#         print(f'Website link: {link}')\n",
    "#         time.sleep(2)"
   ]
  },
  {
   "cell_type": "code",
   "execution_count": null,
   "id": "south-traffic",
   "metadata": {},
   "outputs": [],
   "source": []
  },
  {
   "cell_type": "code",
   "execution_count": null,
   "id": "entertaining-press",
   "metadata": {},
   "outputs": [],
   "source": []
  },
  {
   "cell_type": "code",
   "execution_count": null,
   "id": "excellent-driver",
   "metadata": {},
   "outputs": [],
   "source": []
  },
  {
   "cell_type": "code",
   "execution_count": null,
   "id": "distributed-auditor",
   "metadata": {},
   "outputs": [],
   "source": []
  },
  {
   "cell_type": "code",
   "execution_count": null,
   "id": "civic-blogger",
   "metadata": {},
   "outputs": [],
   "source": []
  }
 ],
 "metadata": {
  "kernelspec": {
   "display_name": "Python 3",
   "language": "python",
   "name": "python3"
  },
  "language_info": {
   "codemirror_mode": {
    "name": "ipython",
    "version": 3
   },
   "file_extension": ".py",
   "mimetype": "text/x-python",
   "name": "python",
   "nbconvert_exporter": "python",
   "pygments_lexer": "ipython3",
   "version": "3.7.9"
  }
 },
 "nbformat": 4,
 "nbformat_minor": 5
}
