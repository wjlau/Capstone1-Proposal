{
 "cells": [
  {
   "cell_type": "code",
   "execution_count": 1,
   "id": "superior-proportion",
   "metadata": {},
   "outputs": [],
   "source": [
    "from pymongo import MongoClient\n",
    "import pprint\n",
    "\n",
    "import pandas as pd\n",
    "import matplotlib.pyplot as plt\n",
    "\n",
    "import requests\n",
    "\n",
    "from bs4 import BeautifulSoup\n",
    "\n",
    "import json\n",
    "from datetime import datetime"
   ]
  },
  {
   "cell_type": "markdown",
   "id": "actual-capability",
   "metadata": {},
   "source": [
    "## Request the webpage's raw HTML"
   ]
  },
  {
   "cell_type": "code",
   "execution_count": 2,
   "id": "thorough-stewart",
   "metadata": {},
   "outputs": [],
   "source": [
    "url = 'https://www.basketball-reference.com/leagues/NBA_2019_games-october.html'\n",
    "r = requests.get(url)"
   ]
  },
  {
   "cell_type": "code",
   "execution_count": 3,
   "id": "modified-answer",
   "metadata": {},
   "outputs": [
    {
     "data": {
      "text/plain": [
       "200"
      ]
     },
     "execution_count": 3,
     "metadata": {},
     "output_type": "execute_result"
    }
   ],
   "source": [
    "r.status_code"
   ]
  },
  {
   "cell_type": "code",
   "execution_count": 4,
   "id": "emerging-flush",
   "metadata": {},
   "outputs": [],
   "source": [
    "#pprint.pprint(r.text)"
   ]
  },
  {
   "cell_type": "markdown",
   "id": "seasonal-arena",
   "metadata": {},
   "source": [
    "## Save the Raw HTML into a MongoDB"
   ]
  },
  {
   "cell_type": "code",
   "execution_count": 5,
   "id": "legal-malpractice",
   "metadata": {},
   "outputs": [],
   "source": [
    "client = MongoClient()\n",
    "db = client.basketball_reference"
   ]
  },
  {
   "cell_type": "code",
   "execution_count": 6,
   "id": "hollow-anxiety",
   "metadata": {},
   "outputs": [],
   "source": [
    "seasons = db.basketball_capstone1"
   ]
  },
  {
   "cell_type": "code",
   "execution_count": 7,
   "id": "frozen-influence",
   "metadata": {},
   "outputs": [
    {
     "data": {
      "text/plain": [
       "<pymongo.results.InsertOneResult at 0x7fdcedbe6280>"
      ]
     },
     "execution_count": 7,
     "metadata": {},
     "output_type": "execute_result"
    }
   ],
   "source": [
    "seasons.insert_one({'link':url,'html':r.text})"
   ]
  },
  {
   "cell_type": "markdown",
   "id": "regulated-bridge",
   "metadata": {},
   "source": [
    "## Parse the hypertext to get data with Beautiful Soup"
   ]
  },
  {
   "cell_type": "code",
   "execution_count": 8,
   "id": "broad-satin",
   "metadata": {},
   "outputs": [],
   "source": [
    "soup = BeautifulSoup(r.text,'html.parser')"
   ]
  },
  {
   "cell_type": "code",
   "execution_count": 9,
   "id": "featured-piano",
   "metadata": {},
   "outputs": [],
   "source": [
    "#print(soup.prettify())"
   ]
  },
  {
   "cell_type": "code",
   "execution_count": 10,
   "id": "involved-rouge",
   "metadata": {},
   "outputs": [
    {
     "data": {
      "text/plain": [
       "<tr><th class=\"left\" csk=\"201810160BOS\" data-stat=\"date_game\" scope=\"row\"><a href=\"/boxscores/index.fcgi?month=10&amp;day=16&amp;year=2018\">Tue, Oct 16, 2018</a></th><td class=\"right\" data-stat=\"game_start_time\">8:00p</td><td class=\"left\" csk=\"PHI.201810160BOS\" data-stat=\"visitor_team_name\"><a href=\"/teams/PHI/2019.html\">Philadelphia 76ers</a></td><td class=\"right\" data-stat=\"visitor_pts\">87</td><td class=\"left\" csk=\"BOS.201810160BOS\" data-stat=\"home_team_name\"><a href=\"/teams/BOS/2019.html\">Boston Celtics</a></td><td class=\"right\" data-stat=\"home_pts\">105</td><td class=\"center\" data-stat=\"box_score_text\"><a href=\"/boxscores/201810160BOS.html\">Box Score</a></td><td class=\"center iz\" data-stat=\"overtimes\"></td><td class=\"right\" data-stat=\"attendance\">18,624</td><td class=\"left iz\" data-stat=\"game_remarks\"></td></tr>"
      ]
     },
     "execution_count": 10,
     "metadata": {},
     "output_type": "execute_result"
    }
   ],
   "source": [
    "soup.find_all('tr')[1] #get info for each game"
   ]
  },
  {
   "cell_type": "code",
   "execution_count": 11,
   "id": "heated-scholarship",
   "metadata": {},
   "outputs": [
    {
     "data": {
      "text/plain": [
       "'Oct 16, 2018'"
      ]
     },
     "execution_count": 11,
     "metadata": {},
     "output_type": "execute_result"
    }
   ],
   "source": [
    "soup.find_all('tr')[1].find('a').text[5:] \n",
    "#get date for each game - removed day (all dates have a three letter abbrev. with a space and ','\n",
    "#five chars i.e. 'Tue, '"
   ]
  },
  {
   "cell_type": "code",
   "execution_count": 12,
   "id": "devoted-wisdom",
   "metadata": {},
   "outputs": [
    {
     "data": {
      "text/plain": [
       "'Philadelphia 76ers'"
      ]
     },
     "execution_count": 12,
     "metadata": {},
     "output_type": "execute_result"
    }
   ],
   "source": [
    "soup.find_all('tr')[1].find_all('td','left')[0].text #get name of visiting team"
   ]
  },
  {
   "cell_type": "code",
   "execution_count": 13,
   "id": "chicken-finger",
   "metadata": {},
   "outputs": [
    {
     "data": {
      "text/plain": [
       "'87'"
      ]
     },
     "execution_count": 13,
     "metadata": {},
     "output_type": "execute_result"
    }
   ],
   "source": [
    "soup.find_all('tr')[1].find_all('td','right')[1].text #get score of visiting team"
   ]
  },
  {
   "cell_type": "code",
   "execution_count": 14,
   "id": "signal-occurrence",
   "metadata": {},
   "outputs": [
    {
     "data": {
      "text/plain": [
       "'Boston Celtics'"
      ]
     },
     "execution_count": 14,
     "metadata": {},
     "output_type": "execute_result"
    }
   ],
   "source": [
    "soup.find_all('tr')[1].find_all('td','left')[1].text #get name of home team"
   ]
  },
  {
   "cell_type": "code",
   "execution_count": 15,
   "id": "returning-pattern",
   "metadata": {},
   "outputs": [
    {
     "data": {
      "text/plain": [
       "'105'"
      ]
     },
     "execution_count": 15,
     "metadata": {},
     "output_type": "execute_result"
    }
   ],
   "source": [
    "soup.find_all('tr')[1].find_all('td','right')[2].text #get score of home team"
   ]
  },
  {
   "cell_type": "markdown",
   "id": "brutal-banner",
   "metadata": {},
   "source": [
    "## Gather information from other rows/games - games for the month"
   ]
  },
  {
   "cell_type": "code",
   "execution_count": 99,
   "id": "bottom-bronze",
   "metadata": {},
   "outputs": [],
   "source": [
    "date = []\n",
    "visiting = []\n",
    "visiting_score = []\n",
    "home = []\n",
    "home_score = []\n",
    "season = []\n",
    "\n",
    "for i,game in enumerate(soup.find_all('tr')):\n",
    "    if game.a != None: #skips the first row of the chart which are just chart labels \n",
    "        datestring = game.find('a').text[5:]\n",
    "        dt = datetime.strptime(datestring,'%b %d, %Y') #change datestring to datetime object\n",
    "        date.append(dt)\n",
    "        visiting.append(game.find_all('td','left')[0].text)\n",
    "        visiting_score.append(int(game.find_all('td','right')[1].text))\n",
    "        home.append(game.find_all('td','left')[1].text)\n",
    "        home_score.append(int(game.find_all('td','right')[2].text))\n",
    "        season.append(soup.find_all('div','inactive')[0].find('li','index').text)"
   ]
  },
  {
   "cell_type": "markdown",
   "id": "thermal-anxiety",
   "metadata": {},
   "source": [
    "## Change columns of data to a DF to spot check"
   ]
  },
  {
   "cell_type": "code",
   "execution_count": 97,
   "id": "armed-liberia",
   "metadata": {},
   "outputs": [
    {
     "data": {
      "text/html": [
       "<div>\n",
       "<style scoped>\n",
       "    .dataframe tbody tr th:only-of-type {\n",
       "        vertical-align: middle;\n",
       "    }\n",
       "\n",
       "    .dataframe tbody tr th {\n",
       "        vertical-align: top;\n",
       "    }\n",
       "\n",
       "    .dataframe thead th {\n",
       "        text-align: right;\n",
       "    }\n",
       "</style>\n",
       "<table border=\"1\" class=\"dataframe\">\n",
       "  <thead>\n",
       "    <tr style=\"text-align: right;\">\n",
       "      <th></th>\n",
       "      <th>date</th>\n",
       "      <th>season</th>\n",
       "      <th>visiting_team</th>\n",
       "      <th>visiting_score</th>\n",
       "      <th>home_team</th>\n",
       "      <th>home_score</th>\n",
       "    </tr>\n",
       "  </thead>\n",
       "  <tbody>\n",
       "    <tr>\n",
       "      <th>0</th>\n",
       "      <td>2018-10-16</td>\n",
       "      <td>2018-19 NBA Season</td>\n",
       "      <td>Philadelphia 76ers</td>\n",
       "      <td>87</td>\n",
       "      <td>Boston Celtics</td>\n",
       "      <td>105</td>\n",
       "    </tr>\n",
       "    <tr>\n",
       "      <th>1</th>\n",
       "      <td>2018-10-16</td>\n",
       "      <td>2018-19 NBA Season</td>\n",
       "      <td>Oklahoma City Thunder</td>\n",
       "      <td>100</td>\n",
       "      <td>Golden State Warriors</td>\n",
       "      <td>108</td>\n",
       "    </tr>\n",
       "    <tr>\n",
       "      <th>2</th>\n",
       "      <td>2018-10-17</td>\n",
       "      <td>2018-19 NBA Season</td>\n",
       "      <td>Milwaukee Bucks</td>\n",
       "      <td>113</td>\n",
       "      <td>Charlotte Hornets</td>\n",
       "      <td>112</td>\n",
       "    </tr>\n",
       "    <tr>\n",
       "      <th>3</th>\n",
       "      <td>2018-10-17</td>\n",
       "      <td>2018-19 NBA Season</td>\n",
       "      <td>Brooklyn Nets</td>\n",
       "      <td>100</td>\n",
       "      <td>Detroit Pistons</td>\n",
       "      <td>103</td>\n",
       "    </tr>\n",
       "    <tr>\n",
       "      <th>4</th>\n",
       "      <td>2018-10-17</td>\n",
       "      <td>2018-19 NBA Season</td>\n",
       "      <td>Memphis Grizzlies</td>\n",
       "      <td>83</td>\n",
       "      <td>Indiana Pacers</td>\n",
       "      <td>111</td>\n",
       "    </tr>\n",
       "    <tr>\n",
       "      <th>5</th>\n",
       "      <td>2018-10-17</td>\n",
       "      <td>2018-19 NBA Season</td>\n",
       "      <td>Miami Heat</td>\n",
       "      <td>101</td>\n",
       "      <td>Orlando Magic</td>\n",
       "      <td>104</td>\n",
       "    </tr>\n",
       "    <tr>\n",
       "      <th>6</th>\n",
       "      <td>2018-10-17</td>\n",
       "      <td>2018-19 NBA Season</td>\n",
       "      <td>Atlanta Hawks</td>\n",
       "      <td>107</td>\n",
       "      <td>New York Knicks</td>\n",
       "      <td>126</td>\n",
       "    </tr>\n",
       "    <tr>\n",
       "      <th>7</th>\n",
       "      <td>2018-10-17</td>\n",
       "      <td>2018-19 NBA Season</td>\n",
       "      <td>Cleveland Cavaliers</td>\n",
       "      <td>104</td>\n",
       "      <td>Toronto Raptors</td>\n",
       "      <td>116</td>\n",
       "    </tr>\n",
       "    <tr>\n",
       "      <th>8</th>\n",
       "      <td>2018-10-17</td>\n",
       "      <td>2018-19 NBA Season</td>\n",
       "      <td>New Orleans Pelicans</td>\n",
       "      <td>131</td>\n",
       "      <td>Houston Rockets</td>\n",
       "      <td>112</td>\n",
       "    </tr>\n",
       "    <tr>\n",
       "      <th>9</th>\n",
       "      <td>2018-10-17</td>\n",
       "      <td>2018-19 NBA Season</td>\n",
       "      <td>Minnesota Timberwolves</td>\n",
       "      <td>108</td>\n",
       "      <td>San Antonio Spurs</td>\n",
       "      <td>112</td>\n",
       "    </tr>\n",
       "  </tbody>\n",
       "</table>\n",
       "</div>"
      ],
      "text/plain": [
       "        date               season           visiting_team  visiting_score  \\\n",
       "0 2018-10-16  2018-19 NBA Season       Philadelphia 76ers              87   \n",
       "1 2018-10-16  2018-19 NBA Season    Oklahoma City Thunder             100   \n",
       "2 2018-10-17  2018-19 NBA Season          Milwaukee Bucks             113   \n",
       "3 2018-10-17  2018-19 NBA Season            Brooklyn Nets             100   \n",
       "4 2018-10-17  2018-19 NBA Season        Memphis Grizzlies              83   \n",
       "5 2018-10-17  2018-19 NBA Season               Miami Heat             101   \n",
       "6 2018-10-17  2018-19 NBA Season            Atlanta Hawks             107   \n",
       "7 2018-10-17  2018-19 NBA Season      Cleveland Cavaliers             104   \n",
       "8 2018-10-17  2018-19 NBA Season     New Orleans Pelicans             131   \n",
       "9 2018-10-17  2018-19 NBA Season   Minnesota Timberwolves             108   \n",
       "\n",
       "               home_team  home_score  \n",
       "0         Boston Celtics         105  \n",
       "1  Golden State Warriors         108  \n",
       "2      Charlotte Hornets         112  \n",
       "3        Detroit Pistons         103  \n",
       "4         Indiana Pacers         111  \n",
       "5          Orlando Magic         104  \n",
       "6        New York Knicks         126  \n",
       "7        Toronto Raptors         116  \n",
       "8        Houston Rockets         112  \n",
       "9      San Antonio Spurs         112  "
      ]
     },
     "execution_count": 97,
     "metadata": {},
     "output_type": "execute_result"
    }
   ],
   "source": [
    "oct1819 = pd.DataFrame({'date':date[:10],'season':season[:10],'visiting_team':visiting[:10],'visiting_score':visiting_score[:10],\n",
    "                  'home_team':home[:10], 'home_score':home_score[:10]})\n",
    "oct1819"
   ]
  },
  {
   "cell_type": "code",
   "execution_count": 98,
   "id": "pediatric-space",
   "metadata": {},
   "outputs": [
    {
     "data": {
      "text/plain": [
       "date              datetime64[ns]\n",
       "season                    object\n",
       "visiting_team             object\n",
       "visiting_score             int64\n",
       "home_team                 object\n",
       "home_score                 int64\n",
       "dtype: object"
      ]
     },
     "execution_count": 98,
     "metadata": {},
     "output_type": "execute_result"
    }
   ],
   "source": [
    "oct1819.dtypes #checking dtypes"
   ]
  },
  {
   "cell_type": "markdown",
   "id": "thousand-journey",
   "metadata": {},
   "source": [
    "## Gather games from other months of the season"
   ]
  },
  {
   "cell_type": "code",
   "execution_count": null,
   "id": "minute-yugoslavia",
   "metadata": {},
   "outputs": [],
   "source": []
  },
  {
   "cell_type": "code",
   "execution_count": null,
   "id": "stunning-poverty",
   "metadata": {},
   "outputs": [],
   "source": []
  },
  {
   "cell_type": "code",
   "execution_count": null,
   "id": "hindu-blanket",
   "metadata": {},
   "outputs": [],
   "source": []
  },
  {
   "cell_type": "code",
   "execution_count": null,
   "id": "starting-beatles",
   "metadata": {},
   "outputs": [],
   "source": []
  },
  {
   "cell_type": "code",
   "execution_count": null,
   "id": "known-species",
   "metadata": {},
   "outputs": [],
   "source": []
  }
 ],
 "metadata": {
  "kernelspec": {
   "display_name": "Python 3",
   "language": "python",
   "name": "python3"
  },
  "language_info": {
   "codemirror_mode": {
    "name": "ipython",
    "version": 3
   },
   "file_extension": ".py",
   "mimetype": "text/x-python",
   "name": "python",
   "nbconvert_exporter": "python",
   "pygments_lexer": "ipython3",
   "version": "3.7.9"
  }
 },
 "nbformat": 4,
 "nbformat_minor": 5
}
