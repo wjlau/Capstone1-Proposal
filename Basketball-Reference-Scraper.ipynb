{
 "cells": [
  {
   "cell_type": "code",
   "execution_count": 4,
   "id": "historic-homeless",
   "metadata": {},
   "outputs": [],
   "source": [
    "from pymongo import MongoClient\n",
    "import pprint\n",
    "\n",
    "import pandas as pd\n",
    "import matplotlib.pyplot as plt\n",
    "\n",
    "import requests\n",
    "\n",
    "from bs4 import BeautifulSoup\n",
    "\n",
    "import json"
   ]
  },
  {
   "cell_type": "markdown",
   "id": "conceptual-shape",
   "metadata": {},
   "source": [
    "## Request the webpage's raw HTML"
   ]
  },
  {
   "cell_type": "code",
   "execution_count": 5,
   "id": "fourth-hughes",
   "metadata": {},
   "outputs": [],
   "source": [
    "url = 'https://www.basketball-reference.com/leagues/NBA_2019_games-october.html'\n",
    "r = requests.get(url)"
   ]
  },
  {
   "cell_type": "code",
   "execution_count": 6,
   "id": "removable-editor",
   "metadata": {},
   "outputs": [
    {
     "data": {
      "text/plain": [
       "200"
      ]
     },
     "execution_count": 6,
     "metadata": {},
     "output_type": "execute_result"
    }
   ],
   "source": [
    "r.status_code"
   ]
  },
  {
   "cell_type": "code",
   "execution_count": 8,
   "id": "processed-announcement",
   "metadata": {},
   "outputs": [],
   "source": [
    "#pprint.pprint(r.text)"
   ]
  },
  {
   "cell_type": "markdown",
   "id": "written-level",
   "metadata": {},
   "source": [
    "## Save the Raw HTML into a MongoDB"
   ]
  },
  {
   "cell_type": "code",
   "execution_count": 9,
   "id": "regulated-captain",
   "metadata": {},
   "outputs": [],
   "source": [
    "client = MongoClient()\n",
    "db = client.basketball_reference"
   ]
  },
  {
   "cell_type": "code",
   "execution_count": 10,
   "id": "alternative-austria",
   "metadata": {},
   "outputs": [],
   "source": [
    "seasons = db.basketball_capstone1"
   ]
  },
  {
   "cell_type": "code",
   "execution_count": 11,
   "id": "soviet-court",
   "metadata": {},
   "outputs": [
    {
     "data": {
      "text/plain": [
       "<pymongo.results.InsertOneResult at 0x7fdddae1a050>"
      ]
     },
     "execution_count": 11,
     "metadata": {},
     "output_type": "execute_result"
    }
   ],
   "source": [
    "seasons.insert_one({'link':url,'html':r.text})"
   ]
  },
  {
   "cell_type": "markdown",
   "id": "aboriginal-recall",
   "metadata": {},
   "source": [
    "## Parse the hypertext to get data with Beautiful Soup"
   ]
  },
  {
   "cell_type": "code",
   "execution_count": 12,
   "id": "respected-reconstruction",
   "metadata": {},
   "outputs": [],
   "source": [
    "soup = BeautifulSoup(r.text,'html.parser')"
   ]
  },
  {
   "cell_type": "code",
   "execution_count": 14,
   "id": "important-slovak",
   "metadata": {},
   "outputs": [],
   "source": [
    "#print(soup.prettify())"
   ]
  },
  {
   "cell_type": "code",
   "execution_count": 22,
   "id": "aboriginal-innocent",
   "metadata": {},
   "outputs": [
    {
     "data": {
      "text/plain": [
       "<tr><th class=\"left\" csk=\"201810160BOS\" data-stat=\"date_game\" scope=\"row\"><a href=\"/boxscores/index.fcgi?month=10&amp;day=16&amp;year=2018\">Tue, Oct 16, 2018</a></th><td class=\"right\" data-stat=\"game_start_time\">8:00p</td><td class=\"left\" csk=\"PHI.201810160BOS\" data-stat=\"visitor_team_name\"><a href=\"/teams/PHI/2019.html\">Philadelphia 76ers</a></td><td class=\"right\" data-stat=\"visitor_pts\">87</td><td class=\"left\" csk=\"BOS.201810160BOS\" data-stat=\"home_team_name\"><a href=\"/teams/BOS/2019.html\">Boston Celtics</a></td><td class=\"right\" data-stat=\"home_pts\">105</td><td class=\"center\" data-stat=\"box_score_text\"><a href=\"/boxscores/201810160BOS.html\">Box Score</a></td><td class=\"center iz\" data-stat=\"overtimes\"></td><td class=\"right\" data-stat=\"attendance\">18,624</td><td class=\"left iz\" data-stat=\"game_remarks\"></td></tr>"
      ]
     },
     "execution_count": 22,
     "metadata": {},
     "output_type": "execute_result"
    }
   ],
   "source": [
    "soup.find_all('tr')[1] #get info for each game"
   ]
  },
  {
   "cell_type": "code",
   "execution_count": 118,
   "id": "confident-coach",
   "metadata": {},
   "outputs": [
    {
     "data": {
      "text/plain": [
       "'Oct 16, 2018'"
      ]
     },
     "execution_count": 118,
     "metadata": {},
     "output_type": "execute_result"
    }
   ],
   "source": [
    "soup.find_all('tr')[1].find('a').text[5:] \n",
    "#get date for each game - removed day (all dates have a three letter abbrev. with a space and ','\n",
    "#five chars i.e. 'Tue, '"
   ]
  },
  {
   "cell_type": "code",
   "execution_count": 90,
   "id": "inclusive-digit",
   "metadata": {},
   "outputs": [
    {
     "data": {
      "text/plain": [
       "'Philadelphia 76ers'"
      ]
     },
     "execution_count": 90,
     "metadata": {},
     "output_type": "execute_result"
    }
   ],
   "source": [
    "soup.find_all('tr')[1].find_all('td','left')[0].text #get name of visiting team"
   ]
  },
  {
   "cell_type": "code",
   "execution_count": 122,
   "id": "peripheral-spring",
   "metadata": {},
   "outputs": [
    {
     "data": {
      "text/plain": [
       "'87'"
      ]
     },
     "execution_count": 122,
     "metadata": {},
     "output_type": "execute_result"
    }
   ],
   "source": [
    "soup.find_all('tr')[1].find_all('td','right')[1].text #get score of visiting team"
   ]
  },
  {
   "cell_type": "code",
   "execution_count": 92,
   "id": "disabled-daniel",
   "metadata": {},
   "outputs": [
    {
     "data": {
      "text/plain": [
       "'Boston Celtics'"
      ]
     },
     "execution_count": 92,
     "metadata": {},
     "output_type": "execute_result"
    }
   ],
   "source": [
    "soup.find_all('tr')[1].find_all('td','left')[1].text #get name of home team"
   ]
  },
  {
   "cell_type": "code",
   "execution_count": 98,
   "id": "pending-provider",
   "metadata": {},
   "outputs": [
    {
     "data": {
      "text/plain": [
       "'105'"
      ]
     },
     "execution_count": 98,
     "metadata": {},
     "output_type": "execute_result"
    }
   ],
   "source": [
    "soup.find_all('tr')[1].find_all('td','right')[2].text #get score of home team"
   ]
  },
  {
   "cell_type": "markdown",
   "id": "decent-procurement",
   "metadata": {},
   "source": [
    "## Gather information from other rows/games - games for the month"
   ]
  },
  {
   "cell_type": "code",
   "execution_count": null,
   "id": "professional-alberta",
   "metadata": {},
   "outputs": [],
   "source": [
    "date = []\n",
    "visiting = []\n",
    "visiting_score = []\n",
    "home = []\n",
    "home_score = []\n",
    "\n",
    "for i,game in enumerate(soup.find_all('tr')):\n",
    "    if game.a != None: #skips the first row of the chart which are just chart labels \n",
    "        date.append(game.find('a').text[5:]) \n",
    "        visiting.append(game.find_all('td','left')[0].text)\n",
    "        visiting_score.append(game.find_all('td','right')[1].text)\n",
    "        home.append(game.find_all('td','left')[1].text)\n",
    "        home_score.append(game.find_all('td','right')[2].text)\n",
    "print(visiting)"
   ]
  },
  {
   "cell_type": "markdown",
   "id": "economic-headline",
   "metadata": {},
   "source": [
    "## Gather information from other months in the season"
   ]
  },
  {
   "cell_type": "code",
   "execution_count": null,
   "id": "dynamic-nitrogen",
   "metadata": {},
   "outputs": [],
   "source": []
  }
 ],
 "metadata": {
  "kernelspec": {
   "display_name": "Python 3",
   "language": "python",
   "name": "python3"
  },
  "language_info": {
   "codemirror_mode": {
    "name": "ipython",
    "version": 3
   },
   "file_extension": ".py",
   "mimetype": "text/x-python",
   "name": "python",
   "nbconvert_exporter": "python",
   "pygments_lexer": "ipython3",
   "version": "3.7.9"
  }
 },
 "nbformat": 4,
 "nbformat_minor": 5
}
