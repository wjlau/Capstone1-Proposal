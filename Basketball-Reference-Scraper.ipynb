{
 "cells": [
  {
   "cell_type": "code",
   "execution_count": 1,
   "id": "commercial-sacrifice",
   "metadata": {},
   "outputs": [],
   "source": [
    "from pymongo import MongoClient\n",
    "import pprint\n",
    "\n",
    "import pandas as pd\n",
    "import matplotlib.pyplot as plt\n",
    "\n",
    "import requests\n",
    "\n",
    "from bs4 import BeautifulSoup\n",
    "\n",
    "import json\n",
    "from datetime import datetime"
   ]
  },
  {
   "cell_type": "markdown",
   "id": "active-drove",
   "metadata": {},
   "source": [
    "## Request the webpage's raw HTML"
   ]
  },
  {
   "cell_type": "code",
   "execution_count": 2,
   "id": "amazing-brazilian",
   "metadata": {},
   "outputs": [],
   "source": [
    "url = 'https://www.basketball-reference.com/leagues/NBA_2019_games-october.html'\n",
    "r = requests.get(url)"
   ]
  },
  {
   "cell_type": "code",
   "execution_count": 3,
   "id": "hindu-french",
   "metadata": {},
   "outputs": [
    {
     "data": {
      "text/plain": [
       "200"
      ]
     },
     "execution_count": 3,
     "metadata": {},
     "output_type": "execute_result"
    }
   ],
   "source": [
    "r.status_code"
   ]
  },
  {
   "cell_type": "code",
   "execution_count": 4,
   "id": "magnetic-female",
   "metadata": {},
   "outputs": [],
   "source": [
    "#pprint.pprint(r.text)"
   ]
  },
  {
   "cell_type": "markdown",
   "id": "structural-secretariat",
   "metadata": {},
   "source": [
    "## Save the Raw HTML into a MongoDB"
   ]
  },
  {
   "cell_type": "code",
   "execution_count": 5,
   "id": "decent-contest",
   "metadata": {},
   "outputs": [],
   "source": [
    "client = MongoClient()\n",
    "db = client.basketball_reference"
   ]
  },
  {
   "cell_type": "code",
   "execution_count": 6,
   "id": "ordered-basement",
   "metadata": {},
   "outputs": [],
   "source": [
    "seasons = db.basketball_capstone1"
   ]
  },
  {
   "cell_type": "code",
   "execution_count": 7,
   "id": "medieval-russian",
   "metadata": {},
   "outputs": [
    {
     "data": {
      "text/plain": [
       "<pymongo.results.InsertOneResult at 0x7fdcedbe6280>"
      ]
     },
     "execution_count": 7,
     "metadata": {},
     "output_type": "execute_result"
    }
   ],
   "source": [
    "seasons.insert_one({'link':url,'html':r.text})"
   ]
  },
  {
   "cell_type": "markdown",
   "id": "proprietary-vision",
   "metadata": {},
   "source": [
    "## Parse the hypertext to get data with Beautiful Soup"
   ]
  },
  {
   "cell_type": "code",
   "execution_count": 8,
   "id": "quick-warrant",
   "metadata": {},
   "outputs": [],
   "source": [
    "soup = BeautifulSoup(r.text,'html.parser')"
   ]
  },
  {
   "cell_type": "code",
   "execution_count": 9,
   "id": "understanding-marking",
   "metadata": {},
   "outputs": [],
   "source": [
    "#print(soup.prettify())"
   ]
  },
  {
   "cell_type": "code",
   "execution_count": 10,
   "id": "discrete-complaint",
   "metadata": {},
   "outputs": [
    {
     "data": {
      "text/plain": [
       "<tr><th class=\"left\" csk=\"201810160BOS\" data-stat=\"date_game\" scope=\"row\"><a href=\"/boxscores/index.fcgi?month=10&amp;day=16&amp;year=2018\">Tue, Oct 16, 2018</a></th><td class=\"right\" data-stat=\"game_start_time\">8:00p</td><td class=\"left\" csk=\"PHI.201810160BOS\" data-stat=\"visitor_team_name\"><a href=\"/teams/PHI/2019.html\">Philadelphia 76ers</a></td><td class=\"right\" data-stat=\"visitor_pts\">87</td><td class=\"left\" csk=\"BOS.201810160BOS\" data-stat=\"home_team_name\"><a href=\"/teams/BOS/2019.html\">Boston Celtics</a></td><td class=\"right\" data-stat=\"home_pts\">105</td><td class=\"center\" data-stat=\"box_score_text\"><a href=\"/boxscores/201810160BOS.html\">Box Score</a></td><td class=\"center iz\" data-stat=\"overtimes\"></td><td class=\"right\" data-stat=\"attendance\">18,624</td><td class=\"left iz\" data-stat=\"game_remarks\"></td></tr>"
      ]
     },
     "execution_count": 10,
     "metadata": {},
     "output_type": "execute_result"
    }
   ],
   "source": [
    "soup.find_all('tr')[1] #get info for each game"
   ]
  },
  {
   "cell_type": "code",
   "execution_count": 11,
   "id": "sublime-baltimore",
   "metadata": {},
   "outputs": [
    {
     "data": {
      "text/plain": [
       "'Oct 16, 2018'"
      ]
     },
     "execution_count": 11,
     "metadata": {},
     "output_type": "execute_result"
    }
   ],
   "source": [
    "soup.find_all('tr')[1].find('a').text[5:] \n",
    "#get date for each game - removed day (all dates have a three letter abbrev. with a space and ','\n",
    "#five chars i.e. 'Tue, '"
   ]
  },
  {
   "cell_type": "code",
   "execution_count": 12,
   "id": "recognized-attachment",
   "metadata": {},
   "outputs": [
    {
     "data": {
      "text/plain": [
       "'Philadelphia 76ers'"
      ]
     },
     "execution_count": 12,
     "metadata": {},
     "output_type": "execute_result"
    }
   ],
   "source": [
    "soup.find_all('tr')[1].find_all('td','left')[0].text #get name of visiting team"
   ]
  },
  {
   "cell_type": "code",
   "execution_count": 13,
   "id": "framed-polls",
   "metadata": {},
   "outputs": [
    {
     "data": {
      "text/plain": [
       "'87'"
      ]
     },
     "execution_count": 13,
     "metadata": {},
     "output_type": "execute_result"
    }
   ],
   "source": [
    "soup.find_all('tr')[1].find_all('td','right')[1].text #get score of visiting team"
   ]
  },
  {
   "cell_type": "code",
   "execution_count": 14,
   "id": "settled-employer",
   "metadata": {},
   "outputs": [
    {
     "data": {
      "text/plain": [
       "'Boston Celtics'"
      ]
     },
     "execution_count": 14,
     "metadata": {},
     "output_type": "execute_result"
    }
   ],
   "source": [
    "soup.find_all('tr')[1].find_all('td','left')[1].text #get name of home team"
   ]
  },
  {
   "cell_type": "code",
   "execution_count": 15,
   "id": "extra-bracelet",
   "metadata": {},
   "outputs": [
    {
     "data": {
      "text/plain": [
       "'105'"
      ]
     },
     "execution_count": 15,
     "metadata": {},
     "output_type": "execute_result"
    }
   ],
   "source": [
    "soup.find_all('tr')[1].find_all('td','right')[2].text #get score of home team"
   ]
  },
  {
   "cell_type": "markdown",
   "id": "czech-elevation",
   "metadata": {},
   "source": [
    "## Gather information from other rows/games - games for the month"
   ]
  },
  {
   "cell_type": "code",
   "execution_count": 16,
   "id": "smoking-columbus",
   "metadata": {},
   "outputs": [
    {
     "name": "stdout",
     "output_type": "stream",
     "text": [
      "['Philadelphia 76ers', 'Oklahoma City Thunder', 'Milwaukee Bucks', 'Brooklyn Nets', 'Memphis Grizzlies', 'Miami Heat', 'Atlanta Hawks', 'Cleveland Cavaliers', 'New Orleans Pelicans', 'Minnesota Timberwolves', 'Utah Jazz', 'Denver Nuggets', 'Dallas Mavericks', 'Chicago Bulls', 'Miami Heat', 'Los Angeles Lakers', 'Charlotte Hornets', 'New York Knicks', 'Atlanta Hawks', 'Cleveland Cavaliers', 'Sacramento Kings', 'Boston Celtics', 'Indiana Pacers', 'Oklahoma City Thunder', 'Golden State Warriors', 'Brooklyn Nets', 'Toronto Raptors', 'Boston Celtics', 'Orlando Magic', 'Detroit Pistons', 'Charlotte Hornets', 'Minnesota Timberwolves', 'Phoenix Suns', 'San Antonio Spurs', 'Houston Rockets', 'Atlanta Hawks', 'Sacramento Kings', 'Golden State Warriors', 'Houston Rockets', 'Orlando Magic', 'Charlotte Hornets', 'New York Knicks', 'Indiana Pacers', 'Chicago Bulls', 'Memphis Grizzlies', 'Washington Wizards', 'Phoenix Suns', 'San Antonio Spurs', 'Philadelphia 76ers', 'Los Angeles Clippers', 'Sacramento Kings', 'Dallas Mavericks', 'Brooklyn Nets', 'New York Knicks', 'Minnesota Timberwolves', 'Charlotte Hornets', 'Utah Jazz', 'Indiana Pacers', 'Philadelphia 76ers', 'Los Angeles Lakers', 'Memphis Grizzlies', 'Washington Wizards', 'Cleveland Cavaliers', 'Portland Trail Blazers', 'Boston Celtics', 'Denver Nuggets', 'Chicago Bulls', 'Golden State Warriors', 'Dallas Mavericks', 'Los Angeles Clippers', 'Milwaukee Bucks', 'Brooklyn Nets', 'Washington Wizards', 'Boston Celtics', 'Utah Jazz', 'Chicago Bulls', 'Indiana Pacers', 'Charlotte Hornets', 'Phoenix Suns', 'Portland Trail Blazers', 'Orlando Magic', 'Los Angeles Lakers', 'Golden State Warriors', 'Utah Jazz', 'Phoenix Suns', 'Washington Wizards', 'Portland Trail Blazers', 'Atlanta Hawks', 'Sacramento Kings', 'Brooklyn Nets', 'Golden State Warriors', 'Toronto Raptors', 'Los Angeles Lakers', 'Dallas Mavericks', 'New Orleans Pelicans', 'Miami Heat', 'Atlanta Hawks', 'Sacramento Kings', 'Detroit Pistons', 'Philadelphia 76ers', 'Portland Trail Blazers', 'Washington Wizards', 'Los Angeles Clippers', 'Detroit Pistons', 'Denver Nuggets', 'Utah Jazz', 'Indiana Pacers', 'New Orleans Pelicans', 'Dallas Mavericks', 'San Antonio Spurs']\n"
     ]
    }
   ],
   "source": [
    "date = []\n",
    "visiting = []\n",
    "visiting_score = []\n",
    "home = []\n",
    "home_score = []\n",
    "\n",
    "for i,game in enumerate(soup.find_all('tr')):\n",
    "    if game.a != None: #skips the first row of the chart which are just chart labels \n",
    "        date.append(game.find('a').text[5:])\n",
    "        visiting.append(game.find_all('td','left')[0].text)\n",
    "        visiting_score.append(game.find_all('td','right')[1].text)\n",
    "        home.append(game.find_all('td','left')[1].text)\n",
    "        home_score.append(game.find_all('td','right')[2].text)\n",
    "print(visiting)"
   ]
  },
  {
   "cell_type": "markdown",
   "id": "innovative-letters",
   "metadata": {},
   "source": [
    "## Change columns of data to a DF to spot check"
   ]
  },
  {
   "cell_type": "code",
   "execution_count": 22,
   "id": "going-chain",
   "metadata": {},
   "outputs": [
    {
     "data": {
      "text/html": [
       "<div>\n",
       "<style scoped>\n",
       "    .dataframe tbody tr th:only-of-type {\n",
       "        vertical-align: middle;\n",
       "    }\n",
       "\n",
       "    .dataframe tbody tr th {\n",
       "        vertical-align: top;\n",
       "    }\n",
       "\n",
       "    .dataframe thead th {\n",
       "        text-align: right;\n",
       "    }\n",
       "</style>\n",
       "<table border=\"1\" class=\"dataframe\">\n",
       "  <thead>\n",
       "    <tr style=\"text-align: right;\">\n",
       "      <th></th>\n",
       "      <th>date</th>\n",
       "      <th>visiting_team</th>\n",
       "      <th>visiting_score</th>\n",
       "      <th>home_team</th>\n",
       "      <th>home_score</th>\n",
       "    </tr>\n",
       "  </thead>\n",
       "  <tbody>\n",
       "    <tr>\n",
       "      <th>0</th>\n",
       "      <td>Oct 16, 2018</td>\n",
       "      <td>Philadelphia 76ers</td>\n",
       "      <td>87</td>\n",
       "      <td>Boston Celtics</td>\n",
       "      <td>105</td>\n",
       "    </tr>\n",
       "    <tr>\n",
       "      <th>1</th>\n",
       "      <td>Oct 16, 2018</td>\n",
       "      <td>Oklahoma City Thunder</td>\n",
       "      <td>100</td>\n",
       "      <td>Golden State Warriors</td>\n",
       "      <td>108</td>\n",
       "    </tr>\n",
       "    <tr>\n",
       "      <th>2</th>\n",
       "      <td>Oct 17, 2018</td>\n",
       "      <td>Milwaukee Bucks</td>\n",
       "      <td>113</td>\n",
       "      <td>Charlotte Hornets</td>\n",
       "      <td>112</td>\n",
       "    </tr>\n",
       "    <tr>\n",
       "      <th>3</th>\n",
       "      <td>Oct 17, 2018</td>\n",
       "      <td>Brooklyn Nets</td>\n",
       "      <td>100</td>\n",
       "      <td>Detroit Pistons</td>\n",
       "      <td>103</td>\n",
       "    </tr>\n",
       "    <tr>\n",
       "      <th>4</th>\n",
       "      <td>Oct 17, 2018</td>\n",
       "      <td>Memphis Grizzlies</td>\n",
       "      <td>83</td>\n",
       "      <td>Indiana Pacers</td>\n",
       "      <td>111</td>\n",
       "    </tr>\n",
       "    <tr>\n",
       "      <th>5</th>\n",
       "      <td>Oct 17, 2018</td>\n",
       "      <td>Miami Heat</td>\n",
       "      <td>101</td>\n",
       "      <td>Orlando Magic</td>\n",
       "      <td>104</td>\n",
       "    </tr>\n",
       "    <tr>\n",
       "      <th>6</th>\n",
       "      <td>Oct 17, 2018</td>\n",
       "      <td>Atlanta Hawks</td>\n",
       "      <td>107</td>\n",
       "      <td>New York Knicks</td>\n",
       "      <td>126</td>\n",
       "    </tr>\n",
       "    <tr>\n",
       "      <th>7</th>\n",
       "      <td>Oct 17, 2018</td>\n",
       "      <td>Cleveland Cavaliers</td>\n",
       "      <td>104</td>\n",
       "      <td>Toronto Raptors</td>\n",
       "      <td>116</td>\n",
       "    </tr>\n",
       "    <tr>\n",
       "      <th>8</th>\n",
       "      <td>Oct 17, 2018</td>\n",
       "      <td>New Orleans Pelicans</td>\n",
       "      <td>131</td>\n",
       "      <td>Houston Rockets</td>\n",
       "      <td>112</td>\n",
       "    </tr>\n",
       "    <tr>\n",
       "      <th>9</th>\n",
       "      <td>Oct 17, 2018</td>\n",
       "      <td>Minnesota Timberwolves</td>\n",
       "      <td>108</td>\n",
       "      <td>San Antonio Spurs</td>\n",
       "      <td>112</td>\n",
       "    </tr>\n",
       "  </tbody>\n",
       "</table>\n",
       "</div>"
      ],
      "text/plain": [
       "           date           visiting_team visiting_score              home_team  \\\n",
       "0  Oct 16, 2018      Philadelphia 76ers             87         Boston Celtics   \n",
       "1  Oct 16, 2018   Oklahoma City Thunder            100  Golden State Warriors   \n",
       "2  Oct 17, 2018         Milwaukee Bucks            113      Charlotte Hornets   \n",
       "3  Oct 17, 2018           Brooklyn Nets            100        Detroit Pistons   \n",
       "4  Oct 17, 2018       Memphis Grizzlies             83         Indiana Pacers   \n",
       "5  Oct 17, 2018              Miami Heat            101          Orlando Magic   \n",
       "6  Oct 17, 2018           Atlanta Hawks            107        New York Knicks   \n",
       "7  Oct 17, 2018     Cleveland Cavaliers            104        Toronto Raptors   \n",
       "8  Oct 17, 2018    New Orleans Pelicans            131        Houston Rockets   \n",
       "9  Oct 17, 2018  Minnesota Timberwolves            108      San Antonio Spurs   \n",
       "\n",
       "  home_score  \n",
       "0        105  \n",
       "1        108  \n",
       "2        112  \n",
       "3        103  \n",
       "4        111  \n",
       "5        104  \n",
       "6        126  \n",
       "7        116  \n",
       "8        112  \n",
       "9        112  "
      ]
     },
     "execution_count": 22,
     "metadata": {},
     "output_type": "execute_result"
    }
   ],
   "source": [
    "oct1819 = pd.DataFrame({'date':date[:10],'visiting_team':visiting[:10],'visiting_score':visiting_score[:10],\n",
    "                  'home_team':home[:10], 'home_score':home_score[:10]})\n",
    "oct1819"
   ]
  },
  {
   "cell_type": "code",
   "execution_count": 23,
   "id": "amended-bibliography",
   "metadata": {},
   "outputs": [
    {
     "data": {
      "text/plain": [
       "date              object\n",
       "visiting_team     object\n",
       "visiting_score    object\n",
       "home_team         object\n",
       "home_score        object\n",
       "dtype: object"
      ]
     },
     "execution_count": 23,
     "metadata": {},
     "output_type": "execute_result"
    }
   ],
   "source": [
    "oct1819.dtypes #data types are not correct"
   ]
  },
  {
   "cell_type": "code",
   "execution_count": null,
   "id": "premium-budapest",
   "metadata": {},
   "outputs": [],
   "source": [
    "new_date = []\n",
    "for dates in date:\n",
    "    dates = dates.replace(',',\"\").replace(\" \",\"-\")\n",
    "    new = datetime.strptime(dates,'%b-%d-%Y')\n",
    "    test.append(new.date())\n",
    "test"
   ]
  },
  {
   "cell_type": "code",
   "execution_count": 34,
   "id": "optional-aircraft",
   "metadata": {},
   "outputs": [],
   "source": [
    "oct1819 = oct1819.astype({'visiting_score':'int64','home_score':'int64'}) #changing scores to int"
   ]
  },
  {
   "cell_type": "code",
   "execution_count": null,
   "id": "differential-advertiser",
   "metadata": {},
   "outputs": [],
   "source": []
  },
  {
   "cell_type": "code",
   "execution_count": 27,
   "id": "adverse-retention",
   "metadata": {},
   "outputs": [
    {
     "name": "stdout",
     "output_type": "stream",
     "text": [
      "2018-10-16\n"
     ]
    }
   ],
   "source": [
    "datestring = 'Oct 16, 2018'\n",
    "datestring = datestring.replace(',',\"\").replace(\" \",\"-\")\n",
    "dt = datetime.strptime(datestring,'%b-%d-%Y').date()\n",
    "print(dt)"
   ]
  },
  {
   "cell_type": "code",
   "execution_count": 29,
   "id": "binding-chick",
   "metadata": {},
   "outputs": [
    {
     "data": {
      "text/plain": [
       "[datetime.date(2018, 10, 16),\n",
       " datetime.date(2018, 10, 16),\n",
       " datetime.date(2018, 10, 17),\n",
       " datetime.date(2018, 10, 17),\n",
       " datetime.date(2018, 10, 17),\n",
       " datetime.date(2018, 10, 17),\n",
       " datetime.date(2018, 10, 17),\n",
       " datetime.date(2018, 10, 17),\n",
       " datetime.date(2018, 10, 17),\n",
       " datetime.date(2018, 10, 17),\n",
       " datetime.date(2018, 10, 17),\n",
       " datetime.date(2018, 10, 17),\n",
       " datetime.date(2018, 10, 17),\n",
       " datetime.date(2018, 10, 18),\n",
       " datetime.date(2018, 10, 18),\n",
       " datetime.date(2018, 10, 18),\n",
       " datetime.date(2018, 10, 19),\n",
       " datetime.date(2018, 10, 19),\n",
       " datetime.date(2018, 10, 19),\n",
       " datetime.date(2018, 10, 19),\n",
       " datetime.date(2018, 10, 19),\n",
       " datetime.date(2018, 10, 19),\n",
       " datetime.date(2018, 10, 19),\n",
       " datetime.date(2018, 10, 19),\n",
       " datetime.date(2018, 10, 19),\n",
       " datetime.date(2018, 10, 20),\n",
       " datetime.date(2018, 10, 20),\n",
       " datetime.date(2018, 10, 20),\n",
       " datetime.date(2018, 10, 20),\n",
       " datetime.date(2018, 10, 20),\n",
       " datetime.date(2018, 10, 20),\n",
       " datetime.date(2018, 10, 20),\n",
       " datetime.date(2018, 10, 20),\n",
       " datetime.date(2018, 10, 20),\n",
       " datetime.date(2018, 10, 20),\n",
       " datetime.date(2018, 10, 21),\n",
       " datetime.date(2018, 10, 21),\n",
       " datetime.date(2018, 10, 21),\n",
       " datetime.date(2018, 10, 21),\n",
       " datetime.date(2018, 10, 22),\n",
       " datetime.date(2018, 10, 22),\n",
       " datetime.date(2018, 10, 22),\n",
       " datetime.date(2018, 10, 22),\n",
       " datetime.date(2018, 10, 22),\n",
       " datetime.date(2018, 10, 22),\n",
       " datetime.date(2018, 10, 22),\n",
       " datetime.date(2018, 10, 22),\n",
       " datetime.date(2018, 10, 22),\n",
       " datetime.date(2018, 10, 23),\n",
       " datetime.date(2018, 10, 23),\n",
       " datetime.date(2018, 10, 23),\n",
       " datetime.date(2018, 10, 24),\n",
       " datetime.date(2018, 10, 24),\n",
       " datetime.date(2018, 10, 24),\n",
       " datetime.date(2018, 10, 24),\n",
       " datetime.date(2018, 10, 24),\n",
       " datetime.date(2018, 10, 24),\n",
       " datetime.date(2018, 10, 24),\n",
       " datetime.date(2018, 10, 24),\n",
       " datetime.date(2018, 10, 24),\n",
       " datetime.date(2018, 10, 24),\n",
       " datetime.date(2018, 10, 24),\n",
       " datetime.date(2018, 10, 25),\n",
       " datetime.date(2018, 10, 25),\n",
       " datetime.date(2018, 10, 25),\n",
       " datetime.date(2018, 10, 25),\n",
       " datetime.date(2018, 10, 26),\n",
       " datetime.date(2018, 10, 26),\n",
       " datetime.date(2018, 10, 26),\n",
       " datetime.date(2018, 10, 26),\n",
       " datetime.date(2018, 10, 26),\n",
       " datetime.date(2018, 10, 26),\n",
       " datetime.date(2018, 10, 26),\n",
       " datetime.date(2018, 10, 27),\n",
       " datetime.date(2018, 10, 27),\n",
       " datetime.date(2018, 10, 27),\n",
       " datetime.date(2018, 10, 27),\n",
       " datetime.date(2018, 10, 27),\n",
       " datetime.date(2018, 10, 27),\n",
       " datetime.date(2018, 10, 27),\n",
       " datetime.date(2018, 10, 27),\n",
       " datetime.date(2018, 10, 27),\n",
       " datetime.date(2018, 10, 28),\n",
       " datetime.date(2018, 10, 28),\n",
       " datetime.date(2018, 10, 28),\n",
       " datetime.date(2018, 10, 28),\n",
       " datetime.date(2018, 10, 29),\n",
       " datetime.date(2018, 10, 29),\n",
       " datetime.date(2018, 10, 29),\n",
       " datetime.date(2018, 10, 29),\n",
       " datetime.date(2018, 10, 29),\n",
       " datetime.date(2018, 10, 29),\n",
       " datetime.date(2018, 10, 29),\n",
       " datetime.date(2018, 10, 29),\n",
       " datetime.date(2018, 10, 29),\n",
       " datetime.date(2018, 10, 30),\n",
       " datetime.date(2018, 10, 30),\n",
       " datetime.date(2018, 10, 30),\n",
       " datetime.date(2018, 10, 30),\n",
       " datetime.date(2018, 10, 30),\n",
       " datetime.date(2018, 10, 30),\n",
       " datetime.date(2018, 10, 30),\n",
       " datetime.date(2018, 10, 30),\n",
       " datetime.date(2018, 10, 31),\n",
       " datetime.date(2018, 10, 31),\n",
       " datetime.date(2018, 10, 31),\n",
       " datetime.date(2018, 10, 31),\n",
       " datetime.date(2018, 10, 31),\n",
       " datetime.date(2018, 10, 31),\n",
       " datetime.date(2018, 10, 31)]"
      ]
     },
     "execution_count": 29,
     "metadata": {},
     "output_type": "execute_result"
    }
   ],
   "source": [
    "test = []\n",
    "for dates in date:\n",
    "    dates = dates.replace(',',\"\").replace(\" \",\"-\")\n",
    "    new = datetime.strptime(dates,'%b-%d-%Y')\n",
    "    test.append(new.date())\n",
    "test"
   ]
  },
  {
   "cell_type": "code",
   "execution_count": 33,
   "id": "respiratory-million",
   "metadata": {},
   "outputs": [
    {
     "data": {
      "text/plain": [
       "<bound method DataFrame.info of         dates\n",
       "0  2018-10-16\n",
       "1  2018-10-16\n",
       "2  2018-10-17\n",
       "3  2018-10-17\n",
       "4  2018-10-17\n",
       "5  2018-10-17\n",
       "6  2018-10-17\n",
       "7  2018-10-17\n",
       "8  2018-10-17\n",
       "9  2018-10-17>"
      ]
     },
     "execution_count": 33,
     "metadata": {},
     "output_type": "execute_result"
    }
   ],
   "source": [
    "test_df = pd.DataFrame({'dates':test[:10]})\n",
    "test_df.info"
   ]
  },
  {
   "cell_type": "code",
   "execution_count": null,
   "id": "falling-fitness",
   "metadata": {},
   "outputs": [],
   "source": []
  }
 ],
 "metadata": {
  "kernelspec": {
   "display_name": "Python 3",
   "language": "python",
   "name": "python3"
  },
  "language_info": {
   "codemirror_mode": {
    "name": "ipython",
    "version": 3
   },
   "file_extension": ".py",
   "mimetype": "text/x-python",
   "name": "python",
   "nbconvert_exporter": "python",
   "pygments_lexer": "ipython3",
   "version": "3.7.9"
  }
 },
 "nbformat": 4,
 "nbformat_minor": 5
}
