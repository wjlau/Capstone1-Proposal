{
 "cells": [
  {
   "cell_type": "code",
   "execution_count": 1,
   "id": "occasional-diversity",
   "metadata": {},
   "outputs": [],
   "source": [
    "from pymongo import MongoClient\n",
    "import pprint\n",
    "\n",
    "import pandas as pd\n",
    "import matplotlib.pyplot as plt\n",
    "\n",
    "import requests\n",
    "\n",
    "from bs4 import BeautifulSoup\n",
    "\n",
    "import json\n",
    "import datetime\n",
    "import calendar\n",
    "import time"
   ]
  },
  {
   "cell_type": "markdown",
   "id": "latin-distributor",
   "metadata": {},
   "source": [
    "## Request the webpage's raw HTML"
   ]
  },
  {
   "cell_type": "code",
   "execution_count": 2,
   "id": "plastic-registration",
   "metadata": {},
   "outputs": [],
   "source": [
    "url = 'https://www.basketball-reference.com/leagues/NBA_2019_games-october.html'\n",
    "r = requests.get(url)"
   ]
  },
  {
   "cell_type": "code",
   "execution_count": 3,
   "id": "silent-parks",
   "metadata": {},
   "outputs": [
    {
     "data": {
      "text/plain": [
       "200"
      ]
     },
     "execution_count": 3,
     "metadata": {},
     "output_type": "execute_result"
    }
   ],
   "source": [
    "r.status_code"
   ]
  },
  {
   "cell_type": "code",
   "execution_count": 4,
   "id": "blank-purple",
   "metadata": {},
   "outputs": [],
   "source": [
    "#pprint.pprint(r.text)"
   ]
  },
  {
   "cell_type": "markdown",
   "id": "athletic-fireplace",
   "metadata": {},
   "source": [
    "## Save the Raw HTML into a MongoDB"
   ]
  },
  {
   "cell_type": "code",
   "execution_count": 5,
   "id": "driving-updating",
   "metadata": {},
   "outputs": [],
   "source": [
    "client = MongoClient()\n",
    "db = client.capstone1_bball_reference"
   ]
  },
  {
   "cell_type": "code",
   "execution_count": 6,
   "id": "stuck-accuracy",
   "metadata": {},
   "outputs": [],
   "source": [
    "one_season = db.testing"
   ]
  },
  {
   "cell_type": "code",
   "execution_count": 7,
   "id": "certain-massage",
   "metadata": {},
   "outputs": [
    {
     "data": {
      "text/plain": [
       "<pymongo.results.InsertOneResult at 0x7f9b9d4efb40>"
      ]
     },
     "execution_count": 7,
     "metadata": {},
     "output_type": "execute_result"
    }
   ],
   "source": [
    "one_season.insert_one({'link':url,'html':r.text})"
   ]
  },
  {
   "cell_type": "markdown",
   "id": "parental-boards",
   "metadata": {},
   "source": [
    "## Parse the hypertext to get data with Beautiful Soup"
   ]
  },
  {
   "cell_type": "code",
   "execution_count": 8,
   "id": "hybrid-fluid",
   "metadata": {},
   "outputs": [],
   "source": [
    "soup = BeautifulSoup(r.text,'html.parser')"
   ]
  },
  {
   "cell_type": "code",
   "execution_count": 9,
   "id": "excessive-future",
   "metadata": {},
   "outputs": [],
   "source": [
    "#print(soup.prettify())"
   ]
  },
  {
   "cell_type": "code",
   "execution_count": 10,
   "id": "rural-strap",
   "metadata": {},
   "outputs": [
    {
     "data": {
      "text/plain": [
       "<tr><th class=\"left\" csk=\"201810160BOS\" data-stat=\"date_game\" scope=\"row\"><a href=\"/boxscores/index.fcgi?month=10&amp;day=16&amp;year=2018\">Tue, Oct 16, 2018</a></th><td class=\"right\" data-stat=\"game_start_time\">8:00p</td><td class=\"left\" csk=\"PHI.201810160BOS\" data-stat=\"visitor_team_name\"><a href=\"/teams/PHI/2019.html\">Philadelphia 76ers</a></td><td class=\"right\" data-stat=\"visitor_pts\">87</td><td class=\"left\" csk=\"BOS.201810160BOS\" data-stat=\"home_team_name\"><a href=\"/teams/BOS/2019.html\">Boston Celtics</a></td><td class=\"right\" data-stat=\"home_pts\">105</td><td class=\"center\" data-stat=\"box_score_text\"><a href=\"/boxscores/201810160BOS.html\">Box Score</a></td><td class=\"center iz\" data-stat=\"overtimes\"></td><td class=\"right\" data-stat=\"attendance\">18,624</td><td class=\"left iz\" data-stat=\"game_remarks\"></td></tr>"
      ]
     },
     "execution_count": 10,
     "metadata": {},
     "output_type": "execute_result"
    }
   ],
   "source": [
    "soup.find_all('tr')[1] #get info for each game"
   ]
  },
  {
   "cell_type": "code",
   "execution_count": 11,
   "id": "consolidated-distinction",
   "metadata": {},
   "outputs": [
    {
     "data": {
      "text/plain": [
       "'Oct 16, 2018'"
      ]
     },
     "execution_count": 11,
     "metadata": {},
     "output_type": "execute_result"
    }
   ],
   "source": [
    "soup.find_all('tr')[1].find('a').text[5:] \n",
    "#get date for each game - removed day (all dates have a three letter abbrev. with a space and ','\n",
    "#five chars i.e. 'Tue, '"
   ]
  },
  {
   "cell_type": "code",
   "execution_count": 12,
   "id": "amino-waterproof",
   "metadata": {},
   "outputs": [
    {
     "data": {
      "text/plain": [
       "'Philadelphia 76ers'"
      ]
     },
     "execution_count": 12,
     "metadata": {},
     "output_type": "execute_result"
    }
   ],
   "source": [
    "soup.find_all('tr')[1].find_all('td','left')[0].text #get name of visiting team"
   ]
  },
  {
   "cell_type": "code",
   "execution_count": 13,
   "id": "cultural-aspect",
   "metadata": {},
   "outputs": [
    {
     "data": {
      "text/plain": [
       "'87'"
      ]
     },
     "execution_count": 13,
     "metadata": {},
     "output_type": "execute_result"
    }
   ],
   "source": [
    "soup.find_all('tr')[1].find_all('td','right')[1].text #get score of visiting team"
   ]
  },
  {
   "cell_type": "code",
   "execution_count": 14,
   "id": "eligible-discussion",
   "metadata": {},
   "outputs": [
    {
     "data": {
      "text/plain": [
       "'Boston Celtics'"
      ]
     },
     "execution_count": 14,
     "metadata": {},
     "output_type": "execute_result"
    }
   ],
   "source": [
    "soup.find_all('tr')[1].find_all('td','left')[1].text #get name of home team"
   ]
  },
  {
   "cell_type": "code",
   "execution_count": 15,
   "id": "juvenile-conversation",
   "metadata": {},
   "outputs": [
    {
     "data": {
      "text/plain": [
       "'105'"
      ]
     },
     "execution_count": 15,
     "metadata": {},
     "output_type": "execute_result"
    }
   ],
   "source": [
    "soup.find_all('tr')[1].find_all('td','right')[2].text #get score of home team"
   ]
  },
  {
   "cell_type": "markdown",
   "id": "theoretical-philadelphia",
   "metadata": {},
   "source": [
    "## Testing other pages. Charts are not consistent - older seasons are missing 'Start (ET)' columns\n",
    "Spot checked - there isn't some specific season that the column was adopted. Some are sporadic. Original spot check looked like 'Start(ET)' column starts 1985-86 and after, however, after clicking around some more, 1994-1995 did not have such column."
   ]
  },
  {
   "cell_type": "code",
   "execution_count": 16,
   "id": "exposed-invitation",
   "metadata": {},
   "outputs": [
    {
     "data": {
      "text/plain": [
       "200"
      ]
     },
     "execution_count": 16,
     "metadata": {},
     "output_type": "execute_result"
    }
   ],
   "source": [
    "url = 'https://www.basketball-reference.com/leagues/NBA_1959_games-november.html'\n",
    "x = requests.get(url)\n",
    "x.status_code"
   ]
  },
  {
   "cell_type": "code",
   "execution_count": 17,
   "id": "peripheral-greece",
   "metadata": {},
   "outputs": [],
   "source": [
    "#pprint.pprint(x.text)"
   ]
  },
  {
   "cell_type": "code",
   "execution_count": 18,
   "id": "fixed-thought",
   "metadata": {},
   "outputs": [
    {
     "data": {
      "text/plain": [
       "<pymongo.results.InsertOneResult at 0x7f9b9d8ae2d0>"
      ]
     },
     "execution_count": 18,
     "metadata": {},
     "output_type": "execute_result"
    }
   ],
   "source": [
    "one_season.insert_one({'link':url,'html':x.text})"
   ]
  },
  {
   "cell_type": "code",
   "execution_count": 19,
   "id": "sudden-central",
   "metadata": {},
   "outputs": [],
   "source": [
    "soup2 = BeautifulSoup(x.text,'html.parser')"
   ]
  },
  {
   "cell_type": "code",
   "execution_count": 20,
   "id": "streaming-stake",
   "metadata": {},
   "outputs": [],
   "source": [
    "#print(soup2.prettify())"
   ]
  },
  {
   "cell_type": "code",
   "execution_count": 21,
   "id": "physical-recommendation",
   "metadata": {},
   "outputs": [
    {
     "data": {
      "text/plain": [
       "<tr><th class=\"left\" csk=\"195811010NYK\" data-stat=\"date_game\" scope=\"row\"><a href=\"/boxscores/index.fcgi?month=11&amp;day=1&amp;year=1958\">Sat, Nov 1, 1958</a></th><td class=\"left\" csk=\"PHW.195811010NYK\" data-stat=\"visitor_team_name\"><a href=\"/teams/PHW/1959.html\">Philadelphia Warriors</a></td><td class=\"right\" data-stat=\"visitor_pts\">111</td><td class=\"left\" csk=\"NYK.195811010NYK\" data-stat=\"home_team_name\"><a href=\"/teams/NYK/1959.html\">New York Knicks</a></td><td class=\"right\" data-stat=\"home_pts\">92</td><td class=\"center\" data-stat=\"box_score_text\"><a href=\"/boxscores/195811010NYK.html\">Box Score</a></td><td class=\"center iz\" data-stat=\"overtimes\"></td><td class=\"right iz\" data-stat=\"attendance\"></td><td class=\"left iz\" data-stat=\"game_remarks\"></td></tr>"
      ]
     },
     "execution_count": 21,
     "metadata": {},
     "output_type": "execute_result"
    }
   ],
   "source": [
    "soup2.find_all('tr')[1] #get info for each game"
   ]
  },
  {
   "cell_type": "code",
   "execution_count": 22,
   "id": "hollow-order",
   "metadata": {},
   "outputs": [
    {
     "data": {
      "text/plain": [
       "'Nov 1, 1958'"
      ]
     },
     "execution_count": 22,
     "metadata": {},
     "output_type": "execute_result"
    }
   ],
   "source": [
    "soup2.find_all('tr')[1].find('a').text[5:] \n",
    "#get date for each game - removed day (all dates have a three letter abbrev. with a space and ','\n",
    "#five chars i.e. 'Tue, "
   ]
  },
  {
   "cell_type": "code",
   "execution_count": 23,
   "id": "contemporary-recommendation",
   "metadata": {},
   "outputs": [
    {
     "data": {
      "text/plain": [
       "'Philadelphia Warriors'"
      ]
     },
     "execution_count": 23,
     "metadata": {},
     "output_type": "execute_result"
    }
   ],
   "source": [
    "soup2.find_all('tr')[1].find_all('td','left')[0].text #get name of visiting team"
   ]
  },
  {
   "cell_type": "code",
   "execution_count": 24,
   "id": "prescription-juice",
   "metadata": {},
   "outputs": [
    {
     "data": {
      "text/plain": [
       "'111'"
      ]
     },
     "execution_count": 24,
     "metadata": {},
     "output_type": "execute_result"
    }
   ],
   "source": [
    "soup2.find_all('tr')[1].find_all('td','right')[0].text #get score of visiting team - index at 0 instead of 1 because it does not have a Start (ET) column"
   ]
  },
  {
   "cell_type": "code",
   "execution_count": 25,
   "id": "pointed-yorkshire",
   "metadata": {},
   "outputs": [
    {
     "data": {
      "text/plain": [
       "'New York Knicks'"
      ]
     },
     "execution_count": 25,
     "metadata": {},
     "output_type": "execute_result"
    }
   ],
   "source": [
    "soup2.find_all('tr')[1].find_all('td','left')[1].text #get name of home team"
   ]
  },
  {
   "cell_type": "code",
   "execution_count": 26,
   "id": "destroyed-destruction",
   "metadata": {},
   "outputs": [
    {
     "data": {
      "text/plain": [
       "'92'"
      ]
     },
     "execution_count": 26,
     "metadata": {},
     "output_type": "execute_result"
    }
   ],
   "source": [
    "soup2.find_all('tr')[1].find_all('td','right')[1].text #get score of home team"
   ]
  },
  {
   "cell_type": "markdown",
   "id": "miniature-player",
   "metadata": {},
   "source": [
    "Spot checked - looks like there is either a Start (ET) column or there is not, there are no other changes to column names or number of columns. If this is the case, column counts will be either 9 or 10 depending on if it has the Start (ET) column. We can use this to dictate what index to pull from. This only affects pulling scores - team names are unaffected. (If there is a Start (ET) column the index will be 1 higher compared to when there is no Start (ET) column when pulling both visiting and home team scores)"
   ]
  },
  {
   "cell_type": "code",
   "execution_count": 27,
   "id": "funded-coral",
   "metadata": {},
   "outputs": [
    {
     "name": "stdout",
     "output_type": "stream",
     "text": [
      "87\n",
      "111\n"
     ]
    }
   ],
   "source": [
    "#check\n",
    "if len(soup.find_all('col')) == 9:\n",
    "    print(soup.find_all('tr')[1].find_all('td','right')[0].text)\n",
    "else:\n",
    "    print(soup.find_all('tr')[1].find_all('td','right')[1].text)\n",
    "\n",
    "if len(soup2.find_all('col')) == 9:\n",
    "    print(soup2.find_all('tr')[1].find_all('td','right')[0].text)\n",
    "else:\n",
    "    print(soup2.find_all('tr')[1].find_all('td','right')[1].text)"
   ]
  },
  {
   "cell_type": "markdown",
   "id": "wanted-madrid",
   "metadata": {},
   "source": [
    "## Ran into another issue. \"Notes\" column for some games denotes that the game was played elsewhere - not either teams' arenas"
   ]
  },
  {
   "cell_type": "raw",
   "id": "growing-essex",
   "metadata": {},
   "source": [
    "Pull in notes column. Since some arena's were neither of the playing team's arena, we will drop those rows from our data. (i.e. 1958-1959 visitor - New York Knicks vs home - Boston Celtics at Philadelpha, PA)"
   ]
  },
  {
   "cell_type": "code",
   "execution_count": 37,
   "id": "systematic-retention",
   "metadata": {},
   "outputs": [
    {
     "data": {
      "text/plain": [
       "''"
      ]
     },
     "execution_count": 37,
     "metadata": {},
     "output_type": "execute_result"
    }
   ],
   "source": [
    "soup2.find_all('tr')[1].find_all('td','left')[-1].text #difference in columns does not affect the the notes column - it is always the last column"
   ]
  },
  {
   "cell_type": "markdown",
   "id": "enhanced-chapel",
   "metadata": {},
   "source": [
    "## Gather information from other rows/games - games for the month"
   ]
  },
  {
   "cell_type": "code",
   "execution_count": 38,
   "id": "appointed-norfolk",
   "metadata": {},
   "outputs": [],
   "source": [
    "date = []\n",
    "visiting = []\n",
    "visiting_score = []\n",
    "home = []\n",
    "home_score = []\n",
    "season = []\n",
    "notes = []\n",
    "\n",
    "#2018-2019 season october example \n",
    "for i,game in enumerate(soup.find_all('tr')):\n",
    "    if game.a != None: #skips the chart label rows\n",
    "        datestring = game.find('a').text[5:]\n",
    "        dt = datetime.datetime.strptime(datestring,'%b %d, %Y') #change datestring to datetime object\n",
    "        date.append(dt)\n",
    "        visiting.append(game.find_all('td','left')[0].text)\n",
    "        home.append(game.find_all('td','left')[1].text)\n",
    "        season.append(soup.find_all('div','inactive')[0].find('li','index').text)\n",
    "        notes.append(game.find_all('td','left')[-1].text)\n",
    "        if len(soup.find_all('col'))==10: #takes care of the different column counts \n",
    "            visiting_score.append(int(game.find_all('td','right')[1].text))\n",
    "            home_score.append(int(game.find_all('td','right')[2].text))\n",
    "        else: \n",
    "            visiting_score.append(int(game.find_all('td','right')[0].text))\n",
    "            home_score.append(int(game.find_all('td','right')[1].text))\n",
    "        \n",
    "\n",
    "#1958-1959 season november example \n",
    "for i,game in enumerate(soup2.find_all('tr')):\n",
    "    if game.a != None: #skips the chart label rows\n",
    "        datestring = game.find('a').text[5:]\n",
    "        dt = datetime.datetime.strptime(datestring,'%b %d, %Y') #change datestring to datetime object\n",
    "        date.append(dt)\n",
    "        visiting.append(game.find_all('td','left')[0].text)\n",
    "        home.append(game.find_all('td','left')[1].text)\n",
    "        season.append(soup2.find_all('div','inactive')[0].find('li','index').text)\n",
    "        notes.append(game.find_all('td','left')[-1].text)\n",
    "        if len(soup2.find_all('col'))==10: #takes care of the different column counts \n",
    "            visiting_score.append(int(game.find_all('td','right')[1].text))\n",
    "            home_score.append(int(game.find_all('td','right')[2].text))\n",
    "        else: \n",
    "            visiting_score.append(int(game.find_all('td','right')[0].text))\n",
    "            home_score.append(int(game.find_all('td','right')[1].text))\n",
    "            "
   ]
  },
  {
   "cell_type": "markdown",
   "id": "freelance-valve",
   "metadata": {},
   "source": [
    "## Change columns of data to a DF to spot check"
   ]
  },
  {
   "cell_type": "code",
   "execution_count": 46,
   "id": "assured-hearts",
   "metadata": {},
   "outputs": [
    {
     "data": {
      "text/html": [
       "<div>\n",
       "<style scoped>\n",
       "    .dataframe tbody tr th:only-of-type {\n",
       "        vertical-align: middle;\n",
       "    }\n",
       "\n",
       "    .dataframe tbody tr th {\n",
       "        vertical-align: top;\n",
       "    }\n",
       "\n",
       "    .dataframe thead th {\n",
       "        text-align: right;\n",
       "    }\n",
       "</style>\n",
       "<table border=\"1\" class=\"dataframe\">\n",
       "  <thead>\n",
       "    <tr style=\"text-align: right;\">\n",
       "      <th></th>\n",
       "      <th>date</th>\n",
       "      <th>season</th>\n",
       "      <th>visiting_team</th>\n",
       "      <th>visiting_score</th>\n",
       "      <th>home_team</th>\n",
       "      <th>home_score</th>\n",
       "      <th>notes</th>\n",
       "    </tr>\n",
       "  </thead>\n",
       "  <tbody>\n",
       "    <tr>\n",
       "      <th>128</th>\n",
       "      <td>1958-11-13</td>\n",
       "      <td>1958-59 NBA Season</td>\n",
       "      <td>Minneapolis Lakers</td>\n",
       "      <td>110</td>\n",
       "      <td>Detroit Pistons</td>\n",
       "      <td>119</td>\n",
       "      <td>at New York, NY</td>\n",
       "    </tr>\n",
       "    <tr>\n",
       "      <th>138</th>\n",
       "      <td>1958-11-18</td>\n",
       "      <td>1958-59 NBA Season</td>\n",
       "      <td>Detroit Pistons</td>\n",
       "      <td>102</td>\n",
       "      <td>Boston Celtics</td>\n",
       "      <td>115</td>\n",
       "      <td>at St. Louis, MO</td>\n",
       "    </tr>\n",
       "    <tr>\n",
       "      <th>141</th>\n",
       "      <td>1958-11-21</td>\n",
       "      <td>1958-59 NBA Season</td>\n",
       "      <td>New York Knicks</td>\n",
       "      <td>112</td>\n",
       "      <td>Boston Celtics</td>\n",
       "      <td>106</td>\n",
       "      <td>at Philadelphia, PA</td>\n",
       "    </tr>\n",
       "    <tr>\n",
       "      <th>150</th>\n",
       "      <td>1958-11-24</td>\n",
       "      <td>1958-59 NBA Season</td>\n",
       "      <td>Minneapolis Lakers</td>\n",
       "      <td>104</td>\n",
       "      <td>Boston Celtics</td>\n",
       "      <td>123</td>\n",
       "      <td>at Charlotte, NC</td>\n",
       "    </tr>\n",
       "    <tr>\n",
       "      <th>152</th>\n",
       "      <td>1958-11-25</td>\n",
       "      <td>1958-59 NBA Season</td>\n",
       "      <td>St. Louis Hawks</td>\n",
       "      <td>105</td>\n",
       "      <td>Philadelphia Warriors</td>\n",
       "      <td>106</td>\n",
       "      <td>at New York, NY</td>\n",
       "    </tr>\n",
       "  </tbody>\n",
       "</table>\n",
       "</div>"
      ],
      "text/plain": [
       "          date               season       visiting_team  visiting_score  \\\n",
       "128 1958-11-13  1958-59 NBA Season   Minneapolis Lakers             110   \n",
       "138 1958-11-18  1958-59 NBA Season      Detroit Pistons             102   \n",
       "141 1958-11-21  1958-59 NBA Season      New York Knicks             112   \n",
       "150 1958-11-24  1958-59 NBA Season   Minneapolis Lakers             104   \n",
       "152 1958-11-25  1958-59 NBA Season      St. Louis Hawks             105   \n",
       "\n",
       "                 home_team  home_score                notes  \n",
       "128        Detroit Pistons         119      at New York, NY  \n",
       "138         Boston Celtics         115     at St. Louis, MO  \n",
       "141         Boston Celtics         106  at Philadelphia, PA  \n",
       "150         Boston Celtics         123     at Charlotte, NC  \n",
       "152  Philadelphia Warriors         106      at New York, NY  "
      ]
     },
     "execution_count": 46,
     "metadata": {},
     "output_type": "execute_result"
    }
   ],
   "source": [
    "oct1819dec5859 = pd.DataFrame({'date':date,'season':season,'visiting_team':visiting,'visiting_score':visiting_score,\n",
    "                  'home_team':home, 'home_score':home_score, 'notes':notes})\n",
    "oct1819dec5859[oct1819dec5859.notes != '']"
   ]
  },
  {
   "cell_type": "code",
   "execution_count": 31,
   "id": "forty-sequence",
   "metadata": {},
   "outputs": [
    {
     "data": {
      "text/plain": [
       "date              datetime64[ns]\n",
       "season                    object\n",
       "visiting_team             object\n",
       "visiting_score             int64\n",
       "home_team                 object\n",
       "home_score                 int64\n",
       "dtype: object"
      ]
     },
     "execution_count": 31,
     "metadata": {},
     "output_type": "execute_result"
    }
   ],
   "source": [
    "oct1819dec5859.dtypes #checking dtypes"
   ]
  },
  {
   "cell_type": "markdown",
   "id": "internal-treasury",
   "metadata": {},
   "source": [
    "## Gather games from other months of the season + games from other seasons"
   ]
  },
  {
   "cell_type": "markdown",
   "id": "floppy-status",
   "metadata": {},
   "source": [
    "### Request all HTML pages and store in MongoDB"
   ]
  },
  {
   "cell_type": "code",
   "execution_count": null,
   "id": "adapted-progressive",
   "metadata": {},
   "outputs": [],
   "source": [
    "links = []\n",
    "months = ['october','november','december','january','february','march','april','may','june','july','august','september']\n",
    "#most recent seasons run from oct - june (inclusive of playoffs) however, it used to run from oct - april with some seasons running into may (i.e. '69-70') \n",
    "link = 'https://www.basketball-reference.com/leagues/NBA_1950_games-october.html'\n",
    "for year in range(1950,datetime.datetime.now().year+1):\n",
    "    if year!=2020:\n",
    "#2020 season had two october months (spanned across years) because of covid. current year can pull from all the months where possible\n",
    "#(i.e no 404 error when requesting data), we can then drop rows where the game schedule is out but the game has not been played yet cause the scores will either be blank or zero\n",
    "        for month in months:\n",
    "            links.append(f'https://www.basketball-reference.com/leagues/NBA_{year}_games-{month}.html')\n",
    "    else:\n",
    "        for month in months:\n",
    "            if month != 'october':\n",
    "                links.append(f'https://www.basketball-reference.com/leagues/NBA_2020_games-{month}.html')\n",
    "        links.append(f'https://www.basketball-reference.com/leagues/NBA_2020_games-october-2019.html')\n",
    "        links.append(f'https://www.basketball-reference.com/leagues/NBA_2020_games-october-2020.html')\n",
    "len(links)"
   ]
  },
  {
   "cell_type": "code",
   "execution_count": null,
   "id": "protected-brook",
   "metadata": {},
   "outputs": [],
   "source": [
    "test = requests.get('https://www.basketball-reference.com/leagues/NBA_1950_games-may.html') #may does not exist in this season"
   ]
  },
  {
   "cell_type": "code",
   "execution_count": null,
   "id": "collaborative-premium",
   "metadata": {},
   "outputs": [],
   "source": [
    "test.status_code #testing to see what a month that doesn't exist will provide - can use this to filter those months out"
   ]
  },
  {
   "cell_type": "code",
   "execution_count": null,
   "id": "electric-american",
   "metadata": {},
   "outputs": [],
   "source": [
    "# basketball_charts = db.all_seasons\n",
    "# for i,link in enumerate(links):\n",
    "#     season_month = requests.get(link)\n",
    "#     if season_month.status_code != 404:\n",
    "#         basketball_charts.insert_one({'link':link,'html':season_month.text})\n",
    "#         print(f'Website link: {link}')\n",
    "#         time.sleep(2)"
   ]
  },
  {
   "cell_type": "code",
   "execution_count": null,
   "id": "eight-garden",
   "metadata": {},
   "outputs": [],
   "source": []
  },
  {
   "cell_type": "code",
   "execution_count": null,
   "id": "gorgeous-swedish",
   "metadata": {},
   "outputs": [],
   "source": []
  },
  {
   "cell_type": "code",
   "execution_count": null,
   "id": "russian-tunisia",
   "metadata": {},
   "outputs": [],
   "source": []
  },
  {
   "cell_type": "code",
   "execution_count": null,
   "id": "academic-validation",
   "metadata": {},
   "outputs": [],
   "source": []
  },
  {
   "cell_type": "code",
   "execution_count": null,
   "id": "pacific-calculation",
   "metadata": {},
   "outputs": [],
   "source": []
  }
 ],
 "metadata": {
  "kernelspec": {
   "display_name": "Python 3",
   "language": "python",
   "name": "python3"
  },
  "language_info": {
   "codemirror_mode": {
    "name": "ipython",
    "version": 3
   },
   "file_extension": ".py",
   "mimetype": "text/x-python",
   "name": "python",
   "nbconvert_exporter": "python",
   "pygments_lexer": "ipython3",
   "version": "3.7.9"
  }
 },
 "nbformat": 4,
 "nbformat_minor": 5
}
